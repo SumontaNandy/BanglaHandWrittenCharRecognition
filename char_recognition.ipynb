{
 "cells": [
  {
   "cell_type": "markdown",
   "id": "877fd30b",
   "metadata": {
    "papermill": {
     "duration": 0.011081,
     "end_time": "2024-02-26T03:52:26.511392",
     "exception": false,
     "start_time": "2024-02-26T03:52:26.500311",
     "status": "completed"
    },
    "tags": []
   },
   "source": [
    "## 1. Loading Data"
   ]
  },
  {
   "cell_type": "code",
   "execution_count": 1,
   "id": "ae59e1e4",
   "metadata": {
    "execution": {
     "iopub.execute_input": "2024-02-26T03:52:26.533423Z",
     "iopub.status.busy": "2024-02-26T03:52:26.533149Z",
     "iopub.status.idle": "2024-02-26T03:52:32.408082Z",
     "shell.execute_reply": "2024-02-26T03:52:32.406838Z"
    },
    "papermill": {
     "duration": 5.888884,
     "end_time": "2024-02-26T03:52:32.410855",
     "exception": false,
     "start_time": "2024-02-26T03:52:26.521971",
     "status": "completed"
    },
    "tags": []
   },
   "outputs": [],
   "source": [
    "import os\n",
    "\n",
    "import torch\n",
    "import torch.nn as nn\n",
    "import torchvision\n",
    "from torchvision import datasets, transforms\n",
    "from torch.utils.data import DataLoader\n",
    "\n",
    "try:\n",
    "    from torchinfo import summary\n",
    "except:\n",
    "    print(\"[INFO] Couldn't find torchinfo... installing it.\")\n",
    "    !pip install -q torchinfo\n",
    "    from torchinfo import summary"
   ]
  },
  {
   "cell_type": "code",
   "execution_count": 2,
   "id": "7668a5e2",
   "metadata": {
    "execution": {
     "iopub.execute_input": "2024-02-26T03:52:32.443609Z",
     "iopub.status.busy": "2024-02-26T03:52:32.442676Z",
     "iopub.status.idle": "2024-02-26T03:52:32.449924Z",
     "shell.execute_reply": "2024-02-26T03:52:32.449066Z"
    },
    "papermill": {
     "duration": 0.02755,
     "end_time": "2024-02-26T03:52:32.452179",
     "exception": false,
     "start_time": "2024-02-26T03:52:32.424629",
     "status": "completed"
    },
    "tags": []
   },
   "outputs": [],
   "source": [
    "torch.manual_seed(0)\n",
    "torch.cuda.manual_seed(0)"
   ]
  },
  {
   "cell_type": "code",
   "execution_count": 3,
   "id": "4cfa7c9e",
   "metadata": {
    "execution": {
     "iopub.execute_input": "2024-02-26T03:52:32.478524Z",
     "iopub.status.busy": "2024-02-26T03:52:32.478241Z",
     "iopub.status.idle": "2024-02-26T03:52:32.526812Z",
     "shell.execute_reply": "2024-02-26T03:52:32.525918Z"
    },
    "papermill": {
     "duration": 0.06362,
     "end_time": "2024-02-26T03:52:32.528969",
     "exception": false,
     "start_time": "2024-02-26T03:52:32.465349",
     "status": "completed"
    },
    "tags": []
   },
   "outputs": [
    {
     "data": {
      "text/plain": [
       "'cuda'"
      ]
     },
     "execution_count": 3,
     "metadata": {},
     "output_type": "execute_result"
    }
   ],
   "source": [
    "# Setup device agnostic code\n",
    "device = \"cuda\" if torch.cuda.is_available() else \"cpu\"\n",
    "device"
   ]
  },
  {
   "cell_type": "code",
   "execution_count": 4,
   "id": "4dd43960",
   "metadata": {
    "execution": {
     "iopub.execute_input": "2024-02-26T03:52:32.551651Z",
     "iopub.status.busy": "2024-02-26T03:52:32.551377Z",
     "iopub.status.idle": "2024-02-26T03:52:32.557081Z",
     "shell.execute_reply": "2024-02-26T03:52:32.556273Z"
    },
    "papermill": {
     "duration": 0.01923,
     "end_time": "2024-02-26T03:52:32.558908",
     "exception": false,
     "start_time": "2024-02-26T03:52:32.539678",
     "status": "completed"
    },
    "tags": []
   },
   "outputs": [],
   "source": [
    "NUM_WORKERS = os.cpu_count()\n",
    "BATCH_SIZE = 32\n",
    "\n",
    "def create_dataloader(data_dir: str,\n",
    "                      transform: transforms.Compose,\n",
    "                      batch_size: int=BATCH_SIZE,\n",
    "                      num_workers: int=NUM_WORKERS,\n",
    "                      shuffle=True):\n",
    "    \n",
    "    data = datasets.ImageFolder(data_dir, transform=transform)\n",
    "   \n",
    "    class_names = data.classes\n",
    "    \n",
    "    data_loader = DataLoader(data,\n",
    "                            batch_size=batch_size,\n",
    "                            shuffle=shuffle,\n",
    "                            num_workers=num_workers,\n",
    "                            pin_memory=True)\n",
    "\n",
    "    return data_loader, class_names"
   ]
  },
  {
   "cell_type": "code",
   "execution_count": 5,
   "id": "0cdd4afe",
   "metadata": {
    "execution": {
     "iopub.execute_input": "2024-02-26T03:52:32.580949Z",
     "iopub.status.busy": "2024-02-26T03:52:32.580664Z",
     "iopub.status.idle": "2024-02-26T03:52:32.584570Z",
     "shell.execute_reply": "2024-02-26T03:52:32.583842Z"
    },
    "papermill": {
     "duration": 0.016912,
     "end_time": "2024-02-26T03:52:32.586403",
     "exception": false,
     "start_time": "2024-02-26T03:52:32.569491",
     "status": "completed"
    },
    "tags": []
   },
   "outputs": [],
   "source": [
    "from pathlib import Path\n",
    "\n",
    "data_path = Path(\"/kaggle/input/banglalekhaisolated\")\n",
    "image_path = data_path / \"BanglaLekhaIsolated\""
   ]
  },
  {
   "cell_type": "code",
   "execution_count": 6,
   "id": "92ec7957",
   "metadata": {
    "execution": {
     "iopub.execute_input": "2024-02-26T03:52:32.608737Z",
     "iopub.status.busy": "2024-02-26T03:52:32.607992Z",
     "iopub.status.idle": "2024-02-26T03:52:32.612044Z",
     "shell.execute_reply": "2024-02-26T03:52:32.611391Z"
    },
    "papermill": {
     "duration": 0.017223,
     "end_time": "2024-02-26T03:52:32.614001",
     "exception": false,
     "start_time": "2024-02-26T03:52:32.596778",
     "status": "completed"
    },
    "tags": []
   },
   "outputs": [],
   "source": [
    "train_dir = image_path / \"train\"\n",
    "test_dir = image_path / \"test\"\n",
    "val_dir = image_path / \"val\""
   ]
  },
  {
   "cell_type": "markdown",
   "id": "5f43718f",
   "metadata": {
    "papermill": {
     "duration": 0.010397,
     "end_time": "2024-02-26T03:52:32.634863",
     "exception": false,
     "start_time": "2024-02-26T03:52:32.624466",
     "status": "completed"
    },
    "tags": []
   },
   "source": [
    "## 2. Importing Model"
   ]
  },
  {
   "cell_type": "code",
   "execution_count": 7,
   "id": "ee7f0b48",
   "metadata": {
    "execution": {
     "iopub.execute_input": "2024-02-26T03:52:32.657092Z",
     "iopub.status.busy": "2024-02-26T03:52:32.656804Z",
     "iopub.status.idle": "2024-02-26T03:52:32.660492Z",
     "shell.execute_reply": "2024-02-26T03:52:32.659689Z"
    },
    "papermill": {
     "duration": 0.016972,
     "end_time": "2024-02-26T03:52:32.662403",
     "exception": false,
     "start_time": "2024-02-26T03:52:32.645431",
     "status": "completed"
    },
    "tags": []
   },
   "outputs": [],
   "source": [
    "# import timm\n",
    "\n",
    "# model = timm.create_model('maxvit_base_tf_512.in21k_ft_in1k', pretrained=True)"
   ]
  },
  {
   "cell_type": "code",
   "execution_count": 8,
   "id": "c2572f42",
   "metadata": {
    "execution": {
     "iopub.execute_input": "2024-02-26T03:52:32.684600Z",
     "iopub.status.busy": "2024-02-26T03:52:32.684333Z",
     "iopub.status.idle": "2024-02-26T03:52:33.268147Z",
     "shell.execute_reply": "2024-02-26T03:52:33.267249Z"
    },
    "papermill": {
     "duration": 0.597321,
     "end_time": "2024-02-26T03:52:33.270371",
     "exception": false,
     "start_time": "2024-02-26T03:52:32.673050",
     "status": "completed"
    },
    "tags": []
   },
   "outputs": [
    {
     "name": "stderr",
     "output_type": "stream",
     "text": [
      "Downloading: \"https://download.pytorch.org/models/efficientnet_b0_rwightman-7f5810bc.pth\" to /root/.cache/torch/hub/checkpoints/efficientnet_b0_rwightman-7f5810bc.pth\n",
      "100%|██████████| 20.5M/20.5M [00:00<00:00, 74.9MB/s]\n"
     ]
    }
   ],
   "source": [
    "weights = torchvision.models.EfficientNet_B0_Weights.DEFAULT # .DEFAULT = best available weights \n",
    "model = torchvision.models.efficientnet_b0(weights=weights)\n",
    "\n",
    "#model # uncomment to output (it's very long)"
   ]
  },
  {
   "cell_type": "code",
   "execution_count": 9,
   "id": "0ff5feb2",
   "metadata": {
    "execution": {
     "iopub.execute_input": "2024-02-26T03:52:33.295785Z",
     "iopub.status.busy": "2024-02-26T03:52:33.295099Z",
     "iopub.status.idle": "2024-02-26T03:52:33.299027Z",
     "shell.execute_reply": "2024-02-26T03:52:33.298144Z"
    },
    "papermill": {
     "duration": 0.018126,
     "end_time": "2024-02-26T03:52:33.301056",
     "exception": false,
     "start_time": "2024-02-26T03:52:33.282930",
     "status": "completed"
    },
    "tags": []
   },
   "outputs": [],
   "source": [
    "# data_config = timm.data.resolve_model_data_config(model)\n",
    "# train_transforms = timm.data.create_transform(**data_config, is_training=True)\n",
    "# eval_transforms = timm.data.create_transform(**data_config, is_training=False)"
   ]
  },
  {
   "cell_type": "code",
   "execution_count": 10,
   "id": "2fddf5dc",
   "metadata": {
    "execution": {
     "iopub.execute_input": "2024-02-26T03:52:33.324008Z",
     "iopub.status.busy": "2024-02-26T03:52:33.323728Z",
     "iopub.status.idle": "2024-02-26T03:52:33.327591Z",
     "shell.execute_reply": "2024-02-26T03:52:33.326830Z"
    },
    "papermill": {
     "duration": 0.017371,
     "end_time": "2024-02-26T03:52:33.329348",
     "exception": false,
     "start_time": "2024-02-26T03:52:33.311977",
     "status": "completed"
    },
    "tags": []
   },
   "outputs": [],
   "source": [
    "# Get the transforms used to create our pretrained weights\n",
    "train_transforms = eval_transforms = weights.transforms()"
   ]
  },
  {
   "cell_type": "markdown",
   "id": "74791a78",
   "metadata": {
    "papermill": {
     "duration": 0.010802,
     "end_time": "2024-02-26T03:52:33.351034",
     "exception": false,
     "start_time": "2024-02-26T03:52:33.340232",
     "status": "completed"
    },
    "tags": []
   },
   "source": [
    "### 3. Transforming Data"
   ]
  },
  {
   "cell_type": "code",
   "execution_count": 11,
   "id": "2666268c",
   "metadata": {
    "execution": {
     "iopub.execute_input": "2024-02-26T03:52:33.375406Z",
     "iopub.status.busy": "2024-02-26T03:52:33.375142Z",
     "iopub.status.idle": "2024-02-26T03:53:53.435198Z",
     "shell.execute_reply": "2024-02-26T03:53:53.434368Z"
    },
    "papermill": {
     "duration": 80.075738,
     "end_time": "2024-02-26T03:53:53.437583",
     "exception": false,
     "start_time": "2024-02-26T03:52:33.361845",
     "status": "completed"
    },
    "tags": []
   },
   "outputs": [],
   "source": [
    "train_dataloader, class_names = create_dataloader(data_dir=train_dir, transform=train_transforms)\n",
    "val_dataloader, _ = create_dataloader(data_dir=val_dir, transform=eval_transforms, shuffle=False)\n",
    "test_dataloader, _ = create_dataloader(data_dir=test_dir, transform=eval_transforms, shuffle=False)"
   ]
  },
  {
   "cell_type": "markdown",
   "id": "5916acc6",
   "metadata": {
    "papermill": {
     "duration": 0.011128,
     "end_time": "2024-02-26T03:53:53.460143",
     "exception": false,
     "start_time": "2024-02-26T03:53:53.449015",
     "status": "completed"
    },
    "tags": []
   },
   "source": [
    "### 4. Changing the model head"
   ]
  },
  {
   "cell_type": "code",
   "execution_count": 12,
   "id": "6be8bf35",
   "metadata": {
    "execution": {
     "iopub.execute_input": "2024-02-26T03:53:53.483458Z",
     "iopub.status.busy": "2024-02-26T03:53:53.482817Z",
     "iopub.status.idle": "2024-02-26T03:53:53.486664Z",
     "shell.execute_reply": "2024-02-26T03:53:53.485833Z"
    },
    "papermill": {
     "duration": 0.017557,
     "end_time": "2024-02-26T03:53:53.488611",
     "exception": false,
     "start_time": "2024-02-26T03:53:53.471054",
     "status": "completed"
    },
    "tags": []
   },
   "outputs": [],
   "source": [
    "# '''Freezing the parameters'''\n",
    "# for param in model.parameters():\n",
    "#     param.requires_grad = False"
   ]
  },
  {
   "cell_type": "code",
   "execution_count": 13,
   "id": "3be3747b",
   "metadata": {
    "collapsed": true,
    "execution": {
     "iopub.execute_input": "2024-02-26T03:53:53.511793Z",
     "iopub.status.busy": "2024-02-26T03:53:53.511156Z",
     "iopub.status.idle": "2024-02-26T03:53:53.522055Z",
     "shell.execute_reply": "2024-02-26T03:53:53.521207Z"
    },
    "jupyter": {
     "outputs_hidden": true
    },
    "papermill": {
     "duration": 0.024349,
     "end_time": "2024-02-26T03:53:53.523808",
     "exception": false,
     "start_time": "2024-02-26T03:53:53.499459",
     "status": "completed"
    },
    "tags": []
   },
   "outputs": [
    {
     "data": {
      "text/plain": [
       "EfficientNet(\n",
       "  (features): Sequential(\n",
       "    (0): Conv2dNormActivation(\n",
       "      (0): Conv2d(3, 32, kernel_size=(3, 3), stride=(2, 2), padding=(1, 1), bias=False)\n",
       "      (1): BatchNorm2d(32, eps=1e-05, momentum=0.1, affine=True, track_running_stats=True)\n",
       "      (2): SiLU(inplace=True)\n",
       "    )\n",
       "    (1): Sequential(\n",
       "      (0): MBConv(\n",
       "        (block): Sequential(\n",
       "          (0): Conv2dNormActivation(\n",
       "            (0): Conv2d(32, 32, kernel_size=(3, 3), stride=(1, 1), padding=(1, 1), groups=32, bias=False)\n",
       "            (1): BatchNorm2d(32, eps=1e-05, momentum=0.1, affine=True, track_running_stats=True)\n",
       "            (2): SiLU(inplace=True)\n",
       "          )\n",
       "          (1): SqueezeExcitation(\n",
       "            (avgpool): AdaptiveAvgPool2d(output_size=1)\n",
       "            (fc1): Conv2d(32, 8, kernel_size=(1, 1), stride=(1, 1))\n",
       "            (fc2): Conv2d(8, 32, kernel_size=(1, 1), stride=(1, 1))\n",
       "            (activation): SiLU(inplace=True)\n",
       "            (scale_activation): Sigmoid()\n",
       "          )\n",
       "          (2): Conv2dNormActivation(\n",
       "            (0): Conv2d(32, 16, kernel_size=(1, 1), stride=(1, 1), bias=False)\n",
       "            (1): BatchNorm2d(16, eps=1e-05, momentum=0.1, affine=True, track_running_stats=True)\n",
       "          )\n",
       "        )\n",
       "        (stochastic_depth): StochasticDepth(p=0.0, mode=row)\n",
       "      )\n",
       "    )\n",
       "    (2): Sequential(\n",
       "      (0): MBConv(\n",
       "        (block): Sequential(\n",
       "          (0): Conv2dNormActivation(\n",
       "            (0): Conv2d(16, 96, kernel_size=(1, 1), stride=(1, 1), bias=False)\n",
       "            (1): BatchNorm2d(96, eps=1e-05, momentum=0.1, affine=True, track_running_stats=True)\n",
       "            (2): SiLU(inplace=True)\n",
       "          )\n",
       "          (1): Conv2dNormActivation(\n",
       "            (0): Conv2d(96, 96, kernel_size=(3, 3), stride=(2, 2), padding=(1, 1), groups=96, bias=False)\n",
       "            (1): BatchNorm2d(96, eps=1e-05, momentum=0.1, affine=True, track_running_stats=True)\n",
       "            (2): SiLU(inplace=True)\n",
       "          )\n",
       "          (2): SqueezeExcitation(\n",
       "            (avgpool): AdaptiveAvgPool2d(output_size=1)\n",
       "            (fc1): Conv2d(96, 4, kernel_size=(1, 1), stride=(1, 1))\n",
       "            (fc2): Conv2d(4, 96, kernel_size=(1, 1), stride=(1, 1))\n",
       "            (activation): SiLU(inplace=True)\n",
       "            (scale_activation): Sigmoid()\n",
       "          )\n",
       "          (3): Conv2dNormActivation(\n",
       "            (0): Conv2d(96, 24, kernel_size=(1, 1), stride=(1, 1), bias=False)\n",
       "            (1): BatchNorm2d(24, eps=1e-05, momentum=0.1, affine=True, track_running_stats=True)\n",
       "          )\n",
       "        )\n",
       "        (stochastic_depth): StochasticDepth(p=0.0125, mode=row)\n",
       "      )\n",
       "      (1): MBConv(\n",
       "        (block): Sequential(\n",
       "          (0): Conv2dNormActivation(\n",
       "            (0): Conv2d(24, 144, kernel_size=(1, 1), stride=(1, 1), bias=False)\n",
       "            (1): BatchNorm2d(144, eps=1e-05, momentum=0.1, affine=True, track_running_stats=True)\n",
       "            (2): SiLU(inplace=True)\n",
       "          )\n",
       "          (1): Conv2dNormActivation(\n",
       "            (0): Conv2d(144, 144, kernel_size=(3, 3), stride=(1, 1), padding=(1, 1), groups=144, bias=False)\n",
       "            (1): BatchNorm2d(144, eps=1e-05, momentum=0.1, affine=True, track_running_stats=True)\n",
       "            (2): SiLU(inplace=True)\n",
       "          )\n",
       "          (2): SqueezeExcitation(\n",
       "            (avgpool): AdaptiveAvgPool2d(output_size=1)\n",
       "            (fc1): Conv2d(144, 6, kernel_size=(1, 1), stride=(1, 1))\n",
       "            (fc2): Conv2d(6, 144, kernel_size=(1, 1), stride=(1, 1))\n",
       "            (activation): SiLU(inplace=True)\n",
       "            (scale_activation): Sigmoid()\n",
       "          )\n",
       "          (3): Conv2dNormActivation(\n",
       "            (0): Conv2d(144, 24, kernel_size=(1, 1), stride=(1, 1), bias=False)\n",
       "            (1): BatchNorm2d(24, eps=1e-05, momentum=0.1, affine=True, track_running_stats=True)\n",
       "          )\n",
       "        )\n",
       "        (stochastic_depth): StochasticDepth(p=0.025, mode=row)\n",
       "      )\n",
       "    )\n",
       "    (3): Sequential(\n",
       "      (0): MBConv(\n",
       "        (block): Sequential(\n",
       "          (0): Conv2dNormActivation(\n",
       "            (0): Conv2d(24, 144, kernel_size=(1, 1), stride=(1, 1), bias=False)\n",
       "            (1): BatchNorm2d(144, eps=1e-05, momentum=0.1, affine=True, track_running_stats=True)\n",
       "            (2): SiLU(inplace=True)\n",
       "          )\n",
       "          (1): Conv2dNormActivation(\n",
       "            (0): Conv2d(144, 144, kernel_size=(5, 5), stride=(2, 2), padding=(2, 2), groups=144, bias=False)\n",
       "            (1): BatchNorm2d(144, eps=1e-05, momentum=0.1, affine=True, track_running_stats=True)\n",
       "            (2): SiLU(inplace=True)\n",
       "          )\n",
       "          (2): SqueezeExcitation(\n",
       "            (avgpool): AdaptiveAvgPool2d(output_size=1)\n",
       "            (fc1): Conv2d(144, 6, kernel_size=(1, 1), stride=(1, 1))\n",
       "            (fc2): Conv2d(6, 144, kernel_size=(1, 1), stride=(1, 1))\n",
       "            (activation): SiLU(inplace=True)\n",
       "            (scale_activation): Sigmoid()\n",
       "          )\n",
       "          (3): Conv2dNormActivation(\n",
       "            (0): Conv2d(144, 40, kernel_size=(1, 1), stride=(1, 1), bias=False)\n",
       "            (1): BatchNorm2d(40, eps=1e-05, momentum=0.1, affine=True, track_running_stats=True)\n",
       "          )\n",
       "        )\n",
       "        (stochastic_depth): StochasticDepth(p=0.037500000000000006, mode=row)\n",
       "      )\n",
       "      (1): MBConv(\n",
       "        (block): Sequential(\n",
       "          (0): Conv2dNormActivation(\n",
       "            (0): Conv2d(40, 240, kernel_size=(1, 1), stride=(1, 1), bias=False)\n",
       "            (1): BatchNorm2d(240, eps=1e-05, momentum=0.1, affine=True, track_running_stats=True)\n",
       "            (2): SiLU(inplace=True)\n",
       "          )\n",
       "          (1): Conv2dNormActivation(\n",
       "            (0): Conv2d(240, 240, kernel_size=(5, 5), stride=(1, 1), padding=(2, 2), groups=240, bias=False)\n",
       "            (1): BatchNorm2d(240, eps=1e-05, momentum=0.1, affine=True, track_running_stats=True)\n",
       "            (2): SiLU(inplace=True)\n",
       "          )\n",
       "          (2): SqueezeExcitation(\n",
       "            (avgpool): AdaptiveAvgPool2d(output_size=1)\n",
       "            (fc1): Conv2d(240, 10, kernel_size=(1, 1), stride=(1, 1))\n",
       "            (fc2): Conv2d(10, 240, kernel_size=(1, 1), stride=(1, 1))\n",
       "            (activation): SiLU(inplace=True)\n",
       "            (scale_activation): Sigmoid()\n",
       "          )\n",
       "          (3): Conv2dNormActivation(\n",
       "            (0): Conv2d(240, 40, kernel_size=(1, 1), stride=(1, 1), bias=False)\n",
       "            (1): BatchNorm2d(40, eps=1e-05, momentum=0.1, affine=True, track_running_stats=True)\n",
       "          )\n",
       "        )\n",
       "        (stochastic_depth): StochasticDepth(p=0.05, mode=row)\n",
       "      )\n",
       "    )\n",
       "    (4): Sequential(\n",
       "      (0): MBConv(\n",
       "        (block): Sequential(\n",
       "          (0): Conv2dNormActivation(\n",
       "            (0): Conv2d(40, 240, kernel_size=(1, 1), stride=(1, 1), bias=False)\n",
       "            (1): BatchNorm2d(240, eps=1e-05, momentum=0.1, affine=True, track_running_stats=True)\n",
       "            (2): SiLU(inplace=True)\n",
       "          )\n",
       "          (1): Conv2dNormActivation(\n",
       "            (0): Conv2d(240, 240, kernel_size=(3, 3), stride=(2, 2), padding=(1, 1), groups=240, bias=False)\n",
       "            (1): BatchNorm2d(240, eps=1e-05, momentum=0.1, affine=True, track_running_stats=True)\n",
       "            (2): SiLU(inplace=True)\n",
       "          )\n",
       "          (2): SqueezeExcitation(\n",
       "            (avgpool): AdaptiveAvgPool2d(output_size=1)\n",
       "            (fc1): Conv2d(240, 10, kernel_size=(1, 1), stride=(1, 1))\n",
       "            (fc2): Conv2d(10, 240, kernel_size=(1, 1), stride=(1, 1))\n",
       "            (activation): SiLU(inplace=True)\n",
       "            (scale_activation): Sigmoid()\n",
       "          )\n",
       "          (3): Conv2dNormActivation(\n",
       "            (0): Conv2d(240, 80, kernel_size=(1, 1), stride=(1, 1), bias=False)\n",
       "            (1): BatchNorm2d(80, eps=1e-05, momentum=0.1, affine=True, track_running_stats=True)\n",
       "          )\n",
       "        )\n",
       "        (stochastic_depth): StochasticDepth(p=0.0625, mode=row)\n",
       "      )\n",
       "      (1): MBConv(\n",
       "        (block): Sequential(\n",
       "          (0): Conv2dNormActivation(\n",
       "            (0): Conv2d(80, 480, kernel_size=(1, 1), stride=(1, 1), bias=False)\n",
       "            (1): BatchNorm2d(480, eps=1e-05, momentum=0.1, affine=True, track_running_stats=True)\n",
       "            (2): SiLU(inplace=True)\n",
       "          )\n",
       "          (1): Conv2dNormActivation(\n",
       "            (0): Conv2d(480, 480, kernel_size=(3, 3), stride=(1, 1), padding=(1, 1), groups=480, bias=False)\n",
       "            (1): BatchNorm2d(480, eps=1e-05, momentum=0.1, affine=True, track_running_stats=True)\n",
       "            (2): SiLU(inplace=True)\n",
       "          )\n",
       "          (2): SqueezeExcitation(\n",
       "            (avgpool): AdaptiveAvgPool2d(output_size=1)\n",
       "            (fc1): Conv2d(480, 20, kernel_size=(1, 1), stride=(1, 1))\n",
       "            (fc2): Conv2d(20, 480, kernel_size=(1, 1), stride=(1, 1))\n",
       "            (activation): SiLU(inplace=True)\n",
       "            (scale_activation): Sigmoid()\n",
       "          )\n",
       "          (3): Conv2dNormActivation(\n",
       "            (0): Conv2d(480, 80, kernel_size=(1, 1), stride=(1, 1), bias=False)\n",
       "            (1): BatchNorm2d(80, eps=1e-05, momentum=0.1, affine=True, track_running_stats=True)\n",
       "          )\n",
       "        )\n",
       "        (stochastic_depth): StochasticDepth(p=0.07500000000000001, mode=row)\n",
       "      )\n",
       "      (2): MBConv(\n",
       "        (block): Sequential(\n",
       "          (0): Conv2dNormActivation(\n",
       "            (0): Conv2d(80, 480, kernel_size=(1, 1), stride=(1, 1), bias=False)\n",
       "            (1): BatchNorm2d(480, eps=1e-05, momentum=0.1, affine=True, track_running_stats=True)\n",
       "            (2): SiLU(inplace=True)\n",
       "          )\n",
       "          (1): Conv2dNormActivation(\n",
       "            (0): Conv2d(480, 480, kernel_size=(3, 3), stride=(1, 1), padding=(1, 1), groups=480, bias=False)\n",
       "            (1): BatchNorm2d(480, eps=1e-05, momentum=0.1, affine=True, track_running_stats=True)\n",
       "            (2): SiLU(inplace=True)\n",
       "          )\n",
       "          (2): SqueezeExcitation(\n",
       "            (avgpool): AdaptiveAvgPool2d(output_size=1)\n",
       "            (fc1): Conv2d(480, 20, kernel_size=(1, 1), stride=(1, 1))\n",
       "            (fc2): Conv2d(20, 480, kernel_size=(1, 1), stride=(1, 1))\n",
       "            (activation): SiLU(inplace=True)\n",
       "            (scale_activation): Sigmoid()\n",
       "          )\n",
       "          (3): Conv2dNormActivation(\n",
       "            (0): Conv2d(480, 80, kernel_size=(1, 1), stride=(1, 1), bias=False)\n",
       "            (1): BatchNorm2d(80, eps=1e-05, momentum=0.1, affine=True, track_running_stats=True)\n",
       "          )\n",
       "        )\n",
       "        (stochastic_depth): StochasticDepth(p=0.08750000000000001, mode=row)\n",
       "      )\n",
       "    )\n",
       "    (5): Sequential(\n",
       "      (0): MBConv(\n",
       "        (block): Sequential(\n",
       "          (0): Conv2dNormActivation(\n",
       "            (0): Conv2d(80, 480, kernel_size=(1, 1), stride=(1, 1), bias=False)\n",
       "            (1): BatchNorm2d(480, eps=1e-05, momentum=0.1, affine=True, track_running_stats=True)\n",
       "            (2): SiLU(inplace=True)\n",
       "          )\n",
       "          (1): Conv2dNormActivation(\n",
       "            (0): Conv2d(480, 480, kernel_size=(5, 5), stride=(1, 1), padding=(2, 2), groups=480, bias=False)\n",
       "            (1): BatchNorm2d(480, eps=1e-05, momentum=0.1, affine=True, track_running_stats=True)\n",
       "            (2): SiLU(inplace=True)\n",
       "          )\n",
       "          (2): SqueezeExcitation(\n",
       "            (avgpool): AdaptiveAvgPool2d(output_size=1)\n",
       "            (fc1): Conv2d(480, 20, kernel_size=(1, 1), stride=(1, 1))\n",
       "            (fc2): Conv2d(20, 480, kernel_size=(1, 1), stride=(1, 1))\n",
       "            (activation): SiLU(inplace=True)\n",
       "            (scale_activation): Sigmoid()\n",
       "          )\n",
       "          (3): Conv2dNormActivation(\n",
       "            (0): Conv2d(480, 112, kernel_size=(1, 1), stride=(1, 1), bias=False)\n",
       "            (1): BatchNorm2d(112, eps=1e-05, momentum=0.1, affine=True, track_running_stats=True)\n",
       "          )\n",
       "        )\n",
       "        (stochastic_depth): StochasticDepth(p=0.1, mode=row)\n",
       "      )\n",
       "      (1): MBConv(\n",
       "        (block): Sequential(\n",
       "          (0): Conv2dNormActivation(\n",
       "            (0): Conv2d(112, 672, kernel_size=(1, 1), stride=(1, 1), bias=False)\n",
       "            (1): BatchNorm2d(672, eps=1e-05, momentum=0.1, affine=True, track_running_stats=True)\n",
       "            (2): SiLU(inplace=True)\n",
       "          )\n",
       "          (1): Conv2dNormActivation(\n",
       "            (0): Conv2d(672, 672, kernel_size=(5, 5), stride=(1, 1), padding=(2, 2), groups=672, bias=False)\n",
       "            (1): BatchNorm2d(672, eps=1e-05, momentum=0.1, affine=True, track_running_stats=True)\n",
       "            (2): SiLU(inplace=True)\n",
       "          )\n",
       "          (2): SqueezeExcitation(\n",
       "            (avgpool): AdaptiveAvgPool2d(output_size=1)\n",
       "            (fc1): Conv2d(672, 28, kernel_size=(1, 1), stride=(1, 1))\n",
       "            (fc2): Conv2d(28, 672, kernel_size=(1, 1), stride=(1, 1))\n",
       "            (activation): SiLU(inplace=True)\n",
       "            (scale_activation): Sigmoid()\n",
       "          )\n",
       "          (3): Conv2dNormActivation(\n",
       "            (0): Conv2d(672, 112, kernel_size=(1, 1), stride=(1, 1), bias=False)\n",
       "            (1): BatchNorm2d(112, eps=1e-05, momentum=0.1, affine=True, track_running_stats=True)\n",
       "          )\n",
       "        )\n",
       "        (stochastic_depth): StochasticDepth(p=0.1125, mode=row)\n",
       "      )\n",
       "      (2): MBConv(\n",
       "        (block): Sequential(\n",
       "          (0): Conv2dNormActivation(\n",
       "            (0): Conv2d(112, 672, kernel_size=(1, 1), stride=(1, 1), bias=False)\n",
       "            (1): BatchNorm2d(672, eps=1e-05, momentum=0.1, affine=True, track_running_stats=True)\n",
       "            (2): SiLU(inplace=True)\n",
       "          )\n",
       "          (1): Conv2dNormActivation(\n",
       "            (0): Conv2d(672, 672, kernel_size=(5, 5), stride=(1, 1), padding=(2, 2), groups=672, bias=False)\n",
       "            (1): BatchNorm2d(672, eps=1e-05, momentum=0.1, affine=True, track_running_stats=True)\n",
       "            (2): SiLU(inplace=True)\n",
       "          )\n",
       "          (2): SqueezeExcitation(\n",
       "            (avgpool): AdaptiveAvgPool2d(output_size=1)\n",
       "            (fc1): Conv2d(672, 28, kernel_size=(1, 1), stride=(1, 1))\n",
       "            (fc2): Conv2d(28, 672, kernel_size=(1, 1), stride=(1, 1))\n",
       "            (activation): SiLU(inplace=True)\n",
       "            (scale_activation): Sigmoid()\n",
       "          )\n",
       "          (3): Conv2dNormActivation(\n",
       "            (0): Conv2d(672, 112, kernel_size=(1, 1), stride=(1, 1), bias=False)\n",
       "            (1): BatchNorm2d(112, eps=1e-05, momentum=0.1, affine=True, track_running_stats=True)\n",
       "          )\n",
       "        )\n",
       "        (stochastic_depth): StochasticDepth(p=0.125, mode=row)\n",
       "      )\n",
       "    )\n",
       "    (6): Sequential(\n",
       "      (0): MBConv(\n",
       "        (block): Sequential(\n",
       "          (0): Conv2dNormActivation(\n",
       "            (0): Conv2d(112, 672, kernel_size=(1, 1), stride=(1, 1), bias=False)\n",
       "            (1): BatchNorm2d(672, eps=1e-05, momentum=0.1, affine=True, track_running_stats=True)\n",
       "            (2): SiLU(inplace=True)\n",
       "          )\n",
       "          (1): Conv2dNormActivation(\n",
       "            (0): Conv2d(672, 672, kernel_size=(5, 5), stride=(2, 2), padding=(2, 2), groups=672, bias=False)\n",
       "            (1): BatchNorm2d(672, eps=1e-05, momentum=0.1, affine=True, track_running_stats=True)\n",
       "            (2): SiLU(inplace=True)\n",
       "          )\n",
       "          (2): SqueezeExcitation(\n",
       "            (avgpool): AdaptiveAvgPool2d(output_size=1)\n",
       "            (fc1): Conv2d(672, 28, kernel_size=(1, 1), stride=(1, 1))\n",
       "            (fc2): Conv2d(28, 672, kernel_size=(1, 1), stride=(1, 1))\n",
       "            (activation): SiLU(inplace=True)\n",
       "            (scale_activation): Sigmoid()\n",
       "          )\n",
       "          (3): Conv2dNormActivation(\n",
       "            (0): Conv2d(672, 192, kernel_size=(1, 1), stride=(1, 1), bias=False)\n",
       "            (1): BatchNorm2d(192, eps=1e-05, momentum=0.1, affine=True, track_running_stats=True)\n",
       "          )\n",
       "        )\n",
       "        (stochastic_depth): StochasticDepth(p=0.1375, mode=row)\n",
       "      )\n",
       "      (1): MBConv(\n",
       "        (block): Sequential(\n",
       "          (0): Conv2dNormActivation(\n",
       "            (0): Conv2d(192, 1152, kernel_size=(1, 1), stride=(1, 1), bias=False)\n",
       "            (1): BatchNorm2d(1152, eps=1e-05, momentum=0.1, affine=True, track_running_stats=True)\n",
       "            (2): SiLU(inplace=True)\n",
       "          )\n",
       "          (1): Conv2dNormActivation(\n",
       "            (0): Conv2d(1152, 1152, kernel_size=(5, 5), stride=(1, 1), padding=(2, 2), groups=1152, bias=False)\n",
       "            (1): BatchNorm2d(1152, eps=1e-05, momentum=0.1, affine=True, track_running_stats=True)\n",
       "            (2): SiLU(inplace=True)\n",
       "          )\n",
       "          (2): SqueezeExcitation(\n",
       "            (avgpool): AdaptiveAvgPool2d(output_size=1)\n",
       "            (fc1): Conv2d(1152, 48, kernel_size=(1, 1), stride=(1, 1))\n",
       "            (fc2): Conv2d(48, 1152, kernel_size=(1, 1), stride=(1, 1))\n",
       "            (activation): SiLU(inplace=True)\n",
       "            (scale_activation): Sigmoid()\n",
       "          )\n",
       "          (3): Conv2dNormActivation(\n",
       "            (0): Conv2d(1152, 192, kernel_size=(1, 1), stride=(1, 1), bias=False)\n",
       "            (1): BatchNorm2d(192, eps=1e-05, momentum=0.1, affine=True, track_running_stats=True)\n",
       "          )\n",
       "        )\n",
       "        (stochastic_depth): StochasticDepth(p=0.15000000000000002, mode=row)\n",
       "      )\n",
       "      (2): MBConv(\n",
       "        (block): Sequential(\n",
       "          (0): Conv2dNormActivation(\n",
       "            (0): Conv2d(192, 1152, kernel_size=(1, 1), stride=(1, 1), bias=False)\n",
       "            (1): BatchNorm2d(1152, eps=1e-05, momentum=0.1, affine=True, track_running_stats=True)\n",
       "            (2): SiLU(inplace=True)\n",
       "          )\n",
       "          (1): Conv2dNormActivation(\n",
       "            (0): Conv2d(1152, 1152, kernel_size=(5, 5), stride=(1, 1), padding=(2, 2), groups=1152, bias=False)\n",
       "            (1): BatchNorm2d(1152, eps=1e-05, momentum=0.1, affine=True, track_running_stats=True)\n",
       "            (2): SiLU(inplace=True)\n",
       "          )\n",
       "          (2): SqueezeExcitation(\n",
       "            (avgpool): AdaptiveAvgPool2d(output_size=1)\n",
       "            (fc1): Conv2d(1152, 48, kernel_size=(1, 1), stride=(1, 1))\n",
       "            (fc2): Conv2d(48, 1152, kernel_size=(1, 1), stride=(1, 1))\n",
       "            (activation): SiLU(inplace=True)\n",
       "            (scale_activation): Sigmoid()\n",
       "          )\n",
       "          (3): Conv2dNormActivation(\n",
       "            (0): Conv2d(1152, 192, kernel_size=(1, 1), stride=(1, 1), bias=False)\n",
       "            (1): BatchNorm2d(192, eps=1e-05, momentum=0.1, affine=True, track_running_stats=True)\n",
       "          )\n",
       "        )\n",
       "        (stochastic_depth): StochasticDepth(p=0.1625, mode=row)\n",
       "      )\n",
       "      (3): MBConv(\n",
       "        (block): Sequential(\n",
       "          (0): Conv2dNormActivation(\n",
       "            (0): Conv2d(192, 1152, kernel_size=(1, 1), stride=(1, 1), bias=False)\n",
       "            (1): BatchNorm2d(1152, eps=1e-05, momentum=0.1, affine=True, track_running_stats=True)\n",
       "            (2): SiLU(inplace=True)\n",
       "          )\n",
       "          (1): Conv2dNormActivation(\n",
       "            (0): Conv2d(1152, 1152, kernel_size=(5, 5), stride=(1, 1), padding=(2, 2), groups=1152, bias=False)\n",
       "            (1): BatchNorm2d(1152, eps=1e-05, momentum=0.1, affine=True, track_running_stats=True)\n",
       "            (2): SiLU(inplace=True)\n",
       "          )\n",
       "          (2): SqueezeExcitation(\n",
       "            (avgpool): AdaptiveAvgPool2d(output_size=1)\n",
       "            (fc1): Conv2d(1152, 48, kernel_size=(1, 1), stride=(1, 1))\n",
       "            (fc2): Conv2d(48, 1152, kernel_size=(1, 1), stride=(1, 1))\n",
       "            (activation): SiLU(inplace=True)\n",
       "            (scale_activation): Sigmoid()\n",
       "          )\n",
       "          (3): Conv2dNormActivation(\n",
       "            (0): Conv2d(1152, 192, kernel_size=(1, 1), stride=(1, 1), bias=False)\n",
       "            (1): BatchNorm2d(192, eps=1e-05, momentum=0.1, affine=True, track_running_stats=True)\n",
       "          )\n",
       "        )\n",
       "        (stochastic_depth): StochasticDepth(p=0.17500000000000002, mode=row)\n",
       "      )\n",
       "    )\n",
       "    (7): Sequential(\n",
       "      (0): MBConv(\n",
       "        (block): Sequential(\n",
       "          (0): Conv2dNormActivation(\n",
       "            (0): Conv2d(192, 1152, kernel_size=(1, 1), stride=(1, 1), bias=False)\n",
       "            (1): BatchNorm2d(1152, eps=1e-05, momentum=0.1, affine=True, track_running_stats=True)\n",
       "            (2): SiLU(inplace=True)\n",
       "          )\n",
       "          (1): Conv2dNormActivation(\n",
       "            (0): Conv2d(1152, 1152, kernel_size=(3, 3), stride=(1, 1), padding=(1, 1), groups=1152, bias=False)\n",
       "            (1): BatchNorm2d(1152, eps=1e-05, momentum=0.1, affine=True, track_running_stats=True)\n",
       "            (2): SiLU(inplace=True)\n",
       "          )\n",
       "          (2): SqueezeExcitation(\n",
       "            (avgpool): AdaptiveAvgPool2d(output_size=1)\n",
       "            (fc1): Conv2d(1152, 48, kernel_size=(1, 1), stride=(1, 1))\n",
       "            (fc2): Conv2d(48, 1152, kernel_size=(1, 1), stride=(1, 1))\n",
       "            (activation): SiLU(inplace=True)\n",
       "            (scale_activation): Sigmoid()\n",
       "          )\n",
       "          (3): Conv2dNormActivation(\n",
       "            (0): Conv2d(1152, 320, kernel_size=(1, 1), stride=(1, 1), bias=False)\n",
       "            (1): BatchNorm2d(320, eps=1e-05, momentum=0.1, affine=True, track_running_stats=True)\n",
       "          )\n",
       "        )\n",
       "        (stochastic_depth): StochasticDepth(p=0.1875, mode=row)\n",
       "      )\n",
       "    )\n",
       "    (8): Conv2dNormActivation(\n",
       "      (0): Conv2d(320, 1280, kernel_size=(1, 1), stride=(1, 1), bias=False)\n",
       "      (1): BatchNorm2d(1280, eps=1e-05, momentum=0.1, affine=True, track_running_stats=True)\n",
       "      (2): SiLU(inplace=True)\n",
       "    )\n",
       "  )\n",
       "  (avgpool): AdaptiveAvgPool2d(output_size=1)\n",
       "  (classifier): Sequential(\n",
       "    (0): Dropout(p=0.2, inplace=True)\n",
       "    (1): Linear(in_features=1280, out_features=1000, bias=True)\n",
       "  )\n",
       ")"
      ]
     },
     "execution_count": 13,
     "metadata": {},
     "output_type": "execute_result"
    }
   ],
   "source": [
    "model"
   ]
  },
  {
   "cell_type": "code",
   "execution_count": 14,
   "id": "8f9ebbb3",
   "metadata": {
    "execution": {
     "iopub.execute_input": "2024-02-26T03:53:53.548367Z",
     "iopub.status.busy": "2024-02-26T03:53:53.548099Z",
     "iopub.status.idle": "2024-02-26T03:53:53.554430Z",
     "shell.execute_reply": "2024-02-26T03:53:53.553759Z"
    },
    "papermill": {
     "duration": 0.020825,
     "end_time": "2024-02-26T03:53:53.556201",
     "exception": false,
     "start_time": "2024-02-26T03:53:53.535376",
     "status": "completed"
    },
    "tags": []
   },
   "outputs": [],
   "source": [
    "output_shape = len(class_names)\n",
    "model.classifier = torch.nn.Sequential(\n",
    "    torch.nn.Dropout(p=0.2, inplace=True), \n",
    "    torch.nn.Linear(in_features=1280, \n",
    "                    out_features=output_shape, \n",
    "                    bias=True))"
   ]
  },
  {
   "cell_type": "code",
   "execution_count": 15,
   "id": "f6ed65bb",
   "metadata": {
    "execution": {
     "iopub.execute_input": "2024-02-26T03:53:53.580552Z",
     "iopub.status.busy": "2024-02-26T03:53:53.580314Z",
     "iopub.status.idle": "2024-02-26T03:53:53.583833Z",
     "shell.execute_reply": "2024-02-26T03:53:53.583024Z"
    },
    "papermill": {
     "duration": 0.017707,
     "end_time": "2024-02-26T03:53:53.585635",
     "exception": false,
     "start_time": "2024-02-26T03:53:53.567928",
     "status": "completed"
    },
    "tags": []
   },
   "outputs": [],
   "source": [
    "# model.head.fc = nn.Linear(in_features=768, out_features=len(class_names))\n",
    "# model.head"
   ]
  },
  {
   "cell_type": "code",
   "execution_count": 16,
   "id": "768cf9a9",
   "metadata": {
    "execution": {
     "iopub.execute_input": "2024-02-26T03:53:53.609610Z",
     "iopub.status.busy": "2024-02-26T03:53:53.609348Z",
     "iopub.status.idle": "2024-02-26T03:53:53.612815Z",
     "shell.execute_reply": "2024-02-26T03:53:53.612018Z"
    },
    "papermill": {
     "duration": 0.017602,
     "end_time": "2024-02-26T03:53:53.614755",
     "exception": false,
     "start_time": "2024-02-26T03:53:53.597153",
     "status": "completed"
    },
    "tags": []
   },
   "outputs": [],
   "source": [
    "# PATH = '/kaggle/input/banglacharrecognition/models/best_model.pth'\n",
    "# model.load_state_dict(torch.load(PATH))"
   ]
  },
  {
   "cell_type": "code",
   "execution_count": 17,
   "id": "458d0dc9",
   "metadata": {
    "collapsed": true,
    "execution": {
     "iopub.execute_input": "2024-02-26T03:53:53.639975Z",
     "iopub.status.busy": "2024-02-26T03:53:53.639680Z",
     "iopub.status.idle": "2024-02-26T03:53:54.816231Z",
     "shell.execute_reply": "2024-02-26T03:53:54.815289Z"
    },
    "jupyter": {
     "outputs_hidden": true
    },
    "papermill": {
     "duration": 1.192157,
     "end_time": "2024-02-26T03:53:54.818596",
     "exception": false,
     "start_time": "2024-02-26T03:53:53.626439",
     "status": "completed"
    },
    "tags": []
   },
   "outputs": [
    {
     "data": {
      "text/plain": [
       "============================================================================================================================================\n",
       "Layer (type (var_name))                                      Input Shape          Output Shape         Param #              Trainable\n",
       "============================================================================================================================================\n",
       "EfficientNet (EfficientNet)                                  [32, 3, 512, 512]    [32, 84]             --                   True\n",
       "├─Sequential (features)                                      [32, 3, 512, 512]    [32, 1280, 16, 16]   --                   True\n",
       "│    └─Conv2dNormActivation (0)                              [32, 3, 512, 512]    [32, 32, 256, 256]   --                   True\n",
       "│    │    └─Conv2d (0)                                       [32, 3, 512, 512]    [32, 32, 256, 256]   864                  True\n",
       "│    │    └─BatchNorm2d (1)                                  [32, 32, 256, 256]   [32, 32, 256, 256]   64                   True\n",
       "│    │    └─SiLU (2)                                         [32, 32, 256, 256]   [32, 32, 256, 256]   --                   --\n",
       "│    └─Sequential (1)                                        [32, 32, 256, 256]   [32, 16, 256, 256]   --                   True\n",
       "│    │    └─MBConv (0)                                       [32, 32, 256, 256]   [32, 16, 256, 256]   1,448                True\n",
       "│    └─Sequential (2)                                        [32, 16, 256, 256]   [32, 24, 128, 128]   --                   True\n",
       "│    │    └─MBConv (0)                                       [32, 16, 256, 256]   [32, 24, 128, 128]   6,004                True\n",
       "│    │    └─MBConv (1)                                       [32, 24, 128, 128]   [32, 24, 128, 128]   10,710               True\n",
       "│    └─Sequential (3)                                        [32, 24, 128, 128]   [32, 40, 64, 64]     --                   True\n",
       "│    │    └─MBConv (0)                                       [32, 24, 128, 128]   [32, 40, 64, 64]     15,350               True\n",
       "│    │    └─MBConv (1)                                       [32, 40, 64, 64]     [32, 40, 64, 64]     31,290               True\n",
       "│    └─Sequential (4)                                        [32, 40, 64, 64]     [32, 80, 32, 32]     --                   True\n",
       "│    │    └─MBConv (0)                                       [32, 40, 64, 64]     [32, 80, 32, 32]     37,130               True\n",
       "│    │    └─MBConv (1)                                       [32, 80, 32, 32]     [32, 80, 32, 32]     102,900              True\n",
       "│    │    └─MBConv (2)                                       [32, 80, 32, 32]     [32, 80, 32, 32]     102,900              True\n",
       "│    └─Sequential (5)                                        [32, 80, 32, 32]     [32, 112, 32, 32]    --                   True\n",
       "│    │    └─MBConv (0)                                       [32, 80, 32, 32]     [32, 112, 32, 32]    126,004              True\n",
       "│    │    └─MBConv (1)                                       [32, 112, 32, 32]    [32, 112, 32, 32]    208,572              True\n",
       "│    │    └─MBConv (2)                                       [32, 112, 32, 32]    [32, 112, 32, 32]    208,572              True\n",
       "│    └─Sequential (6)                                        [32, 112, 32, 32]    [32, 192, 16, 16]    --                   True\n",
       "│    │    └─MBConv (0)                                       [32, 112, 32, 32]    [32, 192, 16, 16]    262,492              True\n",
       "│    │    └─MBConv (1)                                       [32, 192, 16, 16]    [32, 192, 16, 16]    587,952              True\n",
       "│    │    └─MBConv (2)                                       [32, 192, 16, 16]    [32, 192, 16, 16]    587,952              True\n",
       "│    │    └─MBConv (3)                                       [32, 192, 16, 16]    [32, 192, 16, 16]    587,952              True\n",
       "│    └─Sequential (7)                                        [32, 192, 16, 16]    [32, 320, 16, 16]    --                   True\n",
       "│    │    └─MBConv (0)                                       [32, 192, 16, 16]    [32, 320, 16, 16]    717,232              True\n",
       "│    └─Conv2dNormActivation (8)                              [32, 320, 16, 16]    [32, 1280, 16, 16]   --                   True\n",
       "│    │    └─Conv2d (0)                                       [32, 320, 16, 16]    [32, 1280, 16, 16]   409,600              True\n",
       "│    │    └─BatchNorm2d (1)                                  [32, 1280, 16, 16]   [32, 1280, 16, 16]   2,560                True\n",
       "│    │    └─SiLU (2)                                         [32, 1280, 16, 16]   [32, 1280, 16, 16]   --                   --\n",
       "├─AdaptiveAvgPool2d (avgpool)                                [32, 1280, 16, 16]   [32, 1280, 1, 1]     --                   --\n",
       "├─Sequential (classifier)                                    [32, 1280]           [32, 84]             --                   True\n",
       "│    └─Dropout (0)                                           [32, 1280]           [32, 1280]           --                   --\n",
       "│    └─Linear (1)                                            [32, 1280]           [32, 84]             107,604              True\n",
       "============================================================================================================================================\n",
       "Total params: 4,115,152\n",
       "Trainable params: 4,115,152\n",
       "Non-trainable params: 0\n",
       "Total mult-adds (G): 64.21\n",
       "============================================================================================================================================\n",
       "Input size (MB): 100.66\n",
       "Forward/backward pass size (MB): 18025.34\n",
       "Params size (MB): 16.46\n",
       "Estimated Total Size (MB): 18142.46\n",
       "============================================================================================================================================"
      ]
     },
     "execution_count": 17,
     "metadata": {},
     "output_type": "execute_result"
    }
   ],
   "source": [
    "summary(model, \n",
    "        input_size=(32, 3, 512, 512), # (batch_size, color_channels, height, width)\n",
    "        verbose=0,\n",
    "        col_names=[\"input_size\", \"output_size\", \"num_params\", \"trainable\"],\n",
    "        col_width=20,\n",
    "        row_settings=[\"var_names\"]\n",
    ")"
   ]
  },
  {
   "cell_type": "code",
   "execution_count": 18,
   "id": "12bd4336",
   "metadata": {
    "execution": {
     "iopub.execute_input": "2024-02-26T03:53:54.844746Z",
     "iopub.status.busy": "2024-02-26T03:53:54.844467Z",
     "iopub.status.idle": "2024-02-26T03:53:54.852201Z",
     "shell.execute_reply": "2024-02-26T03:53:54.851373Z"
    },
    "papermill": {
     "duration": 0.023175,
     "end_time": "2024-02-26T03:53:54.854193",
     "exception": false,
     "start_time": "2024-02-26T03:53:54.831018",
     "status": "completed"
    },
    "tags": []
   },
   "outputs": [],
   "source": [
    "model = model.to(device)"
   ]
  },
  {
   "cell_type": "markdown",
   "id": "59c037ee",
   "metadata": {
    "papermill": {
     "duration": 0.011482,
     "end_time": "2024-02-26T03:53:54.877833",
     "exception": false,
     "start_time": "2024-02-26T03:53:54.866351",
     "status": "completed"
    },
    "tags": []
   },
   "source": [
    "### 5. Defining loss and optimizer"
   ]
  },
  {
   "cell_type": "code",
   "execution_count": 19,
   "id": "01bd385f",
   "metadata": {
    "execution": {
     "iopub.execute_input": "2024-02-26T03:53:54.902906Z",
     "iopub.status.busy": "2024-02-26T03:53:54.902316Z",
     "iopub.status.idle": "2024-02-26T03:53:54.908077Z",
     "shell.execute_reply": "2024-02-26T03:53:54.907223Z"
    },
    "papermill": {
     "duration": 0.020298,
     "end_time": "2024-02-26T03:53:54.910077",
     "exception": false,
     "start_time": "2024-02-26T03:53:54.889779",
     "status": "completed"
    },
    "tags": []
   },
   "outputs": [],
   "source": [
    "loss_fn = nn.CrossEntropyLoss()\n",
    "optimizer = torch.optim.Adam(model.parameters(), lr=0.001)"
   ]
  },
  {
   "cell_type": "markdown",
   "id": "38f3131e",
   "metadata": {
    "papermill": {
     "duration": 0.01168,
     "end_time": "2024-02-26T03:53:54.933721",
     "exception": false,
     "start_time": "2024-02-26T03:53:54.922041",
     "status": "completed"
    },
    "tags": []
   },
   "source": [
    "### 6. Perfomance metrics"
   ]
  },
  {
   "cell_type": "code",
   "execution_count": 20,
   "id": "c95b14d6",
   "metadata": {
    "execution": {
     "iopub.execute_input": "2024-02-26T03:53:54.959292Z",
     "iopub.status.busy": "2024-02-26T03:53:54.959004Z",
     "iopub.status.idle": "2024-02-26T03:53:56.559966Z",
     "shell.execute_reply": "2024-02-26T03:53:56.559185Z"
    },
    "papermill": {
     "duration": 1.616031,
     "end_time": "2024-02-26T03:53:56.562212",
     "exception": false,
     "start_time": "2024-02-26T03:53:54.946181",
     "status": "completed"
    },
    "tags": []
   },
   "outputs": [],
   "source": [
    "from torchmetrics import Accuracy, Precision, Recall, F1Score, ConfusionMatrix\n",
    "from torchmetrics import Metric\n",
    "\n",
    "class PerformanceMetric:\n",
    "    def __init__(self, num_classes):\n",
    "        self.num_classes = num_classes\n",
    "        self.accuracy = Accuracy(task=\"multiclass\", num_classes=num_classes)\n",
    "        self.precision = Precision(task=\"multiclass\", num_classes=num_classes, average='macro')\n",
    "        self.recall = Recall(task=\"multiclass\", num_classes=num_classes, average='macro')\n",
    "        self.f1 = F1Score(task=\"multiclass\", num_classes=num_classes, average='macro')\n",
    "        self.confusion_matrix = ConfusionMatrix(task=\"multiclass\", num_classes=num_classes)\n",
    "\n",
    "    def update(self, predictions, targets):\n",
    "        self.accuracy.update(predictions, targets)\n",
    "        self.precision.update(predictions, targets)\n",
    "        self.recall.update(predictions, targets)\n",
    "        self.f1.update(predictions, targets)\n",
    "        self.confusion_matrix.update(predictions, targets)\n",
    "\n",
    "    def compute(self):\n",
    "        accuracy = self.accuracy.compute().item()\n",
    "        precision = self.precision.compute().item()\n",
    "        recall = self.recall.compute().item()\n",
    "        f1 = self.f1.compute().item()\n",
    "        confusion_matrix = self.confusion_matrix.compute().cpu()\n",
    "\n",
    "        return accuracy, precision, recall, f1, confusion_matrix\n",
    "\n",
    "    def reset(self):\n",
    "        self.accuracy.reset()\n",
    "        self.precision.reset()\n",
    "        self.recall.reset()\n",
    "        self.f1.reset()\n",
    "        self.confusion_matrix.reset()\n"
   ]
  },
  {
   "cell_type": "markdown",
   "id": "a4c675f5",
   "metadata": {
    "papermill": {
     "duration": 0.011762,
     "end_time": "2024-02-26T03:53:56.586784",
     "exception": false,
     "start_time": "2024-02-26T03:53:56.575022",
     "status": "completed"
    },
    "tags": []
   },
   "source": [
    "### 7. Training"
   ]
  },
  {
   "cell_type": "code",
   "execution_count": 21,
   "id": "9e902020",
   "metadata": {
    "execution": {
     "iopub.execute_input": "2024-02-26T03:53:56.611597Z",
     "iopub.status.busy": "2024-02-26T03:53:56.611309Z",
     "iopub.status.idle": "2024-02-26T03:53:56.615152Z",
     "shell.execute_reply": "2024-02-26T03:53:56.614298Z"
    },
    "papermill": {
     "duration": 0.018501,
     "end_time": "2024-02-26T03:53:56.617169",
     "exception": false,
     "start_time": "2024-02-26T03:53:56.598668",
     "status": "completed"
    },
    "tags": []
   },
   "outputs": [],
   "source": [
    "# !pip install torchmetrics"
   ]
  },
  {
   "cell_type": "code",
   "execution_count": 22,
   "id": "6ac71499",
   "metadata": {
    "execution": {
     "iopub.execute_input": "2024-02-26T03:53:56.641774Z",
     "iopub.status.busy": "2024-02-26T03:53:56.641505Z",
     "iopub.status.idle": "2024-02-26T03:53:56.645310Z",
     "shell.execute_reply": "2024-02-26T03:53:56.644481Z"
    },
    "papermill": {
     "duration": 0.018278,
     "end_time": "2024-02-26T03:53:56.647190",
     "exception": false,
     "start_time": "2024-02-26T03:53:56.628912",
     "status": "completed"
    },
    "tags": []
   },
   "outputs": [],
   "source": [
    "from tqdm.auto import tqdm\n",
    "from typing import Dict, List, Tuple"
   ]
  },
  {
   "cell_type": "code",
   "execution_count": 23,
   "id": "3a79679f",
   "metadata": {
    "execution": {
     "iopub.execute_input": "2024-02-26T03:53:56.673398Z",
     "iopub.status.busy": "2024-02-26T03:53:56.673081Z",
     "iopub.status.idle": "2024-02-26T03:53:56.682115Z",
     "shell.execute_reply": "2024-02-26T03:53:56.681433Z"
    },
    "papermill": {
     "duration": 0.023761,
     "end_time": "2024-02-26T03:53:56.684043",
     "exception": false,
     "start_time": "2024-02-26T03:53:56.660282",
     "status": "completed"
    },
    "tags": []
   },
   "outputs": [],
   "source": [
    "def train_step(model: torch.nn.Module, \n",
    "               num_classes: int,\n",
    "               dataloader: torch.utils.data.DataLoader, \n",
    "               loss_fn: torch.nn.Module, \n",
    "               optimizer: torch.optim.Optimizer,\n",
    "               device: torch.device):\n",
    "    \n",
    "    model.train()\n",
    "    \n",
    "    train_loss = 0    \n",
    "    metrics = PerformanceMetric(num_classes)\n",
    "    \n",
    "    for batch, (X, y) in enumerate(dataloader):\n",
    "        X, y = X.to(device), y.to(device)\n",
    "        \n",
    "        y_pred = model(X)\n",
    "        \n",
    "        loss = loss_fn(y_pred, y)\n",
    "        train_loss += loss.item()\n",
    "        \n",
    "        optimizer.zero_grad()        \n",
    "        loss.backward()        \n",
    "        optimizer.step()\n",
    "        \n",
    "        y_pred_class = torch.argmax(torch.softmax(y_pred, dim=1), dim=1)\n",
    "        \n",
    "        metrics.update(y_pred_class.cpu(), y.cpu())\n",
    "\n",
    "    train_loss = train_loss / len(dataloader)\n",
    "    train_acc, train_precision, train_recall, train_f1, train_confusion_matrix = metrics.compute()\n",
    "    \n",
    "    metrics.reset()\n",
    "    \n",
    "    return train_loss, train_acc, train_precision, train_recall, train_f1, train_confusion_matrix"
   ]
  },
  {
   "cell_type": "code",
   "execution_count": 24,
   "id": "7b78869b",
   "metadata": {
    "execution": {
     "iopub.execute_input": "2024-02-26T03:53:56.708640Z",
     "iopub.status.busy": "2024-02-26T03:53:56.708385Z",
     "iopub.status.idle": "2024-02-26T03:53:56.715733Z",
     "shell.execute_reply": "2024-02-26T03:53:56.714912Z"
    },
    "papermill": {
     "duration": 0.021779,
     "end_time": "2024-02-26T03:53:56.717520",
     "exception": false,
     "start_time": "2024-02-26T03:53:56.695741",
     "status": "completed"
    },
    "tags": []
   },
   "outputs": [],
   "source": [
    "def test_step(model: torch.nn.Module, \n",
    "              num_classes: int,\n",
    "              dataloader: torch.utils.data.DataLoader, \n",
    "              loss_fn: torch.nn.Module,\n",
    "              device: torch.device):\n",
    "\n",
    "    model.eval()\n",
    "    \n",
    "    test_loss = 0\n",
    "    metrics = PerformanceMetric(num_classes)\n",
    "\n",
    "    with torch.inference_mode():\n",
    "        for batch, (X, y) in enumerate(dataloader):\n",
    "            X, y = X.to(device), y.to(device)\n",
    "\n",
    "            test_pred_logits = model(X)\n",
    "\n",
    "            loss = loss_fn(test_pred_logits, y)\n",
    "            test_loss += loss.item()\n",
    "            \n",
    "            test_pred_labels = test_pred_logits.argmax(dim=1)\n",
    "            metrics.update(test_pred_labels.cpu(), y.cpu())\n",
    "\n",
    "    test_loss = test_loss / len(dataloader)\n",
    "    test_acc, test_precision, test_recall, test_f1, test_confusion_matrix = metrics.compute()\n",
    "    \n",
    "    metrics.reset()\n",
    "    \n",
    "    return test_loss, test_acc, test_precision, test_recall, test_f1, test_confusion_matrix"
   ]
  },
  {
   "cell_type": "code",
   "execution_count": 25,
   "id": "80f23007",
   "metadata": {
    "execution": {
     "iopub.execute_input": "2024-02-26T03:53:56.742345Z",
     "iopub.status.busy": "2024-02-26T03:53:56.742084Z",
     "iopub.status.idle": "2024-02-26T03:53:56.747806Z",
     "shell.execute_reply": "2024-02-26T03:53:56.747034Z"
    },
    "papermill": {
     "duration": 0.020285,
     "end_time": "2024-02-26T03:53:56.749592",
     "exception": false,
     "start_time": "2024-02-26T03:53:56.729307",
     "status": "completed"
    },
    "tags": []
   },
   "outputs": [],
   "source": [
    "from pathlib import Path\n",
    "\n",
    "def save_model(model: torch.nn.Module, target_dir: str, model_name: str):\n",
    "    target_dir_path = Path(target_dir)\n",
    "    target_dir_path.mkdir(parents=True,\n",
    "                        exist_ok=True)\n",
    "\n",
    "    assert model_name.endswith(\".pth\") or model_name.endswith(\".pt\"), \"model_name should end with '.pt' or '.pth'\"\n",
    "    model_save_path = target_dir_path / model_name\n",
    "\n",
    "  \n",
    "    print(f\"[INFO] Saving model to: {model_save_path}\")\n",
    "    torch.save(obj=model.state_dict(), f=model_save_path)"
   ]
  },
  {
   "cell_type": "code",
   "execution_count": 26,
   "id": "2e0ad617",
   "metadata": {
    "execution": {
     "iopub.execute_input": "2024-02-26T03:53:56.774988Z",
     "iopub.status.busy": "2024-02-26T03:53:56.774313Z",
     "iopub.status.idle": "2024-02-26T03:53:56.786451Z",
     "shell.execute_reply": "2024-02-26T03:53:56.785571Z"
    },
    "papermill": {
     "duration": 0.026768,
     "end_time": "2024-02-26T03:53:56.788243",
     "exception": false,
     "start_time": "2024-02-26T03:53:56.761475",
     "status": "completed"
    },
    "tags": []
   },
   "outputs": [],
   "source": [
    "def train(model: torch.nn.Module,\n",
    "          num_classes: int,\n",
    "          train_dataloader: torch.utils.data.DataLoader, \n",
    "          test_dataloader: torch.utils.data.DataLoader, \n",
    "          optimizer: torch.optim.Optimizer,\n",
    "          loss_fn: torch.nn.Module,\n",
    "          epochs: int,\n",
    "          device: torch.device):\n",
    "    \n",
    "    results = {\"train_loss\": [], \"train_acc\": [], \"train_precision\": [], \"train_recall\": [], \"train_f1\": [],\n",
    "              \"test_loss\": [], \"test_acc\": [], \"test_precision\": [], \"test_recall\": [], \"test_f1\": []}\n",
    "    \n",
    "    curr_best_model = model\n",
    "    curr_loss = 0\n",
    "    \n",
    "    for epoch in tqdm(range(epochs)):\n",
    "        train_loss, train_acc, train_precision, train_recall, train_f1, train_confusion_matrix = train_step(model=model,\n",
    "                                                                                                        num_classes=num_classes,\n",
    "                                                                                                        dataloader=train_dataloader,\n",
    "                                                                                                        loss_fn=loss_fn,\n",
    "                                                                                                        optimizer=optimizer,\n",
    "                                                                                                        device=device)\n",
    "        test_loss, test_acc, test_precision, test_recall, test_f1, test_confusion_matrix = test_step(model=model,\n",
    "                                                                                                        num_classes=num_classes,\n",
    "                                                                                                        dataloader=test_dataloader,\n",
    "                                                                                                        loss_fn=loss_fn,\n",
    "                                                                                                        device=device)\n",
    "        \n",
    "        if test_loss < curr_loss:\n",
    "            curr_best_model = model\n",
    "            curr_loss = test_loss\n",
    "\n",
    "        print(f\"Epoch: {epoch+1} | \" \n",
    "                f\"train_loss: {train_loss:.4f} | \" \n",
    "                f\"train_acc: {train_acc:.4f} | \" \n",
    "                f\"test_loss: {test_loss:.4f} | \" \n",
    "                f\"test_acc: {test_acc:.4f}\")\n",
    "\n",
    "        results[\"train_loss\"].append(train_loss)\n",
    "        results[\"train_acc\"].append(train_acc)\n",
    "        results[\"train_precision\"].append(train_precision)\n",
    "        results[\"train_recall\"].append(train_recall)\n",
    "        results[\"train_f1\"].append(train_f1)\n",
    "        results[\"test_loss\"].append(test_loss)\n",
    "        results[\"test_acc\"].append(test_acc)\n",
    "        results[\"test_precision\"].append(test_precision)\n",
    "        results[\"test_recall\"].append(test_recall)\n",
    "        results[\"test_f1\"].append(test_f1)\n",
    "        \n",
    "    save_model(model=curr_best_model, target_dir='models', model_name='best_model.pth')\n",
    "\n",
    "    return results"
   ]
  },
  {
   "cell_type": "code",
   "execution_count": 27,
   "id": "1f5a54ce",
   "metadata": {
    "execution": {
     "iopub.execute_input": "2024-02-26T03:53:56.813259Z",
     "iopub.status.busy": "2024-02-26T03:53:56.812975Z",
     "iopub.status.idle": "2024-02-26T06:00:07.887342Z",
     "shell.execute_reply": "2024-02-26T06:00:07.886149Z"
    },
    "papermill": {
     "duration": 7571.089036,
     "end_time": "2024-02-26T06:00:07.889359",
     "exception": false,
     "start_time": "2024-02-26T03:53:56.800323",
     "status": "completed"
    },
    "tags": []
   },
   "outputs": [
    {
     "data": {
      "application/vnd.jupyter.widget-view+json": {
       "model_id": "6e99b28ff9ee48789e26b053068c2128",
       "version_major": 2,
       "version_minor": 0
      },
      "text/plain": [
       "  0%|          | 0/15 [00:00<?, ?it/s]"
      ]
     },
     "metadata": {},
     "output_type": "display_data"
    },
    {
     "name": "stdout",
     "output_type": "stream",
     "text": [
      "Epoch: 1 | train_loss: 0.5121 | train_acc: 0.8599 | test_loss: 0.2988 | test_acc: 0.9204\n",
      "Epoch: 2 | train_loss: 0.3030 | train_acc: 0.9158 | test_loss: 0.2871 | test_acc: 0.9178\n",
      "Epoch: 3 | train_loss: 0.2597 | train_acc: 0.9267 | test_loss: 0.2769 | test_acc: 0.9227\n",
      "Epoch: 4 | train_loss: 0.2275 | train_acc: 0.9354 | test_loss: 0.2530 | test_acc: 0.9323\n",
      "Epoch: 5 | train_loss: 0.2016 | train_acc: 0.9424 | test_loss: 0.2502 | test_acc: 0.9356\n",
      "Epoch: 6 | train_loss: 0.1822 | train_acc: 0.9467 | test_loss: 0.2509 | test_acc: 0.9343\n",
      "Epoch: 7 | train_loss: 0.1608 | train_acc: 0.9523 | test_loss: 0.2611 | test_acc: 0.9338\n",
      "Epoch: 8 | train_loss: 0.1451 | train_acc: 0.9566 | test_loss: 0.2664 | test_acc: 0.9340\n",
      "Epoch: 9 | train_loss: 0.1305 | train_acc: 0.9604 | test_loss: 0.2844 | test_acc: 0.9311\n",
      "Epoch: 10 | train_loss: 0.1175 | train_acc: 0.9637 | test_loss: 0.2841 | test_acc: 0.9305\n",
      "Epoch: 11 | train_loss: 0.1083 | train_acc: 0.9666 | test_loss: 0.2809 | test_acc: 0.9304\n",
      "Epoch: 12 | train_loss: 0.0993 | train_acc: 0.9689 | test_loss: 0.3025 | test_acc: 0.9295\n",
      "Epoch: 13 | train_loss: 0.0900 | train_acc: 0.9719 | test_loss: 0.2990 | test_acc: 0.9346\n",
      "Epoch: 14 | train_loss: 0.0854 | train_acc: 0.9733 | test_loss: 0.3030 | test_acc: 0.9326\n",
      "Epoch: 15 | train_loss: 0.0776 | train_acc: 0.9752 | test_loss: 0.3031 | test_acc: 0.9340\n",
      "[INFO] Saving model to: models/best_model.pth\n",
      "[INFO] Total training time: 7571.068 seconds\n"
     ]
    }
   ],
   "source": [
    "EPOCHS = 15\n",
    "\n",
    "# Start the timer\n",
    "from timeit import default_timer as timer \n",
    "start_time = timer()\n",
    "\n",
    "results = train(model=model,\n",
    "                num_classes=len(class_names),\n",
    "                train_dataloader=train_dataloader,\n",
    "                test_dataloader=val_dataloader,\n",
    "                optimizer=optimizer,\n",
    "                loss_fn=loss_fn,\n",
    "                epochs=EPOCHS,\n",
    "                device=device)\n",
    "\n",
    "# End the timer and print out how long it took\n",
    "end_time = timer()\n",
    "print(f\"[INFO] Total training time: {end_time-start_time:.3f} seconds\")"
   ]
  },
  {
   "cell_type": "markdown",
   "id": "beda2755",
   "metadata": {
    "papermill": {
     "duration": 0.012907,
     "end_time": "2024-02-26T06:00:07.916130",
     "exception": false,
     "start_time": "2024-02-26T06:00:07.903223",
     "status": "completed"
    },
    "tags": []
   },
   "source": [
    "### 7. saving the metrics"
   ]
  },
  {
   "cell_type": "code",
   "execution_count": 28,
   "id": "1fc7526f",
   "metadata": {
    "execution": {
     "iopub.execute_input": "2024-02-26T06:00:07.944972Z",
     "iopub.status.busy": "2024-02-26T06:00:07.944495Z",
     "iopub.status.idle": "2024-02-26T06:00:07.950013Z",
     "shell.execute_reply": "2024-02-26T06:00:07.949276Z"
    },
    "papermill": {
     "duration": 0.022692,
     "end_time": "2024-02-26T06:00:07.951906",
     "exception": false,
     "start_time": "2024-02-26T06:00:07.929214",
     "status": "completed"
    },
    "tags": []
   },
   "outputs": [],
   "source": [
    "import csv\n",
    "file_path = 'train_metrics.csv'\n",
    "\n",
    "with open(file_path, 'w', newline='') as csvfile:\n",
    "    writer = csv.writer(csvfile)   "
   ]
  },
  {
   "cell_type": "code",
   "execution_count": 29,
   "id": "6158274f",
   "metadata": {
    "execution": {
     "iopub.execute_input": "2024-02-26T06:00:07.979264Z",
     "iopub.status.busy": "2024-02-26T06:00:07.978991Z",
     "iopub.status.idle": "2024-02-26T06:00:07.982719Z",
     "shell.execute_reply": "2024-02-26T06:00:07.981906Z"
    },
    "papermill": {
     "duration": 0.019533,
     "end_time": "2024-02-26T06:00:07.984557",
     "exception": false,
     "start_time": "2024-02-26T06:00:07.965024",
     "status": "completed"
    },
    "tags": []
   },
   "outputs": [],
   "source": [
    "# import shutil\n",
    "\n",
    "# source_file = '/kaggle/input/banglacharrecognition/train_metrics.csv'\n",
    "# destination_file = '/kaggle/working/train_metrics.csv'\n",
    "\n",
    "# shutil.copyfile(source_file, destination_file)"
   ]
  },
  {
   "cell_type": "code",
   "execution_count": 30,
   "id": "4b17d24d",
   "metadata": {
    "execution": {
     "iopub.execute_input": "2024-02-26T06:00:08.011735Z",
     "iopub.status.busy": "2024-02-26T06:00:08.011454Z",
     "iopub.status.idle": "2024-02-26T06:00:08.017493Z",
     "shell.execute_reply": "2024-02-26T06:00:08.016653Z"
    },
    "papermill": {
     "duration": 0.021761,
     "end_time": "2024-02-26T06:00:08.019433",
     "exception": false,
     "start_time": "2024-02-26T06:00:07.997672",
     "status": "completed"
    },
    "tags": []
   },
   "outputs": [],
   "source": [
    "import csv\n",
    "\n",
    "headers = list(results.keys())\n",
    "\n",
    "epoch_result = [list(col) for col in zip(*results.values())]\n",
    "\n",
    "file_path = 'train_metrics.csv'\n",
    "\n",
    "with open(file_path, 'a', newline='') as csvfile:\n",
    "    writer = csv.writer(csvfile)\n",
    "    writer.writerow(headers)\n",
    "    writer.writerows(epoch_result)"
   ]
  },
  {
   "cell_type": "markdown",
   "id": "c94bfb45",
   "metadata": {
    "papermill": {
     "duration": 0.012857,
     "end_time": "2024-02-26T06:00:08.045843",
     "exception": false,
     "start_time": "2024-02-26T06:00:08.032986",
     "status": "completed"
    },
    "tags": []
   },
   "source": [
    "### 8. Loading the best model"
   ]
  },
  {
   "cell_type": "code",
   "execution_count": 31,
   "id": "1e64f3db",
   "metadata": {
    "execution": {
     "iopub.execute_input": "2024-02-26T06:00:08.073258Z",
     "iopub.status.busy": "2024-02-26T06:00:08.072992Z",
     "iopub.status.idle": "2024-02-26T06:00:08.148019Z",
     "shell.execute_reply": "2024-02-26T06:00:08.147118Z"
    },
    "papermill": {
     "duration": 0.090982,
     "end_time": "2024-02-26T06:00:08.149977",
     "exception": false,
     "start_time": "2024-02-26T06:00:08.058995",
     "status": "completed"
    },
    "tags": []
   },
   "outputs": [
    {
     "data": {
      "text/plain": [
       "<All keys matched successfully>"
      ]
     },
     "execution_count": 31,
     "metadata": {},
     "output_type": "execute_result"
    }
   ],
   "source": [
    "PATH = '/kaggle/working/models/best_model.pth'\n",
    "model.load_state_dict(torch.load(PATH))"
   ]
  },
  {
   "cell_type": "code",
   "execution_count": 32,
   "id": "3ec4d32c",
   "metadata": {
    "execution": {
     "iopub.execute_input": "2024-02-26T06:00:08.177779Z",
     "iopub.status.busy": "2024-02-26T06:00:08.177534Z",
     "iopub.status.idle": "2024-02-26T06:00:52.422159Z",
     "shell.execute_reply": "2024-02-26T06:00:52.420729Z"
    },
    "papermill": {
     "duration": 44.262288,
     "end_time": "2024-02-26T06:00:52.425555",
     "exception": false,
     "start_time": "2024-02-26T06:00:08.163267",
     "status": "completed"
    },
    "tags": []
   },
   "outputs": [],
   "source": [
    "test_loss, test_acc, test_precision, test_recall, test_f1, test_confusion_matrix = test_step(model=model,\n",
    "                                                                                            num_classes=len(class_names),\n",
    "                                                                                            dataloader=test_dataloader,\n",
    "                                                                                            loss_fn=loss_fn,\n",
    "                                                                                            device=device)"
   ]
  },
  {
   "cell_type": "code",
   "execution_count": 33,
   "id": "289b3368",
   "metadata": {
    "execution": {
     "iopub.execute_input": "2024-02-26T06:00:52.464653Z",
     "iopub.status.busy": "2024-02-26T06:00:52.464289Z",
     "iopub.status.idle": "2024-02-26T06:00:52.471103Z",
     "shell.execute_reply": "2024-02-26T06:00:52.470248Z"
    },
    "papermill": {
     "duration": 0.027155,
     "end_time": "2024-02-26T06:00:52.473156",
     "exception": false,
     "start_time": "2024-02-26T06:00:52.446001",
     "status": "completed"
    },
    "tags": []
   },
   "outputs": [],
   "source": [
    "PATH = 'test_metrics.txt'\n",
    "with open(PATH, 'w') as fp:\n",
    "    fp.write(f'Test Loss: {test_loss}\\n')\n",
    "    fp.write(f'Test Accuracy: {test_acc}\\n')\n",
    "    fp.write(f'Test Precision: {test_precision}\\n')\n",
    "    fp.write(f'Test Recall: {test_recall}\\n')\n",
    "    fp.write(f'Test F1 Score: {test_f1}\\n')\n",
    "    fp.write(f'Test Confusion Matrix: \\n{test_confusion_matrix.numpy()}\\n')"
   ]
  }
 ],
 "metadata": {
  "kaggle": {
   "accelerator": "gpu",
   "dataSources": [
    {
     "datasetId": 4430615,
     "sourceId": 7609319,
     "sourceType": "datasetVersion"
    },
    {
     "datasetId": 4433406,
     "sourceId": 7613156,
     "sourceType": "datasetVersion"
    },
    {
     "sourceId": 163357204,
     "sourceType": "kernelVersion"
    },
    {
     "sourceId": 163451987,
     "sourceType": "kernelVersion"
    }
   ],
   "dockerImageVersionId": 30648,
   "isGpuEnabled": true,
   "isInternetEnabled": true,
   "language": "python",
   "sourceType": "notebook"
  },
  "kernelspec": {
   "display_name": "Python 3",
   "language": "python",
   "name": "python3"
  },
  "language_info": {
   "codemirror_mode": {
    "name": "ipython",
    "version": 3
   },
   "file_extension": ".py",
   "mimetype": "text/x-python",
   "name": "python",
   "nbconvert_exporter": "python",
   "pygments_lexer": "ipython3",
   "version": "3.10.13"
  },
  "papermill": {
   "default_parameters": {},
   "duration": 7710.494573,
   "end_time": "2024-02-26T06:00:54.324635",
   "environment_variables": {},
   "exception": null,
   "input_path": "__notebook__.ipynb",
   "output_path": "__notebook__.ipynb",
   "parameters": {},
   "start_time": "2024-02-26T03:52:23.830062",
   "version": "2.5.0"
  },
  "widgets": {
   "application/vnd.jupyter.widget-state+json": {
    "state": {
     "047bff7059b84f08a95dfc42a9507e80": {
      "model_module": "@jupyter-widgets/controls",
      "model_module_version": "1.5.0",
      "model_name": "FloatProgressModel",
      "state": {
       "_dom_classes": [],
       "_model_module": "@jupyter-widgets/controls",
       "_model_module_version": "1.5.0",
       "_model_name": "FloatProgressModel",
       "_view_count": null,
       "_view_module": "@jupyter-widgets/controls",
       "_view_module_version": "1.5.0",
       "_view_name": "ProgressView",
       "bar_style": "success",
       "description": "",
       "description_tooltip": null,
       "layout": "IPY_MODEL_b209171d449945debe3a021df1f41b07",
       "max": 15.0,
       "min": 0.0,
       "orientation": "horizontal",
       "style": "IPY_MODEL_69b86ee2cbc64e84aea318b50ab76b37",
       "value": 15.0
      }
     },
     "5d877353f2fc4dba84ca604346e3ce0c": {
      "model_module": "@jupyter-widgets/base",
      "model_module_version": "1.2.0",
      "model_name": "LayoutModel",
      "state": {
       "_model_module": "@jupyter-widgets/base",
       "_model_module_version": "1.2.0",
       "_model_name": "LayoutModel",
       "_view_count": null,
       "_view_module": "@jupyter-widgets/base",
       "_view_module_version": "1.2.0",
       "_view_name": "LayoutView",
       "align_content": null,
       "align_items": null,
       "align_self": null,
       "border": null,
       "bottom": null,
       "display": null,
       "flex": null,
       "flex_flow": null,
       "grid_area": null,
       "grid_auto_columns": null,
       "grid_auto_flow": null,
       "grid_auto_rows": null,
       "grid_column": null,
       "grid_gap": null,
       "grid_row": null,
       "grid_template_areas": null,
       "grid_template_columns": null,
       "grid_template_rows": null,
       "height": null,
       "justify_content": null,
       "justify_items": null,
       "left": null,
       "margin": null,
       "max_height": null,
       "max_width": null,
       "min_height": null,
       "min_width": null,
       "object_fit": null,
       "object_position": null,
       "order": null,
       "overflow": null,
       "overflow_x": null,
       "overflow_y": null,
       "padding": null,
       "right": null,
       "top": null,
       "visibility": null,
       "width": null
      }
     },
     "69b86ee2cbc64e84aea318b50ab76b37": {
      "model_module": "@jupyter-widgets/controls",
      "model_module_version": "1.5.0",
      "model_name": "ProgressStyleModel",
      "state": {
       "_model_module": "@jupyter-widgets/controls",
       "_model_module_version": "1.5.0",
       "_model_name": "ProgressStyleModel",
       "_view_count": null,
       "_view_module": "@jupyter-widgets/base",
       "_view_module_version": "1.2.0",
       "_view_name": "StyleView",
       "bar_color": null,
       "description_width": ""
      }
     },
     "6e99b28ff9ee48789e26b053068c2128": {
      "model_module": "@jupyter-widgets/controls",
      "model_module_version": "1.5.0",
      "model_name": "HBoxModel",
      "state": {
       "_dom_classes": [],
       "_model_module": "@jupyter-widgets/controls",
       "_model_module_version": "1.5.0",
       "_model_name": "HBoxModel",
       "_view_count": null,
       "_view_module": "@jupyter-widgets/controls",
       "_view_module_version": "1.5.0",
       "_view_name": "HBoxView",
       "box_style": "",
       "children": [
        "IPY_MODEL_c50cfc8986db41439ab63f35ab6ae8df",
        "IPY_MODEL_047bff7059b84f08a95dfc42a9507e80",
        "IPY_MODEL_eb8bb1c2776445139363a56e947b64b8"
       ],
       "layout": "IPY_MODEL_fdb46f2573ba44948e7ea0f969dbeee5"
      }
     },
     "84c5497df89c47ed88720c08c9564a59": {
      "model_module": "@jupyter-widgets/base",
      "model_module_version": "1.2.0",
      "model_name": "LayoutModel",
      "state": {
       "_model_module": "@jupyter-widgets/base",
       "_model_module_version": "1.2.0",
       "_model_name": "LayoutModel",
       "_view_count": null,
       "_view_module": "@jupyter-widgets/base",
       "_view_module_version": "1.2.0",
       "_view_name": "LayoutView",
       "align_content": null,
       "align_items": null,
       "align_self": null,
       "border": null,
       "bottom": null,
       "display": null,
       "flex": null,
       "flex_flow": null,
       "grid_area": null,
       "grid_auto_columns": null,
       "grid_auto_flow": null,
       "grid_auto_rows": null,
       "grid_column": null,
       "grid_gap": null,
       "grid_row": null,
       "grid_template_areas": null,
       "grid_template_columns": null,
       "grid_template_rows": null,
       "height": null,
       "justify_content": null,
       "justify_items": null,
       "left": null,
       "margin": null,
       "max_height": null,
       "max_width": null,
       "min_height": null,
       "min_width": null,
       "object_fit": null,
       "object_position": null,
       "order": null,
       "overflow": null,
       "overflow_x": null,
       "overflow_y": null,
       "padding": null,
       "right": null,
       "top": null,
       "visibility": null,
       "width": null
      }
     },
     "b209171d449945debe3a021df1f41b07": {
      "model_module": "@jupyter-widgets/base",
      "model_module_version": "1.2.0",
      "model_name": "LayoutModel",
      "state": {
       "_model_module": "@jupyter-widgets/base",
       "_model_module_version": "1.2.0",
       "_model_name": "LayoutModel",
       "_view_count": null,
       "_view_module": "@jupyter-widgets/base",
       "_view_module_version": "1.2.0",
       "_view_name": "LayoutView",
       "align_content": null,
       "align_items": null,
       "align_self": null,
       "border": null,
       "bottom": null,
       "display": null,
       "flex": null,
       "flex_flow": null,
       "grid_area": null,
       "grid_auto_columns": null,
       "grid_auto_flow": null,
       "grid_auto_rows": null,
       "grid_column": null,
       "grid_gap": null,
       "grid_row": null,
       "grid_template_areas": null,
       "grid_template_columns": null,
       "grid_template_rows": null,
       "height": null,
       "justify_content": null,
       "justify_items": null,
       "left": null,
       "margin": null,
       "max_height": null,
       "max_width": null,
       "min_height": null,
       "min_width": null,
       "object_fit": null,
       "object_position": null,
       "order": null,
       "overflow": null,
       "overflow_x": null,
       "overflow_y": null,
       "padding": null,
       "right": null,
       "top": null,
       "visibility": null,
       "width": null
      }
     },
     "c50cfc8986db41439ab63f35ab6ae8df": {
      "model_module": "@jupyter-widgets/controls",
      "model_module_version": "1.5.0",
      "model_name": "HTMLModel",
      "state": {
       "_dom_classes": [],
       "_model_module": "@jupyter-widgets/controls",
       "_model_module_version": "1.5.0",
       "_model_name": "HTMLModel",
       "_view_count": null,
       "_view_module": "@jupyter-widgets/controls",
       "_view_module_version": "1.5.0",
       "_view_name": "HTMLView",
       "description": "",
       "description_tooltip": null,
       "layout": "IPY_MODEL_5d877353f2fc4dba84ca604346e3ce0c",
       "placeholder": "​",
       "style": "IPY_MODEL_e2817c051d68489eb1e2b3cf73a85e95",
       "value": "100%"
      }
     },
     "dd16716ed4ef4708b23b070ccd6768d4": {
      "model_module": "@jupyter-widgets/controls",
      "model_module_version": "1.5.0",
      "model_name": "DescriptionStyleModel",
      "state": {
       "_model_module": "@jupyter-widgets/controls",
       "_model_module_version": "1.5.0",
       "_model_name": "DescriptionStyleModel",
       "_view_count": null,
       "_view_module": "@jupyter-widgets/base",
       "_view_module_version": "1.2.0",
       "_view_name": "StyleView",
       "description_width": ""
      }
     },
     "e2817c051d68489eb1e2b3cf73a85e95": {
      "model_module": "@jupyter-widgets/controls",
      "model_module_version": "1.5.0",
      "model_name": "DescriptionStyleModel",
      "state": {
       "_model_module": "@jupyter-widgets/controls",
       "_model_module_version": "1.5.0",
       "_model_name": "DescriptionStyleModel",
       "_view_count": null,
       "_view_module": "@jupyter-widgets/base",
       "_view_module_version": "1.2.0",
       "_view_name": "StyleView",
       "description_width": ""
      }
     },
     "eb8bb1c2776445139363a56e947b64b8": {
      "model_module": "@jupyter-widgets/controls",
      "model_module_version": "1.5.0",
      "model_name": "HTMLModel",
      "state": {
       "_dom_classes": [],
       "_model_module": "@jupyter-widgets/controls",
       "_model_module_version": "1.5.0",
       "_model_name": "HTMLModel",
       "_view_count": null,
       "_view_module": "@jupyter-widgets/controls",
       "_view_module_version": "1.5.0",
       "_view_name": "HTMLView",
       "description": "",
       "description_tooltip": null,
       "layout": "IPY_MODEL_84c5497df89c47ed88720c08c9564a59",
       "placeholder": "​",
       "style": "IPY_MODEL_dd16716ed4ef4708b23b070ccd6768d4",
       "value": " 15/15 [2:06:11&lt;00:00, 504.06s/it]"
      }
     },
     "fdb46f2573ba44948e7ea0f969dbeee5": {
      "model_module": "@jupyter-widgets/base",
      "model_module_version": "1.2.0",
      "model_name": "LayoutModel",
      "state": {
       "_model_module": "@jupyter-widgets/base",
       "_model_module_version": "1.2.0",
       "_model_name": "LayoutModel",
       "_view_count": null,
       "_view_module": "@jupyter-widgets/base",
       "_view_module_version": "1.2.0",
       "_view_name": "LayoutView",
       "align_content": null,
       "align_items": null,
       "align_self": null,
       "border": null,
       "bottom": null,
       "display": null,
       "flex": null,
       "flex_flow": null,
       "grid_area": null,
       "grid_auto_columns": null,
       "grid_auto_flow": null,
       "grid_auto_rows": null,
       "grid_column": null,
       "grid_gap": null,
       "grid_row": null,
       "grid_template_areas": null,
       "grid_template_columns": null,
       "grid_template_rows": null,
       "height": null,
       "justify_content": null,
       "justify_items": null,
       "left": null,
       "margin": null,
       "max_height": null,
       "max_width": null,
       "min_height": null,
       "min_width": null,
       "object_fit": null,
       "object_position": null,
       "order": null,
       "overflow": null,
       "overflow_x": null,
       "overflow_y": null,
       "padding": null,
       "right": null,
       "top": null,
       "visibility": null,
       "width": null
      }
     }
    },
    "version_major": 2,
    "version_minor": 0
   }
  }
 },
 "nbformat": 4,
 "nbformat_minor": 5
}
