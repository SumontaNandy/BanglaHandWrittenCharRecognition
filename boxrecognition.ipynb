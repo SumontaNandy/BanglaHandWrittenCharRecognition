{
 "cells": [
  {
   "cell_type": "code",
   "execution_count": 1,
   "id": "e7cb23c5",
   "metadata": {
    "execution": {
     "iopub.execute_input": "2024-02-19T15:54:50.182814Z",
     "iopub.status.busy": "2024-02-19T15:54:50.182420Z",
     "iopub.status.idle": "2024-02-19T15:55:05.424520Z",
     "shell.execute_reply": "2024-02-19T15:55:05.423488Z"
    },
    "papermill": {
     "duration": 15.249181,
     "end_time": "2024-02-19T15:55:05.427185",
     "exception": false,
     "start_time": "2024-02-19T15:54:50.178004",
     "status": "completed"
    },
    "tags": []
   },
   "outputs": [
    {
     "name": "stdout",
     "output_type": "stream",
     "text": [
      "Collecting ultralytics\r\n",
      "  Downloading ultralytics-8.1.15-py3-none-any.whl.metadata (40 kB)\r\n",
      "\u001b[2K     \u001b[90m━━━━━━━━━━━━━━━━━━━━━━━━━━━━━━━━━━━━━━━━\u001b[0m \u001b[32m40.4/40.4 kB\u001b[0m \u001b[31m1.4 MB/s\u001b[0m eta \u001b[36m0:00:00\u001b[0m\r\n",
      "\u001b[?25hRequirement already satisfied: matplotlib>=3.3.0 in /opt/conda/lib/python3.10/site-packages (from ultralytics) (3.7.4)\r\n",
      "Requirement already satisfied: opencv-python>=4.6.0 in /opt/conda/lib/python3.10/site-packages (from ultralytics) (4.9.0.80)\r\n",
      "Requirement already satisfied: pillow>=7.1.2 in /opt/conda/lib/python3.10/site-packages (from ultralytics) (9.5.0)\r\n",
      "Requirement already satisfied: pyyaml>=5.3.1 in /opt/conda/lib/python3.10/site-packages (from ultralytics) (6.0.1)\r\n",
      "Requirement already satisfied: requests>=2.23.0 in /opt/conda/lib/python3.10/site-packages (from ultralytics) (2.31.0)\r\n",
      "Requirement already satisfied: scipy>=1.4.1 in /opt/conda/lib/python3.10/site-packages (from ultralytics) (1.11.4)\r\n",
      "Requirement already satisfied: torch>=1.8.0 in /opt/conda/lib/python3.10/site-packages (from ultralytics) (2.1.2)\r\n",
      "Requirement already satisfied: torchvision>=0.9.0 in /opt/conda/lib/python3.10/site-packages (from ultralytics) (0.16.2)\r\n",
      "Requirement already satisfied: tqdm>=4.64.0 in /opt/conda/lib/python3.10/site-packages (from ultralytics) (4.66.1)\r\n",
      "Requirement already satisfied: psutil in /opt/conda/lib/python3.10/site-packages (from ultralytics) (5.9.3)\r\n",
      "Requirement already satisfied: py-cpuinfo in /opt/conda/lib/python3.10/site-packages (from ultralytics) (9.0.0)\r\n",
      "Collecting thop>=0.1.1 (from ultralytics)\r\n",
      "  Downloading thop-0.1.1.post2209072238-py3-none-any.whl (15 kB)\r\n",
      "Requirement already satisfied: pandas>=1.1.4 in /opt/conda/lib/python3.10/site-packages (from ultralytics) (2.1.4)\r\n",
      "Requirement already satisfied: seaborn>=0.11.0 in /opt/conda/lib/python3.10/site-packages (from ultralytics) (0.12.2)\r\n",
      "Requirement already satisfied: contourpy>=1.0.1 in /opt/conda/lib/python3.10/site-packages (from matplotlib>=3.3.0->ultralytics) (1.2.0)\r\n",
      "Requirement already satisfied: cycler>=0.10 in /opt/conda/lib/python3.10/site-packages (from matplotlib>=3.3.0->ultralytics) (0.12.1)\r\n",
      "Requirement already satisfied: fonttools>=4.22.0 in /opt/conda/lib/python3.10/site-packages (from matplotlib>=3.3.0->ultralytics) (4.47.0)\r\n",
      "Requirement already satisfied: kiwisolver>=1.0.1 in /opt/conda/lib/python3.10/site-packages (from matplotlib>=3.3.0->ultralytics) (1.4.5)\r\n",
      "Requirement already satisfied: numpy<2,>=1.20 in /opt/conda/lib/python3.10/site-packages (from matplotlib>=3.3.0->ultralytics) (1.24.4)\r\n",
      "Requirement already satisfied: packaging>=20.0 in /opt/conda/lib/python3.10/site-packages (from matplotlib>=3.3.0->ultralytics) (21.3)\r\n",
      "Requirement already satisfied: pyparsing>=2.3.1 in /opt/conda/lib/python3.10/site-packages (from matplotlib>=3.3.0->ultralytics) (3.1.1)\r\n",
      "Requirement already satisfied: python-dateutil>=2.7 in /opt/conda/lib/python3.10/site-packages (from matplotlib>=3.3.0->ultralytics) (2.8.2)\r\n",
      "Requirement already satisfied: pytz>=2020.1 in /opt/conda/lib/python3.10/site-packages (from pandas>=1.1.4->ultralytics) (2023.3.post1)\r\n",
      "Requirement already satisfied: tzdata>=2022.1 in /opt/conda/lib/python3.10/site-packages (from pandas>=1.1.4->ultralytics) (2023.4)\r\n",
      "Requirement already satisfied: charset-normalizer<4,>=2 in /opt/conda/lib/python3.10/site-packages (from requests>=2.23.0->ultralytics) (3.3.2)\r\n",
      "Requirement already satisfied: idna<4,>=2.5 in /opt/conda/lib/python3.10/site-packages (from requests>=2.23.0->ultralytics) (3.6)\r\n",
      "Requirement already satisfied: urllib3<3,>=1.21.1 in /opt/conda/lib/python3.10/site-packages (from requests>=2.23.0->ultralytics) (1.26.18)\r\n",
      "Requirement already satisfied: certifi>=2017.4.17 in /opt/conda/lib/python3.10/site-packages (from requests>=2.23.0->ultralytics) (2023.11.17)\r\n",
      "Requirement already satisfied: filelock in /opt/conda/lib/python3.10/site-packages (from torch>=1.8.0->ultralytics) (3.13.1)\r\n",
      "Requirement already satisfied: typing-extensions in /opt/conda/lib/python3.10/site-packages (from torch>=1.8.0->ultralytics) (4.9.0)\r\n",
      "Requirement already satisfied: sympy in /opt/conda/lib/python3.10/site-packages (from torch>=1.8.0->ultralytics) (1.12)\r\n",
      "Requirement already satisfied: networkx in /opt/conda/lib/python3.10/site-packages (from torch>=1.8.0->ultralytics) (3.2.1)\r\n",
      "Requirement already satisfied: jinja2 in /opt/conda/lib/python3.10/site-packages (from torch>=1.8.0->ultralytics) (3.1.2)\r\n",
      "Requirement already satisfied: fsspec in /opt/conda/lib/python3.10/site-packages (from torch>=1.8.0->ultralytics) (2023.12.2)\r\n",
      "Requirement already satisfied: six>=1.5 in /opt/conda/lib/python3.10/site-packages (from python-dateutil>=2.7->matplotlib>=3.3.0->ultralytics) (1.16.0)\r\n",
      "Requirement already satisfied: MarkupSafe>=2.0 in /opt/conda/lib/python3.10/site-packages (from jinja2->torch>=1.8.0->ultralytics) (2.1.3)\r\n",
      "Requirement already satisfied: mpmath>=0.19 in /opt/conda/lib/python3.10/site-packages (from sympy->torch>=1.8.0->ultralytics) (1.3.0)\r\n",
      "Downloading ultralytics-8.1.15-py3-none-any.whl (715 kB)\r\n",
      "\u001b[2K   \u001b[90m━━━━━━━━━━━━━━━━━━━━━━━━━━━━━━━━━━━━━━━━\u001b[0m \u001b[32m715.1/715.1 kB\u001b[0m \u001b[31m13.0 MB/s\u001b[0m eta \u001b[36m0:00:00\u001b[0m\r\n",
      "\u001b[?25hInstalling collected packages: thop, ultralytics\r\n",
      "Successfully installed thop-0.1.1.post2209072238 ultralytics-8.1.15\r\n"
     ]
    }
   ],
   "source": [
    "!pip install ultralytics"
   ]
  },
  {
   "cell_type": "code",
   "execution_count": 2,
   "id": "7983d65e",
   "metadata": {
    "execution": {
     "iopub.execute_input": "2024-02-19T15:55:05.436835Z",
     "iopub.status.busy": "2024-02-19T15:55:05.436516Z",
     "iopub.status.idle": "2024-02-19T15:55:13.537867Z",
     "shell.execute_reply": "2024-02-19T15:55:13.537029Z"
    },
    "papermill": {
     "duration": 8.108964,
     "end_time": "2024-02-19T15:55:13.540342",
     "exception": false,
     "start_time": "2024-02-19T15:55:05.431378",
     "status": "completed"
    },
    "tags": []
   },
   "outputs": [],
   "source": [
    "from ultralytics import YOLO"
   ]
  },
  {
   "cell_type": "code",
   "execution_count": 3,
   "id": "1a205655",
   "metadata": {
    "execution": {
     "iopub.execute_input": "2024-02-19T15:55:13.549242Z",
     "iopub.status.busy": "2024-02-19T15:55:13.548817Z",
     "iopub.status.idle": "2024-02-19T15:55:13.554235Z",
     "shell.execute_reply": "2024-02-19T15:55:13.553520Z"
    },
    "papermill": {
     "duration": 0.011857,
     "end_time": "2024-02-19T15:55:13.556074",
     "exception": false,
     "start_time": "2024-02-19T15:55:13.544217",
     "status": "completed"
    },
    "tags": []
   },
   "outputs": [],
   "source": [
    "file_content = \"\"\"\n",
    "path: /kaggle/input/tableparsing\n",
    "train: Table-parsing-1/train  \n",
    "val: Table-parsing-1/valid\n",
    "test: Table-parsing-1/test\n",
    "\n",
    "# Classes\n",
    "names:\n",
    "    0: inclined_tables\n",
    "    1: curved_tables\n",
    "    2: occluded_tables\n",
    "    3: extreme_aspect_ratio_tables\n",
    "    4: overlaid_tables\n",
    "    5: multi_color_tables\n",
    "    6: irregular_tables\n",
    "\"\"\"\n",
    "\n",
    "with open(\"yolov8.yaml\", mode=\"w\") as f:\n",
    "    f.write(file_content)"
   ]
  },
  {
   "cell_type": "code",
   "execution_count": 4,
   "id": "d2f76b89",
   "metadata": {
    "execution": {
     "iopub.execute_input": "2024-02-19T15:55:13.564962Z",
     "iopub.status.busy": "2024-02-19T15:55:13.564359Z",
     "iopub.status.idle": "2024-02-19T15:55:14.593977Z",
     "shell.execute_reply": "2024-02-19T15:55:14.592906Z"
    },
    "papermill": {
     "duration": 1.03623,
     "end_time": "2024-02-19T15:55:14.596097",
     "exception": false,
     "start_time": "2024-02-19T15:55:13.559867",
     "status": "completed"
    },
    "tags": []
   },
   "outputs": [
    {
     "data": {
      "text/plain": []
     },
     "execution_count": 4,
     "metadata": {},
     "output_type": "execute_result"
    }
   ],
   "source": [
    "import wandb\n",
    "wandb.init(mode=\"disabled\")"
   ]
  },
  {
   "cell_type": "code",
   "execution_count": 5,
   "id": "fb5f675c",
   "metadata": {
    "execution": {
     "iopub.execute_input": "2024-02-19T15:55:14.605786Z",
     "iopub.status.busy": "2024-02-19T15:55:14.605438Z",
     "iopub.status.idle": "2024-02-19T19:34:30.265099Z",
     "shell.execute_reply": "2024-02-19T19:34:30.263903Z"
    },
    "papermill": {
     "duration": 13155.671556,
     "end_time": "2024-02-19T19:34:30.271685",
     "exception": false,
     "start_time": "2024-02-19T15:55:14.600129",
     "status": "completed"
    },
    "tags": []
   },
   "outputs": [
    {
     "name": "stdout",
     "output_type": "stream",
     "text": [
      "Downloading https://github.com/ultralytics/assets/releases/download/v8.1.0/yolov8l.pt to 'yolov8l.pt'...\n"
     ]
    },
    {
     "name": "stderr",
     "output_type": "stream",
     "text": [
      "100%|██████████| 83.7M/83.7M [00:00<00:00, 226MB/s]\n"
     ]
    },
    {
     "name": "stdout",
     "output_type": "stream",
     "text": [
      "Ultralytics YOLOv8.1.15 🚀 Python-3.10.13 torch-2.1.2 CUDA:0 (Tesla P100-PCIE-16GB, 16276MiB)\n",
      "\u001b[34m\u001b[1mengine/trainer: \u001b[0mtask=detect, mode=train, model=yolov8l.pt, data=/kaggle/working/yolov8.yaml, epochs=25, time=None, patience=50, batch=8, imgsz=640, save=True, save_period=-1, cache=False, device=None, workers=8, project=None, name=train, exist_ok=False, pretrained=True, optimizer=auto, verbose=True, seed=0, deterministic=True, single_cls=False, rect=False, cos_lr=False, close_mosaic=10, resume=False, amp=True, fraction=1.0, profile=False, freeze=None, multi_scale=False, overlap_mask=True, mask_ratio=4, dropout=0.0, val=True, split=val, save_json=False, save_hybrid=False, conf=None, iou=0.7, max_det=300, half=False, dnn=False, plots=True, source=None, vid_stride=1, stream_buffer=False, visualize=False, augment=False, agnostic_nms=False, classes=None, retina_masks=False, embed=None, show=False, save_frames=False, save_txt=False, save_conf=False, save_crop=False, show_labels=True, show_conf=True, show_boxes=True, line_width=None, format=torchscript, keras=False, optimize=False, int8=False, dynamic=False, simplify=False, opset=None, workspace=4, nms=False, lr0=0.01, lrf=0.01, momentum=0.937, weight_decay=0.0005, warmup_epochs=3.0, warmup_momentum=0.8, warmup_bias_lr=0.1, box=7.5, cls=0.5, dfl=1.5, pose=12.0, kobj=1.0, label_smoothing=0.0, nbs=64, hsv_h=0.015, hsv_s=0.7, hsv_v=0.4, degrees=0.0, translate=0.1, scale=0.5, shear=0.0, perspective=0.0, flipud=0.0, fliplr=0.5, mosaic=1.0, mixup=0.0, copy_paste=0.0, auto_augment=randaugment, erasing=0.4, crop_fraction=1.0, cfg=None, tracker=botsort.yaml, save_dir=runs/detect/train\n",
      "Downloading https://ultralytics.com/assets/Arial.ttf to '/root/.config/Ultralytics/Arial.ttf'...\n"
     ]
    },
    {
     "name": "stderr",
     "output_type": "stream",
     "text": [
      "100%|██████████| 755k/755k [00:00<00:00, 14.3MB/s]\n",
      "2024-02-19 15:55:18,177\tINFO util.py:124 -- Outdated packages:\n",
      "  ipywidgets==7.7.1 found, needs ipywidgets>=8\n",
      "Run `pip install -U ipywidgets`, then restart the notebook server for rich notebook output.\n",
      "2024-02-19 15:55:18,928\tINFO util.py:124 -- Outdated packages:\n",
      "  ipywidgets==7.7.1 found, needs ipywidgets>=8\n",
      "Run `pip install -U ipywidgets`, then restart the notebook server for rich notebook output.\n",
      "2024-02-19 15:55:21.284630: E external/local_xla/xla/stream_executor/cuda/cuda_dnn.cc:9261] Unable to register cuDNN factory: Attempting to register factory for plugin cuDNN when one has already been registered\n",
      "2024-02-19 15:55:21.284737: E external/local_xla/xla/stream_executor/cuda/cuda_fft.cc:607] Unable to register cuFFT factory: Attempting to register factory for plugin cuFFT when one has already been registered\n",
      "2024-02-19 15:55:21.431801: E external/local_xla/xla/stream_executor/cuda/cuda_blas.cc:1515] Unable to register cuBLAS factory: Attempting to register factory for plugin cuBLAS when one has already been registered\n"
     ]
    },
    {
     "name": "stdout",
     "output_type": "stream",
     "text": [
      "Overriding model.yaml nc=80 with nc=7\n",
      "\n",
      "                   from  n    params  module                                       arguments                     \n",
      "  0                  -1  1      1856  ultralytics.nn.modules.conv.Conv             [3, 64, 3, 2]                 \n",
      "  1                  -1  1     73984  ultralytics.nn.modules.conv.Conv             [64, 128, 3, 2]               \n",
      "  2                  -1  3    279808  ultralytics.nn.modules.block.C2f             [128, 128, 3, True]           \n",
      "  3                  -1  1    295424  ultralytics.nn.modules.conv.Conv             [128, 256, 3, 2]              \n",
      "  4                  -1  6   2101248  ultralytics.nn.modules.block.C2f             [256, 256, 6, True]           \n",
      "  5                  -1  1   1180672  ultralytics.nn.modules.conv.Conv             [256, 512, 3, 2]              \n",
      "  6                  -1  6   8396800  ultralytics.nn.modules.block.C2f             [512, 512, 6, True]           \n",
      "  7                  -1  1   2360320  ultralytics.nn.modules.conv.Conv             [512, 512, 3, 2]              \n",
      "  8                  -1  3   4461568  ultralytics.nn.modules.block.C2f             [512, 512, 3, True]           \n",
      "  9                  -1  1    656896  ultralytics.nn.modules.block.SPPF            [512, 512, 5]                 \n",
      " 10                  -1  1         0  torch.nn.modules.upsampling.Upsample         [None, 2, 'nearest']          \n",
      " 11             [-1, 6]  1         0  ultralytics.nn.modules.conv.Concat           [1]                           \n",
      " 12                  -1  3   4723712  ultralytics.nn.modules.block.C2f             [1024, 512, 3]                \n",
      " 13                  -1  1         0  torch.nn.modules.upsampling.Upsample         [None, 2, 'nearest']          \n",
      " 14             [-1, 4]  1         0  ultralytics.nn.modules.conv.Concat           [1]                           \n",
      " 15                  -1  3   1247744  ultralytics.nn.modules.block.C2f             [768, 256, 3]                 \n",
      " 16                  -1  1    590336  ultralytics.nn.modules.conv.Conv             [256, 256, 3, 2]              \n",
      " 17            [-1, 12]  1         0  ultralytics.nn.modules.conv.Concat           [1]                           \n",
      " 18                  -1  3   4592640  ultralytics.nn.modules.block.C2f             [768, 512, 3]                 \n",
      " 19                  -1  1   2360320  ultralytics.nn.modules.conv.Conv             [512, 512, 3, 2]              \n",
      " 20             [-1, 9]  1         0  ultralytics.nn.modules.conv.Concat           [1]                           \n",
      " 21                  -1  3   4723712  ultralytics.nn.modules.block.C2f             [1024, 512, 3]                \n",
      " 22        [15, 18, 21]  1   5588197  ultralytics.nn.modules.head.Detect           [7, [256, 512, 512]]          \n",
      "Model summary: 365 layers, 43635237 parameters, 43635221 gradients, 165.4 GFLOPs\n",
      "\n",
      "Transferred 589/595 items from pretrained weights\n",
      "\u001b[34m\u001b[1mTensorBoard: \u001b[0mStart with 'tensorboard --logdir runs/detect/train', view at http://localhost:6006/\n",
      "Freezing layer 'model.22.dfl.conv.weight'\n",
      "\u001b[34m\u001b[1mAMP: \u001b[0mrunning Automatic Mixed Precision (AMP) checks with YOLOv8n...\n",
      "Downloading https://github.com/ultralytics/assets/releases/download/v8.1.0/yolov8n.pt to 'yolov8n.pt'...\n"
     ]
    },
    {
     "name": "stderr",
     "output_type": "stream",
     "text": [
      "100%|██████████| 6.23M/6.23M [00:00<00:00, 75.2MB/s]\n"
     ]
    },
    {
     "name": "stdout",
     "output_type": "stream",
     "text": [
      "\u001b[34m\u001b[1mAMP: \u001b[0mchecks passed ✅\n"
     ]
    },
    {
     "name": "stderr",
     "output_type": "stream",
     "text": [
      "\u001b[34m\u001b[1mtrain: \u001b[0mScanning /kaggle/input/tableparsing/Table-parsing-1/train/labels... 6704 images, 0 backgrounds, 0 corrupt: 100%|██████████| 6704/6704 [00:17<00:00, 380.28it/s]\n"
     ]
    },
    {
     "name": "stdout",
     "output_type": "stream",
     "text": [
      "\u001b[34m\u001b[1mtrain: \u001b[0mWARNING ⚠️ Cache directory /kaggle/input/tableparsing/Table-parsing-1/train is not writeable, cache not saved.\n",
      "\u001b[34m\u001b[1malbumentations: \u001b[0mBlur(p=0.01, blur_limit=(3, 7)), MedianBlur(p=0.01, blur_limit=(3, 7)), ToGray(p=0.01), CLAHE(p=0.01, clip_limit=(1, 4.0), tile_grid_size=(8, 8))\n"
     ]
    },
    {
     "name": "stderr",
     "output_type": "stream",
     "text": [
      "\u001b[34m\u001b[1mval: \u001b[0mScanning /kaggle/input/tableparsing/Table-parsing-1/valid/labels... 1922 images, 0 backgrounds, 0 corrupt: 100%|██████████| 1922/1922 [00:04<00:00, 390.82it/s]\n"
     ]
    },
    {
     "name": "stdout",
     "output_type": "stream",
     "text": [
      "\u001b[34m\u001b[1mval: \u001b[0mWARNING ⚠️ Cache directory /kaggle/input/tableparsing/Table-parsing-1/valid is not writeable, cache not saved.\n",
      "Plotting labels to runs/detect/train/labels.jpg... \n",
      "\u001b[34m\u001b[1moptimizer:\u001b[0m 'optimizer=auto' found, ignoring 'lr0=0.01' and 'momentum=0.937' and determining best 'optimizer', 'lr0' and 'momentum' automatically... \n",
      "\u001b[34m\u001b[1moptimizer:\u001b[0m AdamW(lr=0.000909, momentum=0.9) with parameter groups 97 weight(decay=0.0), 104 weight(decay=0.0005), 103 bias(decay=0.0)\n",
      "\u001b[34m\u001b[1mTensorBoard: \u001b[0mmodel graph visualization added ✅\n",
      "Image sizes 640 train, 640 val\n",
      "Using 4 dataloader workers\n",
      "Logging results to \u001b[1mruns/detect/train\u001b[0m\n",
      "Starting training for 25 epochs...\n",
      "\n",
      "      Epoch    GPU_mem   box_loss   cls_loss   dfl_loss  Instances       Size\n"
     ]
    },
    {
     "name": "stderr",
     "output_type": "stream",
     "text": [
      "       1/25      15.4G     0.9761      0.694     0.9888        901        640: 100%|██████████| 838/838 [08:08<00:00,  1.71it/s]\n",
      "                 Class     Images  Instances      Box(P          R      mAP50  mAP50-95): 100%|██████████| 121/121 [00:52<00:00,  2.29it/s]\n"
     ]
    },
    {
     "name": "stdout",
     "output_type": "stream",
     "text": [
      "                   all       1922     195111      0.948      0.721      0.768      0.597\n",
      "\n",
      "      Epoch    GPU_mem   box_loss   cls_loss   dfl_loss  Instances       Size\n"
     ]
    },
    {
     "name": "stderr",
     "output_type": "stream",
     "text": [
      "       2/25        13G     0.8755       0.53     0.9313        463        640: 100%|██████████| 838/838 [07:45<00:00,  1.80it/s]\n",
      "                 Class     Images  Instances      Box(P          R      mAP50  mAP50-95): 100%|██████████| 121/121 [00:52<00:00,  2.30it/s]\n"
     ]
    },
    {
     "name": "stdout",
     "output_type": "stream",
     "text": [
      "                   all       1922     195111      0.945      0.716      0.767       0.63\n",
      "\n",
      "      Epoch    GPU_mem   box_loss   cls_loss   dfl_loss  Instances       Size\n"
     ]
    },
    {
     "name": "stderr",
     "output_type": "stream",
     "text": [
      "       3/25        13G     0.8457     0.5102     0.9185       1165        640: 100%|██████████| 838/838 [07:41<00:00,  1.81it/s]\n",
      "                 Class     Images  Instances      Box(P          R      mAP50  mAP50-95): 100%|██████████| 121/121 [00:51<00:00,  2.33it/s]\n"
     ]
    },
    {
     "name": "stdout",
     "output_type": "stream",
     "text": [
      "                   all       1922     195111      0.961      0.729      0.784      0.642\n",
      "\n",
      "      Epoch    GPU_mem   box_loss   cls_loss   dfl_loss  Instances       Size\n"
     ]
    },
    {
     "name": "stderr",
     "output_type": "stream",
     "text": [
      "       4/25      15.6G     0.8379     0.4896     0.9098       1469        640: 100%|██████████| 838/838 [07:44<00:00,  1.81it/s]\n",
      "                 Class     Images  Instances      Box(P          R      mAP50  mAP50-95): 100%|██████████| 121/121 [00:52<00:00,  2.32it/s]\n"
     ]
    },
    {
     "name": "stdout",
     "output_type": "stream",
     "text": [
      "                   all       1922     195111      0.958      0.734      0.783      0.643\n",
      "\n",
      "      Epoch    GPU_mem   box_loss   cls_loss   dfl_loss  Instances       Size\n"
     ]
    },
    {
     "name": "stderr",
     "output_type": "stream",
     "text": [
      "       5/25      11.6G     0.8007     0.4698     0.9003       1217        640: 100%|██████████| 838/838 [07:42<00:00,  1.81it/s]\n",
      "                 Class     Images  Instances      Box(P          R      mAP50  mAP50-95): 100%|██████████| 121/121 [00:52<00:00,  2.32it/s]\n"
     ]
    },
    {
     "name": "stdout",
     "output_type": "stream",
     "text": [
      "                   all       1922     195111      0.965      0.736      0.784      0.648\n",
      "\n",
      "      Epoch    GPU_mem   box_loss   cls_loss   dfl_loss  Instances       Size\n"
     ]
    },
    {
     "name": "stderr",
     "output_type": "stream",
     "text": [
      "       6/25      10.1G     0.7914     0.4591     0.8988        818        640: 100%|██████████| 838/838 [07:42<00:00,  1.81it/s]\n",
      "                 Class     Images  Instances      Box(P          R      mAP50  mAP50-95): 100%|██████████| 121/121 [00:51<00:00,  2.35it/s]\n"
     ]
    },
    {
     "name": "stdout",
     "output_type": "stream",
     "text": [
      "                   all       1922     195111      0.963      0.737      0.796      0.663\n",
      "\n",
      "      Epoch    GPU_mem   box_loss   cls_loss   dfl_loss  Instances       Size\n"
     ]
    },
    {
     "name": "stderr",
     "output_type": "stream",
     "text": [
      "       7/25      16.5G     0.7679     0.4374     0.8882        855        640: 100%|██████████| 838/838 [07:40<00:00,  1.82it/s]\n",
      "                 Class     Images  Instances      Box(P          R      mAP50  mAP50-95): 100%|██████████| 121/121 [00:52<00:00,  2.32it/s]\n"
     ]
    },
    {
     "name": "stdout",
     "output_type": "stream",
     "text": [
      "                   all       1922     195111      0.968      0.739      0.793      0.667\n",
      "\n",
      "      Epoch    GPU_mem   box_loss   cls_loss   dfl_loss  Instances       Size\n"
     ]
    },
    {
     "name": "stderr",
     "output_type": "stream",
     "text": [
      "       8/25      9.55G     0.7517     0.4167     0.8827       1350        640: 100%|██████████| 838/838 [07:41<00:00,  1.81it/s]\n",
      "                 Class     Images  Instances      Box(P          R      mAP50  mAP50-95): 100%|██████████| 121/121 [00:52<00:00,  2.32it/s]\n"
     ]
    },
    {
     "name": "stdout",
     "output_type": "stream",
     "text": [
      "                   all       1922     195111      0.969       0.74      0.787       0.67\n",
      "\n",
      "      Epoch    GPU_mem   box_loss   cls_loss   dfl_loss  Instances       Size\n"
     ]
    },
    {
     "name": "stderr",
     "output_type": "stream",
     "text": [
      "       9/25        14G     0.7444      0.417     0.8825        463        640: 100%|██████████| 838/838 [07:42<00:00,  1.81it/s]\n",
      "                 Class     Images  Instances      Box(P          R      mAP50  mAP50-95): 100%|██████████| 121/121 [00:52<00:00,  2.31it/s]\n"
     ]
    },
    {
     "name": "stdout",
     "output_type": "stream",
     "text": [
      "                   all       1922     195111      0.965      0.739      0.785      0.666\n",
      "\n",
      "      Epoch    GPU_mem   box_loss   cls_loss   dfl_loss  Instances       Size\n"
     ]
    },
    {
     "name": "stderr",
     "output_type": "stream",
     "text": [
      "      10/25      15.8G     0.7472     0.4129     0.8791        874        640: 100%|██████████| 838/838 [07:42<00:00,  1.81it/s]\n",
      "                 Class     Images  Instances      Box(P          R      mAP50  mAP50-95): 100%|██████████| 121/121 [00:52<00:00,  2.32it/s]\n"
     ]
    },
    {
     "name": "stdout",
     "output_type": "stream",
     "text": [
      "                   all       1922     195111      0.963      0.739      0.787       0.68\n",
      "\n",
      "      Epoch    GPU_mem   box_loss   cls_loss   dfl_loss  Instances       Size\n"
     ]
    },
    {
     "name": "stderr",
     "output_type": "stream",
     "text": [
      "      11/25      9.89G     0.7228     0.3993     0.8721        807        640: 100%|██████████| 838/838 [07:42<00:00,  1.81it/s]\n",
      "                 Class     Images  Instances      Box(P          R      mAP50  mAP50-95): 100%|██████████| 121/121 [00:51<00:00,  2.36it/s]\n"
     ]
    },
    {
     "name": "stdout",
     "output_type": "stream",
     "text": [
      "                   all       1922     195111      0.972      0.743      0.804      0.693\n",
      "\n",
      "      Epoch    GPU_mem   box_loss   cls_loss   dfl_loss  Instances       Size\n"
     ]
    },
    {
     "name": "stderr",
     "output_type": "stream",
     "text": [
      "      12/25      13.7G     0.7221     0.3929       0.87       1400        640: 100%|██████████| 838/838 [07:42<00:00,  1.81it/s]\n",
      "                 Class     Images  Instances      Box(P          R      mAP50  mAP50-95): 100%|██████████| 121/121 [00:51<00:00,  2.35it/s]\n"
     ]
    },
    {
     "name": "stdout",
     "output_type": "stream",
     "text": [
      "                   all       1922     195111      0.974      0.743      0.797      0.695\n",
      "\n",
      "      Epoch    GPU_mem   box_loss   cls_loss   dfl_loss  Instances       Size\n"
     ]
    },
    {
     "name": "stderr",
     "output_type": "stream",
     "text": [
      "      13/25      10.7G     0.7033     0.3848     0.8676       1882        640: 100%|██████████| 838/838 [07:41<00:00,  1.82it/s]\n",
      "                 Class     Images  Instances      Box(P          R      mAP50  mAP50-95): 100%|██████████| 121/121 [00:51<00:00,  2.35it/s]\n"
     ]
    },
    {
     "name": "stdout",
     "output_type": "stream",
     "text": [
      "                   all       1922     195111      0.974      0.743      0.802      0.693\n",
      "\n",
      "      Epoch    GPU_mem   box_loss   cls_loss   dfl_loss  Instances       Size\n"
     ]
    },
    {
     "name": "stderr",
     "output_type": "stream",
     "text": [
      "      14/25        12G     0.6863     0.3785     0.8627        622        640: 100%|██████████| 838/838 [07:43<00:00,  1.81it/s]\n",
      "                 Class     Images  Instances      Box(P          R      mAP50  mAP50-95): 100%|██████████| 121/121 [00:51<00:00,  2.35it/s]\n"
     ]
    },
    {
     "name": "stdout",
     "output_type": "stream",
     "text": [
      "                   all       1922     195111      0.972      0.744      0.804      0.705\n",
      "\n",
      "      Epoch    GPU_mem   box_loss   cls_loss   dfl_loss  Instances       Size\n"
     ]
    },
    {
     "name": "stderr",
     "output_type": "stream",
     "text": [
      "      15/25      13.8G     0.6665      0.372     0.8613       1413        640: 100%|██████████| 838/838 [07:43<00:00,  1.81it/s]\n",
      "                 Class     Images  Instances      Box(P          R      mAP50  mAP50-95): 100%|██████████| 121/121 [00:52<00:00,  2.31it/s]\n"
     ]
    },
    {
     "name": "stdout",
     "output_type": "stream",
     "text": [
      "                   all       1922     195111      0.972      0.743      0.791      0.698\n",
      "Closing dataloader mosaic\n",
      "\u001b[34m\u001b[1malbumentations: \u001b[0mBlur(p=0.01, blur_limit=(3, 7)), MedianBlur(p=0.01, blur_limit=(3, 7)), ToGray(p=0.01), CLAHE(p=0.01, clip_limit=(1, 4.0), tile_grid_size=(8, 8))\n",
      "\n",
      "      Epoch    GPU_mem   box_loss   cls_loss   dfl_loss  Instances       Size\n"
     ]
    },
    {
     "name": "stderr",
     "output_type": "stream",
     "text": [
      "      16/25      16.1G      0.654     0.3658      0.855        581        640: 100%|██████████| 838/838 [07:45<00:00,  1.80it/s]\n",
      "                 Class     Images  Instances      Box(P          R      mAP50  mAP50-95): 100%|██████████| 121/121 [00:52<00:00,  2.33it/s]\n"
     ]
    },
    {
     "name": "stdout",
     "output_type": "stream",
     "text": [
      "                   all       1922     195111      0.972      0.743      0.803        0.7\n",
      "\n",
      "      Epoch    GPU_mem   box_loss   cls_loss   dfl_loss  Instances       Size\n"
     ]
    },
    {
     "name": "stderr",
     "output_type": "stream",
     "text": [
      "      17/25        16G     0.6486     0.3612      0.854       1268        640: 100%|██████████| 838/838 [07:37<00:00,  1.83it/s]\n",
      "                 Class     Images  Instances      Box(P          R      mAP50  mAP50-95): 100%|██████████| 121/121 [00:52<00:00,  2.33it/s]\n"
     ]
    },
    {
     "name": "stdout",
     "output_type": "stream",
     "text": [
      "                   all       1922     195111      0.974      0.743      0.801      0.704\n",
      "\n",
      "      Epoch    GPU_mem   box_loss   cls_loss   dfl_loss  Instances       Size\n"
     ]
    },
    {
     "name": "stderr",
     "output_type": "stream",
     "text": [
      "      18/25      12.6G     0.6221     0.3442     0.8478        244        640: 100%|██████████| 838/838 [07:37<00:00,  1.83it/s]\n",
      "                 Class     Images  Instances      Box(P          R      mAP50  mAP50-95): 100%|██████████| 121/121 [00:51<00:00,  2.34it/s]\n"
     ]
    },
    {
     "name": "stdout",
     "output_type": "stream",
     "text": [
      "                   all       1922     195111      0.974      0.744      0.803      0.714\n",
      "\n",
      "      Epoch    GPU_mem   box_loss   cls_loss   dfl_loss  Instances       Size\n"
     ]
    },
    {
     "name": "stderr",
     "output_type": "stream",
     "text": [
      "      19/25        11G     0.6047     0.3374     0.8432        415        640: 100%|██████████| 838/838 [07:37<00:00,  1.83it/s]\n",
      "                 Class     Images  Instances      Box(P          R      mAP50  mAP50-95): 100%|██████████| 121/121 [00:51<00:00,  2.35it/s]\n"
     ]
    },
    {
     "name": "stdout",
     "output_type": "stream",
     "text": [
      "                   all       1922     195111      0.975      0.745      0.805      0.717\n",
      "\n",
      "      Epoch    GPU_mem   box_loss   cls_loss   dfl_loss  Instances       Size\n"
     ]
    },
    {
     "name": "stderr",
     "output_type": "stream",
     "text": [
      "      20/25      9.83G     0.5946     0.3344     0.8398       2065        640: 100%|██████████| 838/838 [07:37<00:00,  1.83it/s]\n",
      "                 Class     Images  Instances      Box(P          R      mAP50  mAP50-95): 100%|██████████| 121/121 [00:51<00:00,  2.34it/s]\n"
     ]
    },
    {
     "name": "stdout",
     "output_type": "stream",
     "text": [
      "                   all       1922     195111      0.974      0.746      0.801      0.712\n",
      "\n",
      "      Epoch    GPU_mem   box_loss   cls_loss   dfl_loss  Instances       Size\n"
     ]
    },
    {
     "name": "stderr",
     "output_type": "stream",
     "text": [
      "      21/25      16.4G     0.5862     0.3247     0.8377       1593        640: 100%|██████████| 838/838 [07:37<00:00,  1.83it/s]\n",
      "                 Class     Images  Instances      Box(P          R      mAP50  mAP50-95): 100%|██████████| 121/121 [00:52<00:00,  2.32it/s]\n"
     ]
    },
    {
     "name": "stdout",
     "output_type": "stream",
     "text": [
      "                   all       1922     195111      0.974      0.747      0.805      0.721\n",
      "\n",
      "      Epoch    GPU_mem   box_loss   cls_loss   dfl_loss  Instances       Size\n"
     ]
    },
    {
     "name": "stderr",
     "output_type": "stream",
     "text": [
      "      22/25      16.2G     0.5652     0.3107     0.8339        307        640: 100%|██████████| 838/838 [07:37<00:00,  1.83it/s]\n",
      "                 Class     Images  Instances      Box(P          R      mAP50  mAP50-95): 100%|██████████| 121/121 [00:52<00:00,  2.32it/s]\n"
     ]
    },
    {
     "name": "stdout",
     "output_type": "stream",
     "text": [
      "                   all       1922     195111      0.973      0.746      0.804      0.723\n",
      "\n",
      "      Epoch    GPU_mem   box_loss   cls_loss   dfl_loss  Instances       Size\n"
     ]
    },
    {
     "name": "stderr",
     "output_type": "stream",
     "text": [
      "      23/25      16.3G      0.561     0.3074     0.8297        725        640: 100%|██████████| 838/838 [07:38<00:00,  1.83it/s]\n",
      "                 Class     Images  Instances      Box(P          R      mAP50  mAP50-95): 100%|██████████| 121/121 [00:52<00:00,  2.32it/s]\n"
     ]
    },
    {
     "name": "stdout",
     "output_type": "stream",
     "text": [
      "                   all       1922     195111      0.976      0.747      0.818      0.738\n",
      "\n",
      "      Epoch    GPU_mem   box_loss   cls_loss   dfl_loss  Instances       Size\n"
     ]
    },
    {
     "name": "stderr",
     "output_type": "stream",
     "text": [
      "      24/25      14.8G     0.5415     0.2928     0.8269        612        640: 100%|██████████| 838/838 [07:38<00:00,  1.83it/s]\n",
      "                 Class     Images  Instances      Box(P          R      mAP50  mAP50-95): 100%|██████████| 121/121 [00:51<00:00,  2.33it/s]\n"
     ]
    },
    {
     "name": "stdout",
     "output_type": "stream",
     "text": [
      "                   all       1922     195111      0.976      0.747      0.818      0.739\n",
      "\n",
      "      Epoch    GPU_mem   box_loss   cls_loss   dfl_loss  Instances       Size\n"
     ]
    },
    {
     "name": "stderr",
     "output_type": "stream",
     "text": [
      "      25/25      14.5G     0.5337      0.288     0.8258       1422        640: 100%|██████████| 838/838 [07:36<00:00,  1.83it/s]\n",
      "                 Class     Images  Instances      Box(P          R      mAP50  mAP50-95): 100%|██████████| 121/121 [00:51<00:00,  2.34it/s]\n"
     ]
    },
    {
     "name": "stdout",
     "output_type": "stream",
     "text": [
      "                   all       1922     195111      0.976      0.748      0.818      0.741\n",
      "\n",
      "25 epochs completed in 3.597 hours.\n",
      "Optimizer stripped from runs/detect/train/weights/last.pt, 87.7MB\n",
      "Optimizer stripped from runs/detect/train/weights/best.pt, 87.7MB\n",
      "\n",
      "Validating runs/detect/train/weights/best.pt...\n",
      "Ultralytics YOLOv8.1.15 🚀 Python-3.10.13 torch-2.1.2 CUDA:0 (Tesla P100-PCIE-16GB, 16276MiB)\n",
      "Model summary (fused): 268 layers, 43612005 parameters, 0 gradients, 164.8 GFLOPs\n"
     ]
    },
    {
     "name": "stderr",
     "output_type": "stream",
     "text": [
      "                 Class     Images  Instances      Box(P          R      mAP50  mAP50-95): 100%|██████████| 121/121 [02:00<00:00,  1.01it/s]\n"
     ]
    },
    {
     "name": "stdout",
     "output_type": "stream",
     "text": [
      "                   all       1922     195111      0.976      0.748      0.818      0.741\n",
      "       inclined_tables       1922     195111      0.976      0.748      0.818      0.741\n",
      "Speed: 0.2ms preprocess, 17.6ms inference, 0.0ms loss, 1.4ms postprocess per image\n",
      "Results saved to \u001b[1mruns/detect/train\u001b[0m\n"
     ]
    },
    {
     "data": {
      "text/plain": [
       "ultralytics.utils.metrics.DetMetrics object with attributes:\n",
       "\n",
       "ap_class_index: array([0])\n",
       "box: ultralytics.utils.metrics.Metric object\n",
       "confusion_matrix: <ultralytics.utils.metrics.ConfusionMatrix object at 0x7b9d567944c0>\n",
       "curves: ['Precision-Recall(B)', 'F1-Confidence(B)', 'Precision-Confidence(B)', 'Recall-Confidence(B)']\n",
       "curves_results: [[array([          0,    0.001001,    0.002002,    0.003003,    0.004004,    0.005005,    0.006006,    0.007007,    0.008008,    0.009009,     0.01001,    0.011011,    0.012012,    0.013013,    0.014014,    0.015015,    0.016016,    0.017017,    0.018018,    0.019019,     0.02002,    0.021021,    0.022022,    0.023023,\n",
       "          0.024024,    0.025025,    0.026026,    0.027027,    0.028028,    0.029029,     0.03003,    0.031031,    0.032032,    0.033033,    0.034034,    0.035035,    0.036036,    0.037037,    0.038038,    0.039039,     0.04004,    0.041041,    0.042042,    0.043043,    0.044044,    0.045045,    0.046046,    0.047047,\n",
       "          0.048048,    0.049049,     0.05005,    0.051051,    0.052052,    0.053053,    0.054054,    0.055055,    0.056056,    0.057057,    0.058058,    0.059059,     0.06006,    0.061061,    0.062062,    0.063063,    0.064064,    0.065065,    0.066066,    0.067067,    0.068068,    0.069069,     0.07007,    0.071071,\n",
       "          0.072072,    0.073073,    0.074074,    0.075075,    0.076076,    0.077077,    0.078078,    0.079079,     0.08008,    0.081081,    0.082082,    0.083083,    0.084084,    0.085085,    0.086086,    0.087087,    0.088088,    0.089089,     0.09009,    0.091091,    0.092092,    0.093093,    0.094094,    0.095095,\n",
       "          0.096096,    0.097097,    0.098098,    0.099099,      0.1001,      0.1011,      0.1021,      0.1031,      0.1041,     0.10511,     0.10611,     0.10711,     0.10811,     0.10911,     0.11011,     0.11111,     0.11211,     0.11311,     0.11411,     0.11512,     0.11612,     0.11712,     0.11812,     0.11912,\n",
       "           0.12012,     0.12112,     0.12212,     0.12312,     0.12412,     0.12513,     0.12613,     0.12713,     0.12813,     0.12913,     0.13013,     0.13113,     0.13213,     0.13313,     0.13413,     0.13514,     0.13614,     0.13714,     0.13814,     0.13914,     0.14014,     0.14114,     0.14214,     0.14314,\n",
       "           0.14414,     0.14515,     0.14615,     0.14715,     0.14815,     0.14915,     0.15015,     0.15115,     0.15215,     0.15315,     0.15415,     0.15516,     0.15616,     0.15716,     0.15816,     0.15916,     0.16016,     0.16116,     0.16216,     0.16316,     0.16416,     0.16517,     0.16617,     0.16717,\n",
       "           0.16817,     0.16917,     0.17017,     0.17117,     0.17217,     0.17317,     0.17417,     0.17518,     0.17618,     0.17718,     0.17818,     0.17918,     0.18018,     0.18118,     0.18218,     0.18318,     0.18418,     0.18519,     0.18619,     0.18719,     0.18819,     0.18919,     0.19019,     0.19119,\n",
       "           0.19219,     0.19319,     0.19419,      0.1952,      0.1962,      0.1972,      0.1982,      0.1992,      0.2002,      0.2012,      0.2022,      0.2032,      0.2042,     0.20521,     0.20621,     0.20721,     0.20821,     0.20921,     0.21021,     0.21121,     0.21221,     0.21321,     0.21421,     0.21522,\n",
       "           0.21622,     0.21722,     0.21822,     0.21922,     0.22022,     0.22122,     0.22222,     0.22322,     0.22422,     0.22523,     0.22623,     0.22723,     0.22823,     0.22923,     0.23023,     0.23123,     0.23223,     0.23323,     0.23423,     0.23524,     0.23624,     0.23724,     0.23824,     0.23924,\n",
       "           0.24024,     0.24124,     0.24224,     0.24324,     0.24424,     0.24525,     0.24625,     0.24725,     0.24825,     0.24925,     0.25025,     0.25125,     0.25225,     0.25325,     0.25425,     0.25526,     0.25626,     0.25726,     0.25826,     0.25926,     0.26026,     0.26126,     0.26226,     0.26326,\n",
       "           0.26426,     0.26527,     0.26627,     0.26727,     0.26827,     0.26927,     0.27027,     0.27127,     0.27227,     0.27327,     0.27427,     0.27528,     0.27628,     0.27728,     0.27828,     0.27928,     0.28028,     0.28128,     0.28228,     0.28328,     0.28428,     0.28529,     0.28629,     0.28729,\n",
       "           0.28829,     0.28929,     0.29029,     0.29129,     0.29229,     0.29329,     0.29429,      0.2953,      0.2963,      0.2973,      0.2983,      0.2993,      0.3003,      0.3013,      0.3023,      0.3033,      0.3043,     0.30531,     0.30631,     0.30731,     0.30831,     0.30931,     0.31031,     0.31131,\n",
       "           0.31231,     0.31331,     0.31431,     0.31532,     0.31632,     0.31732,     0.31832,     0.31932,     0.32032,     0.32132,     0.32232,     0.32332,     0.32432,     0.32533,     0.32633,     0.32733,     0.32833,     0.32933,     0.33033,     0.33133,     0.33233,     0.33333,     0.33433,     0.33534,\n",
       "           0.33634,     0.33734,     0.33834,     0.33934,     0.34034,     0.34134,     0.34234,     0.34334,     0.34434,     0.34535,     0.34635,     0.34735,     0.34835,     0.34935,     0.35035,     0.35135,     0.35235,     0.35335,     0.35435,     0.35536,     0.35636,     0.35736,     0.35836,     0.35936,\n",
       "           0.36036,     0.36136,     0.36236,     0.36336,     0.36436,     0.36537,     0.36637,     0.36737,     0.36837,     0.36937,     0.37037,     0.37137,     0.37237,     0.37337,     0.37437,     0.37538,     0.37638,     0.37738,     0.37838,     0.37938,     0.38038,     0.38138,     0.38238,     0.38338,\n",
       "           0.38438,     0.38539,     0.38639,     0.38739,     0.38839,     0.38939,     0.39039,     0.39139,     0.39239,     0.39339,     0.39439,      0.3954,      0.3964,      0.3974,      0.3984,      0.3994,      0.4004,      0.4014,      0.4024,      0.4034,      0.4044,     0.40541,     0.40641,     0.40741,\n",
       "           0.40841,     0.40941,     0.41041,     0.41141,     0.41241,     0.41341,     0.41441,     0.41542,     0.41642,     0.41742,     0.41842,     0.41942,     0.42042,     0.42142,     0.42242,     0.42342,     0.42442,     0.42543,     0.42643,     0.42743,     0.42843,     0.42943,     0.43043,     0.43143,\n",
       "           0.43243,     0.43343,     0.43443,     0.43544,     0.43644,     0.43744,     0.43844,     0.43944,     0.44044,     0.44144,     0.44244,     0.44344,     0.44444,     0.44545,     0.44645,     0.44745,     0.44845,     0.44945,     0.45045,     0.45145,     0.45245,     0.45345,     0.45445,     0.45546,\n",
       "           0.45646,     0.45746,     0.45846,     0.45946,     0.46046,     0.46146,     0.46246,     0.46346,     0.46446,     0.46547,     0.46647,     0.46747,     0.46847,     0.46947,     0.47047,     0.47147,     0.47247,     0.47347,     0.47447,     0.47548,     0.47648,     0.47748,     0.47848,     0.47948,\n",
       "           0.48048,     0.48148,     0.48248,     0.48348,     0.48448,     0.48549,     0.48649,     0.48749,     0.48849,     0.48949,     0.49049,     0.49149,     0.49249,     0.49349,     0.49449,      0.4955,      0.4965,      0.4975,      0.4985,      0.4995,      0.5005,      0.5015,      0.5025,      0.5035,\n",
       "            0.5045,     0.50551,     0.50651,     0.50751,     0.50851,     0.50951,     0.51051,     0.51151,     0.51251,     0.51351,     0.51451,     0.51552,     0.51652,     0.51752,     0.51852,     0.51952,     0.52052,     0.52152,     0.52252,     0.52352,     0.52452,     0.52553,     0.52653,     0.52753,\n",
       "           0.52853,     0.52953,     0.53053,     0.53153,     0.53253,     0.53353,     0.53453,     0.53554,     0.53654,     0.53754,     0.53854,     0.53954,     0.54054,     0.54154,     0.54254,     0.54354,     0.54454,     0.54555,     0.54655,     0.54755,     0.54855,     0.54955,     0.55055,     0.55155,\n",
       "           0.55255,     0.55355,     0.55455,     0.55556,     0.55656,     0.55756,     0.55856,     0.55956,     0.56056,     0.56156,     0.56256,     0.56356,     0.56456,     0.56557,     0.56657,     0.56757,     0.56857,     0.56957,     0.57057,     0.57157,     0.57257,     0.57357,     0.57457,     0.57558,\n",
       "           0.57658,     0.57758,     0.57858,     0.57958,     0.58058,     0.58158,     0.58258,     0.58358,     0.58458,     0.58559,     0.58659,     0.58759,     0.58859,     0.58959,     0.59059,     0.59159,     0.59259,     0.59359,     0.59459,      0.5956,      0.5966,      0.5976,      0.5986,      0.5996,\n",
       "            0.6006,      0.6016,      0.6026,      0.6036,      0.6046,     0.60561,     0.60661,     0.60761,     0.60861,     0.60961,     0.61061,     0.61161,     0.61261,     0.61361,     0.61461,     0.61562,     0.61662,     0.61762,     0.61862,     0.61962,     0.62062,     0.62162,     0.62262,     0.62362,\n",
       "           0.62462,     0.62563,     0.62663,     0.62763,     0.62863,     0.62963,     0.63063,     0.63163,     0.63263,     0.63363,     0.63463,     0.63564,     0.63664,     0.63764,     0.63864,     0.63964,     0.64064,     0.64164,     0.64264,     0.64364,     0.64464,     0.64565,     0.64665,     0.64765,\n",
       "           0.64865,     0.64965,     0.65065,     0.65165,     0.65265,     0.65365,     0.65465,     0.65566,     0.65666,     0.65766,     0.65866,     0.65966,     0.66066,     0.66166,     0.66266,     0.66366,     0.66466,     0.66567,     0.66667,     0.66767,     0.66867,     0.66967,     0.67067,     0.67167,\n",
       "           0.67267,     0.67367,     0.67467,     0.67568,     0.67668,     0.67768,     0.67868,     0.67968,     0.68068,     0.68168,     0.68268,     0.68368,     0.68468,     0.68569,     0.68669,     0.68769,     0.68869,     0.68969,     0.69069,     0.69169,     0.69269,     0.69369,     0.69469,      0.6957,\n",
       "            0.6967,      0.6977,      0.6987,      0.6997,      0.7007,      0.7017,      0.7027,      0.7037,      0.7047,     0.70571,     0.70671,     0.70771,     0.70871,     0.70971,     0.71071,     0.71171,     0.71271,     0.71371,     0.71471,     0.71572,     0.71672,     0.71772,     0.71872,     0.71972,\n",
       "           0.72072,     0.72172,     0.72272,     0.72372,     0.72472,     0.72573,     0.72673,     0.72773,     0.72873,     0.72973,     0.73073,     0.73173,     0.73273,     0.73373,     0.73473,     0.73574,     0.73674,     0.73774,     0.73874,     0.73974,     0.74074,     0.74174,     0.74274,     0.74374,\n",
       "           0.74474,     0.74575,     0.74675,     0.74775,     0.74875,     0.74975,     0.75075,     0.75175,     0.75275,     0.75375,     0.75475,     0.75576,     0.75676,     0.75776,     0.75876,     0.75976,     0.76076,     0.76176,     0.76276,     0.76376,     0.76476,     0.76577,     0.76677,     0.76777,\n",
       "           0.76877,     0.76977,     0.77077,     0.77177,     0.77277,     0.77377,     0.77477,     0.77578,     0.77678,     0.77778,     0.77878,     0.77978,     0.78078,     0.78178,     0.78278,     0.78378,     0.78478,     0.78579,     0.78679,     0.78779,     0.78879,     0.78979,     0.79079,     0.79179,\n",
       "           0.79279,     0.79379,     0.79479,      0.7958,      0.7968,      0.7978,      0.7988,      0.7998,      0.8008,      0.8018,      0.8028,      0.8038,      0.8048,     0.80581,     0.80681,     0.80781,     0.80881,     0.80981,     0.81081,     0.81181,     0.81281,     0.81381,     0.81481,     0.81582,\n",
       "           0.81682,     0.81782,     0.81882,     0.81982,     0.82082,     0.82182,     0.82282,     0.82382,     0.82482,     0.82583,     0.82683,     0.82783,     0.82883,     0.82983,     0.83083,     0.83183,     0.83283,     0.83383,     0.83483,     0.83584,     0.83684,     0.83784,     0.83884,     0.83984,\n",
       "           0.84084,     0.84184,     0.84284,     0.84384,     0.84484,     0.84585,     0.84685,     0.84785,     0.84885,     0.84985,     0.85085,     0.85185,     0.85285,     0.85385,     0.85485,     0.85586,     0.85686,     0.85786,     0.85886,     0.85986,     0.86086,     0.86186,     0.86286,     0.86386,\n",
       "           0.86486,     0.86587,     0.86687,     0.86787,     0.86887,     0.86987,     0.87087,     0.87187,     0.87287,     0.87387,     0.87487,     0.87588,     0.87688,     0.87788,     0.87888,     0.87988,     0.88088,     0.88188,     0.88288,     0.88388,     0.88488,     0.88589,     0.88689,     0.88789,\n",
       "           0.88889,     0.88989,     0.89089,     0.89189,     0.89289,     0.89389,     0.89489,      0.8959,      0.8969,      0.8979,      0.8989,      0.8999,      0.9009,      0.9019,      0.9029,      0.9039,      0.9049,     0.90591,     0.90691,     0.90791,     0.90891,     0.90991,     0.91091,     0.91191,\n",
       "           0.91291,     0.91391,     0.91491,     0.91592,     0.91692,     0.91792,     0.91892,     0.91992,     0.92092,     0.92192,     0.92292,     0.92392,     0.92492,     0.92593,     0.92693,     0.92793,     0.92893,     0.92993,     0.93093,     0.93193,     0.93293,     0.93393,     0.93493,     0.93594,\n",
       "           0.93694,     0.93794,     0.93894,     0.93994,     0.94094,     0.94194,     0.94294,     0.94394,     0.94494,     0.94595,     0.94695,     0.94795,     0.94895,     0.94995,     0.95095,     0.95195,     0.95295,     0.95395,     0.95495,     0.95596,     0.95696,     0.95796,     0.95896,     0.95996,\n",
       "           0.96096,     0.96196,     0.96296,     0.96396,     0.96496,     0.96597,     0.96697,     0.96797,     0.96897,     0.96997,     0.97097,     0.97197,     0.97297,     0.97397,     0.97497,     0.97598,     0.97698,     0.97798,     0.97898,     0.97998,     0.98098,     0.98198,     0.98298,     0.98398,\n",
       "           0.98498,     0.98599,     0.98699,     0.98799,     0.98899,     0.98999,     0.99099,     0.99199,     0.99299,     0.99399,     0.99499,       0.996,       0.997,       0.998,       0.999,           1]), array([[          1,           1,           1,           1,           1,           1,           1,           1,           1,           1,           1,           1,           1,           1,           1,           1,           1,           1,           1,           1,           1,           1,           1,\n",
       "                  1,           1,           1,           1,           1,           1,           1,           1,           1,           1,           1,           1,           1,           1,           1,           1,           1,           1,           1,           1,           1,           1,           1,\n",
       "                  1,     0.99991,     0.99991,     0.99991,     0.99991,     0.99991,     0.99991,     0.99991,     0.99991,     0.99991,     0.99991,     0.99983,     0.99983,     0.99967,     0.99967,     0.99967,      0.9996,      0.9996,      0.9996,      0.9995,      0.9995,      0.9995,      0.9995,\n",
       "             0.9995,      0.9995,      0.9995,     0.99944,     0.99938,     0.99938,     0.99933,     0.99933,     0.99924,     0.99924,     0.99924,     0.99924,     0.99924,     0.99917,     0.99917,     0.99917,     0.99917,     0.99917,     0.99906,     0.99906,     0.99906,     0.99906,     0.99906,\n",
       "            0.99906,     0.99906,     0.99906,     0.99906,     0.99906,     0.99906,     0.99902,     0.99902,     0.99898,     0.99891,     0.99891,     0.99889,     0.99889,     0.99889,     0.99885,     0.99881,     0.99879,     0.99879,     0.99875,     0.99868,     0.99868,     0.99867,     0.99867,\n",
       "            0.99867,     0.99866,     0.99866,     0.99866,     0.99866,     0.99866,     0.99866,     0.99866,     0.99866,     0.99866,     0.99866,     0.99866,     0.99866,     0.99866,     0.99866,     0.99866,     0.99866,     0.99866,     0.99866,     0.99863,      0.9986,      0.9986,      0.9986,\n",
       "             0.9986,      0.9986,      0.9986,      0.9986,      0.9986,     0.99858,     0.99858,     0.99858,     0.99858,     0.99858,     0.99852,     0.99852,     0.99852,     0.99852,     0.99852,     0.99848,     0.99848,     0.99848,     0.99848,     0.99848,     0.99848,     0.99847,     0.99847,\n",
       "            0.99847,     0.99847,     0.99847,     0.99845,     0.99845,     0.99844,     0.99844,     0.99844,     0.99844,     0.99844,     0.99839,     0.99837,     0.99837,     0.99831,     0.99831,     0.99831,     0.99831,     0.99831,     0.99822,     0.99822,     0.99819,     0.99818,     0.99817,\n",
       "            0.99817,     0.99817,     0.99817,     0.99817,     0.99816,     0.99814,     0.99814,     0.99814,     0.99814,     0.99814,     0.99814,      0.9981,      0.9981,     0.99806,     0.99804,     0.99804,     0.99804,     0.99799,     0.99793,     0.99792,     0.99792,     0.99792,     0.99792,\n",
       "            0.99786,     0.99786,     0.99778,     0.99775,     0.99775,     0.99775,     0.99775,     0.99767,     0.99766,     0.99764,     0.99762,     0.99762,      0.9976,     0.99759,     0.99758,     0.99754,     0.99753,     0.99752,     0.99746,     0.99729,     0.99729,     0.99729,     0.99722,\n",
       "            0.99721,      0.9972,     0.99719,     0.99715,     0.99714,     0.99703,     0.99703,     0.99703,       0.997,     0.99699,     0.99687,     0.99687,     0.99687,     0.99687,     0.99687,     0.99687,     0.99687,     0.99687,     0.99687,     0.99686,     0.99686,     0.99684,     0.99684,\n",
       "            0.99684,     0.99684,     0.99684,     0.99684,     0.99684,     0.99684,     0.99679,     0.99673,     0.99667,     0.99666,     0.99663,     0.99663,     0.99657,     0.99656,     0.99656,     0.99654,     0.99654,     0.99654,     0.99654,     0.99654,     0.99652,     0.99652,      0.9965,\n",
       "            0.99644,     0.99644,     0.99644,     0.99644,     0.99644,     0.99644,     0.99644,     0.99643,     0.99643,     0.99643,     0.99643,     0.99643,     0.99643,     0.99639,     0.99638,      0.9963,      0.9963,      0.9963,      0.9963,      0.9963,     0.99625,     0.99625,     0.99625,\n",
       "            0.99625,      0.9962,     0.99619,     0.99617,      0.9961,      0.9961,      0.9961,      0.9961,     0.99605,     0.99594,     0.99594,     0.99594,     0.99594,     0.99591,     0.99589,     0.99589,     0.99588,     0.99588,     0.99588,     0.99588,     0.99586,     0.99584,     0.99583,\n",
       "            0.99583,     0.99583,     0.99583,     0.99583,     0.99579,     0.99576,     0.99563,     0.99563,     0.99563,     0.99563,     0.99563,     0.99563,     0.99561,     0.99548,     0.99547,     0.99546,     0.99546,     0.99546,     0.99546,     0.99546,     0.99546,     0.99545,     0.99545,\n",
       "            0.99536,     0.99533,     0.99533,     0.99533,     0.99533,     0.99533,     0.99527,     0.99518,     0.99518,     0.99518,       0.995,       0.995,     0.99499,     0.99499,     0.99499,     0.99499,     0.99498,     0.99496,     0.99491,     0.99485,     0.99484,     0.99484,     0.99483,\n",
       "            0.99478,     0.99473,     0.99472,     0.99472,     0.99472,     0.99472,     0.99465,     0.99463,     0.99457,     0.99457,     0.99457,     0.99457,     0.99457,     0.99457,     0.99457,     0.99457,     0.99457,     0.99457,     0.99457,     0.99451,     0.99427,     0.99427,     0.99426,\n",
       "            0.99426,     0.99426,     0.99424,     0.99424,     0.99424,     0.99424,     0.99413,     0.99413,     0.99413,     0.99413,     0.99413,     0.99407,     0.99395,     0.99394,     0.99392,     0.99386,     0.99385,     0.99359,     0.99359,     0.99359,     0.99358,     0.99349,     0.99348,\n",
       "            0.99348,     0.99348,     0.99347,     0.99346,     0.99345,     0.99324,     0.99323,      0.9932,     0.99319,     0.99317,     0.99317,     0.99316,     0.99314,     0.99312,     0.99308,     0.99302,     0.99294,     0.99294,     0.99292,     0.99289,     0.99288,     0.99288,     0.99283,\n",
       "            0.99275,     0.99275,     0.99275,     0.99275,     0.99275,     0.99275,     0.99275,     0.99275,     0.99275,     0.99275,     0.99275,     0.99275,     0.99275,     0.99275,     0.99275,     0.99275,     0.99275,     0.99275,     0.99275,     0.99275,     0.99275,     0.99275,     0.99275,\n",
       "            0.99275,     0.99275,     0.99275,     0.99275,     0.99275,     0.99275,     0.99275,     0.99275,     0.99275,     0.99275,     0.99275,     0.99275,     0.99275,     0.99275,     0.99275,     0.99275,     0.99275,     0.99275,     0.99275,     0.99275,     0.99275,     0.99275,     0.99275,\n",
       "            0.99275,     0.99275,     0.99275,     0.99275,     0.99275,     0.99275,     0.99275,     0.99275,     0.99275,     0.99275,     0.99275,     0.99275,     0.99275,     0.99275,     0.99275,     0.99275,     0.99275,     0.99275,     0.99275,     0.99275,     0.99275,     0.99275,     0.99275,\n",
       "            0.99275,     0.99275,     0.99275,     0.99275,     0.99275,     0.99275,     0.99275,     0.99275,     0.99275,     0.99275,     0.99275,     0.99275,     0.99275,     0.99275,     0.99275,     0.99275,     0.99275,     0.99275,     0.99275,     0.99275,     0.99275,     0.99275,     0.99275,\n",
       "            0.99275,     0.99275,     0.99275,     0.99275,     0.99275,     0.99275,     0.99275,     0.99275,     0.99273,     0.99273,     0.99273,     0.99273,     0.99273,     0.99273,     0.99273,     0.99273,     0.99273,     0.99273,     0.99273,     0.99273,     0.99273,     0.99273,     0.99273,\n",
       "            0.99273,     0.99273,     0.99273,     0.99273,     0.99273,     0.99273,     0.99273,     0.99273,     0.99273,     0.99273,     0.99273,     0.99273,     0.99273,     0.99273,     0.99273,     0.99273,     0.99273,     0.99273,     0.99273,     0.99273,     0.99271,      0.9927,     0.99268,\n",
       "            0.99268,     0.99267,     0.99266,     0.99263,     0.99263,     0.99262,     0.99261,     0.99261,     0.99261,     0.99261,      0.9926,      0.9926,      0.9926,      0.9926,      0.9926,     0.99259,     0.99259,     0.99259,     0.99259,     0.99259,     0.99257,     0.99257,     0.99255,\n",
       "            0.99253,     0.99252,      0.9925,      0.9925,      0.9925,      0.9925,     0.99244,     0.99242,     0.99237,     0.99237,     0.99236,     0.99234,     0.99229,     0.99228,     0.99226,     0.99222,     0.99222,     0.99219,     0.99214,     0.99213,     0.99212,     0.99212,     0.99212,\n",
       "            0.99208,     0.99207,     0.99205,     0.99204,     0.99202,     0.99197,     0.99196,     0.99194,     0.99191,     0.99189,     0.99187,     0.99184,     0.99183,     0.99181,     0.99177,     0.99176,     0.99174,     0.99174,      0.9917,     0.99167,     0.99165,     0.99161,      0.9916,\n",
       "            0.99156,     0.99155,     0.99147,     0.99144,     0.99142,     0.99139,     0.99136,     0.99135,     0.99129,     0.99127,     0.99125,     0.99123,      0.9912,     0.99119,     0.99117,     0.99116,     0.99114,     0.99114,     0.99112,     0.99109,     0.99108,     0.99107,       0.991,\n",
       "            0.99097,     0.99095,     0.99092,     0.99089,     0.99086,     0.99082,      0.9908,     0.99077,     0.99067,     0.99064,      0.9906,     0.99058,     0.99052,     0.99051,     0.99045,     0.99041,     0.99039,     0.99036,     0.99033,     0.99028,     0.99021,      0.9902,     0.99019,\n",
       "            0.99014,     0.99013,     0.99009,     0.99006,     0.99005,     0.99002,        0.99,     0.98994,     0.98993,     0.98987,     0.98981,     0.98976,     0.98971,     0.98965,     0.98961,     0.98958,     0.98953,     0.98948,      0.9894,     0.98936,     0.98931,     0.98924,     0.98914,\n",
       "            0.98908,     0.98903,       0.989,     0.98891,     0.98889,     0.98885,     0.98874,     0.98862,     0.98857,     0.98845,     0.98836,     0.98822,     0.98803,     0.98788,     0.98773,     0.98757,     0.98736,      0.9872,       0.987,     0.98684,     0.98656,     0.98625,     0.98592,\n",
       "            0.98553,     0.98493,     0.98442,     0.98392,     0.98325,     0.98255,     0.98176,     0.98085,     0.97998,     0.97853,     0.97704,     0.97555,     0.97352,     0.97025,     0.96543,     0.95811,     0.94958,     0.93618,     0.90541,     0.83151,     0.71045,       0.541,     0.53877,\n",
       "            0.53653,      0.5343,     0.53206,     0.52983,     0.52759,     0.52535,     0.52312,     0.52088,     0.51865,     0.51641,     0.51418,     0.51194,     0.50971,     0.50747,     0.50523,       0.503,     0.50076,     0.49853,     0.49629,     0.49406,     0.49182,     0.48959,     0.48735,\n",
       "            0.48511,     0.48288,     0.48064,     0.47841,     0.47617,     0.47394,      0.4717,     0.46947,     0.46723,     0.46499,     0.46276,     0.46052,     0.45829,     0.45605,     0.45382,     0.45158,     0.44935,     0.44711,     0.44487,     0.44264,      0.4404,     0.43817,     0.43593,\n",
       "             0.4337,     0.43146,     0.42923,     0.42699,     0.42475,     0.42252,     0.42028,     0.41805,     0.41581,     0.41358,     0.41134,     0.40911,     0.40687,     0.40463,      0.4024,     0.40016,     0.39793,     0.39569,     0.39346,     0.39122,     0.38899,     0.38675,     0.38451,\n",
       "            0.38228,     0.38004,     0.37781,     0.37557,     0.37334,      0.3711,     0.36887,     0.36663,     0.36439,     0.36216,     0.35992,     0.35769,     0.35545,     0.35322,     0.35098,     0.34875,     0.34651,     0.34427,     0.34204,      0.3398,     0.33757,     0.33533,      0.3331,\n",
       "            0.33086,     0.32863,     0.32639,     0.32415,     0.32192,     0.31968,     0.31745,     0.31521,     0.31298,     0.31074,     0.30851,     0.30627,     0.30404,      0.3018,     0.29956,     0.29733,     0.29509,     0.29286,     0.29062,     0.28839,     0.28615,     0.28392,     0.28168,\n",
       "            0.27944,     0.27721,     0.27497,     0.27274,      0.2705,     0.26827,     0.26603,      0.2638,     0.26156,     0.25932,     0.25709,     0.25485,     0.25262,     0.25038,     0.24815,     0.24591,     0.24368,     0.24144,      0.2392,     0.23697,     0.23473,      0.2325,     0.23026,\n",
       "            0.22803,     0.22579,     0.22356,     0.22132,     0.21908,     0.21685,     0.21461,     0.21238,     0.21014,     0.20791,     0.20567,     0.20344,      0.2012,     0.19896,     0.19673,     0.19449,     0.19226,     0.19002,     0.18779,     0.18555,     0.18332,     0.18108,     0.17884,\n",
       "            0.17661,     0.17437,     0.17214,      0.1699,     0.16767,     0.16543,      0.1632,     0.16096,     0.15872,     0.15649,     0.15425,     0.15202,     0.14978,     0.14755,     0.14531,     0.14308,     0.14084,      0.1386,     0.13637,     0.13413,      0.1319,     0.12966,     0.12743,\n",
       "            0.12519,     0.12296,     0.12072,     0.11848,     0.11625,     0.11401,     0.11178,     0.10954,     0.10731,     0.10507,     0.10284,      0.1006,    0.098364,    0.096129,    0.093893,    0.091658,    0.089422,    0.087187,    0.084951,    0.082715,     0.08048,    0.078244,    0.076009,\n",
       "           0.073773,    0.071538,    0.069302,    0.067067,    0.064831,    0.062595,     0.06036,    0.058124,    0.055889,    0.053653,    0.051418,    0.049182,    0.046947,    0.044711,    0.042475,     0.04024,    0.038004,    0.035769,    0.033533,    0.031298,    0.029062,    0.026827,    0.024591,\n",
       "           0.022356,     0.02012,    0.017884,    0.015649,    0.013413,    0.011178,   0.0089422,   0.0067067,   0.0044711,   0.0022356,           0]]), 'Recall', 'Precision'], [array([          0,    0.001001,    0.002002,    0.003003,    0.004004,    0.005005,    0.006006,    0.007007,    0.008008,    0.009009,     0.01001,    0.011011,    0.012012,    0.013013,    0.014014,    0.015015,    0.016016,    0.017017,    0.018018,    0.019019,     0.02002,    0.021021,    0.022022,    0.023023,\n",
       "          0.024024,    0.025025,    0.026026,    0.027027,    0.028028,    0.029029,     0.03003,    0.031031,    0.032032,    0.033033,    0.034034,    0.035035,    0.036036,    0.037037,    0.038038,    0.039039,     0.04004,    0.041041,    0.042042,    0.043043,    0.044044,    0.045045,    0.046046,    0.047047,\n",
       "          0.048048,    0.049049,     0.05005,    0.051051,    0.052052,    0.053053,    0.054054,    0.055055,    0.056056,    0.057057,    0.058058,    0.059059,     0.06006,    0.061061,    0.062062,    0.063063,    0.064064,    0.065065,    0.066066,    0.067067,    0.068068,    0.069069,     0.07007,    0.071071,\n",
       "          0.072072,    0.073073,    0.074074,    0.075075,    0.076076,    0.077077,    0.078078,    0.079079,     0.08008,    0.081081,    0.082082,    0.083083,    0.084084,    0.085085,    0.086086,    0.087087,    0.088088,    0.089089,     0.09009,    0.091091,    0.092092,    0.093093,    0.094094,    0.095095,\n",
       "          0.096096,    0.097097,    0.098098,    0.099099,      0.1001,      0.1011,      0.1021,      0.1031,      0.1041,     0.10511,     0.10611,     0.10711,     0.10811,     0.10911,     0.11011,     0.11111,     0.11211,     0.11311,     0.11411,     0.11512,     0.11612,     0.11712,     0.11812,     0.11912,\n",
       "           0.12012,     0.12112,     0.12212,     0.12312,     0.12412,     0.12513,     0.12613,     0.12713,     0.12813,     0.12913,     0.13013,     0.13113,     0.13213,     0.13313,     0.13413,     0.13514,     0.13614,     0.13714,     0.13814,     0.13914,     0.14014,     0.14114,     0.14214,     0.14314,\n",
       "           0.14414,     0.14515,     0.14615,     0.14715,     0.14815,     0.14915,     0.15015,     0.15115,     0.15215,     0.15315,     0.15415,     0.15516,     0.15616,     0.15716,     0.15816,     0.15916,     0.16016,     0.16116,     0.16216,     0.16316,     0.16416,     0.16517,     0.16617,     0.16717,\n",
       "           0.16817,     0.16917,     0.17017,     0.17117,     0.17217,     0.17317,     0.17417,     0.17518,     0.17618,     0.17718,     0.17818,     0.17918,     0.18018,     0.18118,     0.18218,     0.18318,     0.18418,     0.18519,     0.18619,     0.18719,     0.18819,     0.18919,     0.19019,     0.19119,\n",
       "           0.19219,     0.19319,     0.19419,      0.1952,      0.1962,      0.1972,      0.1982,      0.1992,      0.2002,      0.2012,      0.2022,      0.2032,      0.2042,     0.20521,     0.20621,     0.20721,     0.20821,     0.20921,     0.21021,     0.21121,     0.21221,     0.21321,     0.21421,     0.21522,\n",
       "           0.21622,     0.21722,     0.21822,     0.21922,     0.22022,     0.22122,     0.22222,     0.22322,     0.22422,     0.22523,     0.22623,     0.22723,     0.22823,     0.22923,     0.23023,     0.23123,     0.23223,     0.23323,     0.23423,     0.23524,     0.23624,     0.23724,     0.23824,     0.23924,\n",
       "           0.24024,     0.24124,     0.24224,     0.24324,     0.24424,     0.24525,     0.24625,     0.24725,     0.24825,     0.24925,     0.25025,     0.25125,     0.25225,     0.25325,     0.25425,     0.25526,     0.25626,     0.25726,     0.25826,     0.25926,     0.26026,     0.26126,     0.26226,     0.26326,\n",
       "           0.26426,     0.26527,     0.26627,     0.26727,     0.26827,     0.26927,     0.27027,     0.27127,     0.27227,     0.27327,     0.27427,     0.27528,     0.27628,     0.27728,     0.27828,     0.27928,     0.28028,     0.28128,     0.28228,     0.28328,     0.28428,     0.28529,     0.28629,     0.28729,\n",
       "           0.28829,     0.28929,     0.29029,     0.29129,     0.29229,     0.29329,     0.29429,      0.2953,      0.2963,      0.2973,      0.2983,      0.2993,      0.3003,      0.3013,      0.3023,      0.3033,      0.3043,     0.30531,     0.30631,     0.30731,     0.30831,     0.30931,     0.31031,     0.31131,\n",
       "           0.31231,     0.31331,     0.31431,     0.31532,     0.31632,     0.31732,     0.31832,     0.31932,     0.32032,     0.32132,     0.32232,     0.32332,     0.32432,     0.32533,     0.32633,     0.32733,     0.32833,     0.32933,     0.33033,     0.33133,     0.33233,     0.33333,     0.33433,     0.33534,\n",
       "           0.33634,     0.33734,     0.33834,     0.33934,     0.34034,     0.34134,     0.34234,     0.34334,     0.34434,     0.34535,     0.34635,     0.34735,     0.34835,     0.34935,     0.35035,     0.35135,     0.35235,     0.35335,     0.35435,     0.35536,     0.35636,     0.35736,     0.35836,     0.35936,\n",
       "           0.36036,     0.36136,     0.36236,     0.36336,     0.36436,     0.36537,     0.36637,     0.36737,     0.36837,     0.36937,     0.37037,     0.37137,     0.37237,     0.37337,     0.37437,     0.37538,     0.37638,     0.37738,     0.37838,     0.37938,     0.38038,     0.38138,     0.38238,     0.38338,\n",
       "           0.38438,     0.38539,     0.38639,     0.38739,     0.38839,     0.38939,     0.39039,     0.39139,     0.39239,     0.39339,     0.39439,      0.3954,      0.3964,      0.3974,      0.3984,      0.3994,      0.4004,      0.4014,      0.4024,      0.4034,      0.4044,     0.40541,     0.40641,     0.40741,\n",
       "           0.40841,     0.40941,     0.41041,     0.41141,     0.41241,     0.41341,     0.41441,     0.41542,     0.41642,     0.41742,     0.41842,     0.41942,     0.42042,     0.42142,     0.42242,     0.42342,     0.42442,     0.42543,     0.42643,     0.42743,     0.42843,     0.42943,     0.43043,     0.43143,\n",
       "           0.43243,     0.43343,     0.43443,     0.43544,     0.43644,     0.43744,     0.43844,     0.43944,     0.44044,     0.44144,     0.44244,     0.44344,     0.44444,     0.44545,     0.44645,     0.44745,     0.44845,     0.44945,     0.45045,     0.45145,     0.45245,     0.45345,     0.45445,     0.45546,\n",
       "           0.45646,     0.45746,     0.45846,     0.45946,     0.46046,     0.46146,     0.46246,     0.46346,     0.46446,     0.46547,     0.46647,     0.46747,     0.46847,     0.46947,     0.47047,     0.47147,     0.47247,     0.47347,     0.47447,     0.47548,     0.47648,     0.47748,     0.47848,     0.47948,\n",
       "           0.48048,     0.48148,     0.48248,     0.48348,     0.48448,     0.48549,     0.48649,     0.48749,     0.48849,     0.48949,     0.49049,     0.49149,     0.49249,     0.49349,     0.49449,      0.4955,      0.4965,      0.4975,      0.4985,      0.4995,      0.5005,      0.5015,      0.5025,      0.5035,\n",
       "            0.5045,     0.50551,     0.50651,     0.50751,     0.50851,     0.50951,     0.51051,     0.51151,     0.51251,     0.51351,     0.51451,     0.51552,     0.51652,     0.51752,     0.51852,     0.51952,     0.52052,     0.52152,     0.52252,     0.52352,     0.52452,     0.52553,     0.52653,     0.52753,\n",
       "           0.52853,     0.52953,     0.53053,     0.53153,     0.53253,     0.53353,     0.53453,     0.53554,     0.53654,     0.53754,     0.53854,     0.53954,     0.54054,     0.54154,     0.54254,     0.54354,     0.54454,     0.54555,     0.54655,     0.54755,     0.54855,     0.54955,     0.55055,     0.55155,\n",
       "           0.55255,     0.55355,     0.55455,     0.55556,     0.55656,     0.55756,     0.55856,     0.55956,     0.56056,     0.56156,     0.56256,     0.56356,     0.56456,     0.56557,     0.56657,     0.56757,     0.56857,     0.56957,     0.57057,     0.57157,     0.57257,     0.57357,     0.57457,     0.57558,\n",
       "           0.57658,     0.57758,     0.57858,     0.57958,     0.58058,     0.58158,     0.58258,     0.58358,     0.58458,     0.58559,     0.58659,     0.58759,     0.58859,     0.58959,     0.59059,     0.59159,     0.59259,     0.59359,     0.59459,      0.5956,      0.5966,      0.5976,      0.5986,      0.5996,\n",
       "            0.6006,      0.6016,      0.6026,      0.6036,      0.6046,     0.60561,     0.60661,     0.60761,     0.60861,     0.60961,     0.61061,     0.61161,     0.61261,     0.61361,     0.61461,     0.61562,     0.61662,     0.61762,     0.61862,     0.61962,     0.62062,     0.62162,     0.62262,     0.62362,\n",
       "           0.62462,     0.62563,     0.62663,     0.62763,     0.62863,     0.62963,     0.63063,     0.63163,     0.63263,     0.63363,     0.63463,     0.63564,     0.63664,     0.63764,     0.63864,     0.63964,     0.64064,     0.64164,     0.64264,     0.64364,     0.64464,     0.64565,     0.64665,     0.64765,\n",
       "           0.64865,     0.64965,     0.65065,     0.65165,     0.65265,     0.65365,     0.65465,     0.65566,     0.65666,     0.65766,     0.65866,     0.65966,     0.66066,     0.66166,     0.66266,     0.66366,     0.66466,     0.66567,     0.66667,     0.66767,     0.66867,     0.66967,     0.67067,     0.67167,\n",
       "           0.67267,     0.67367,     0.67467,     0.67568,     0.67668,     0.67768,     0.67868,     0.67968,     0.68068,     0.68168,     0.68268,     0.68368,     0.68468,     0.68569,     0.68669,     0.68769,     0.68869,     0.68969,     0.69069,     0.69169,     0.69269,     0.69369,     0.69469,      0.6957,\n",
       "            0.6967,      0.6977,      0.6987,      0.6997,      0.7007,      0.7017,      0.7027,      0.7037,      0.7047,     0.70571,     0.70671,     0.70771,     0.70871,     0.70971,     0.71071,     0.71171,     0.71271,     0.71371,     0.71471,     0.71572,     0.71672,     0.71772,     0.71872,     0.71972,\n",
       "           0.72072,     0.72172,     0.72272,     0.72372,     0.72472,     0.72573,     0.72673,     0.72773,     0.72873,     0.72973,     0.73073,     0.73173,     0.73273,     0.73373,     0.73473,     0.73574,     0.73674,     0.73774,     0.73874,     0.73974,     0.74074,     0.74174,     0.74274,     0.74374,\n",
       "           0.74474,     0.74575,     0.74675,     0.74775,     0.74875,     0.74975,     0.75075,     0.75175,     0.75275,     0.75375,     0.75475,     0.75576,     0.75676,     0.75776,     0.75876,     0.75976,     0.76076,     0.76176,     0.76276,     0.76376,     0.76476,     0.76577,     0.76677,     0.76777,\n",
       "           0.76877,     0.76977,     0.77077,     0.77177,     0.77277,     0.77377,     0.77477,     0.77578,     0.77678,     0.77778,     0.77878,     0.77978,     0.78078,     0.78178,     0.78278,     0.78378,     0.78478,     0.78579,     0.78679,     0.78779,     0.78879,     0.78979,     0.79079,     0.79179,\n",
       "           0.79279,     0.79379,     0.79479,      0.7958,      0.7968,      0.7978,      0.7988,      0.7998,      0.8008,      0.8018,      0.8028,      0.8038,      0.8048,     0.80581,     0.80681,     0.80781,     0.80881,     0.80981,     0.81081,     0.81181,     0.81281,     0.81381,     0.81481,     0.81582,\n",
       "           0.81682,     0.81782,     0.81882,     0.81982,     0.82082,     0.82182,     0.82282,     0.82382,     0.82482,     0.82583,     0.82683,     0.82783,     0.82883,     0.82983,     0.83083,     0.83183,     0.83283,     0.83383,     0.83483,     0.83584,     0.83684,     0.83784,     0.83884,     0.83984,\n",
       "           0.84084,     0.84184,     0.84284,     0.84384,     0.84484,     0.84585,     0.84685,     0.84785,     0.84885,     0.84985,     0.85085,     0.85185,     0.85285,     0.85385,     0.85485,     0.85586,     0.85686,     0.85786,     0.85886,     0.85986,     0.86086,     0.86186,     0.86286,     0.86386,\n",
       "           0.86486,     0.86587,     0.86687,     0.86787,     0.86887,     0.86987,     0.87087,     0.87187,     0.87287,     0.87387,     0.87487,     0.87588,     0.87688,     0.87788,     0.87888,     0.87988,     0.88088,     0.88188,     0.88288,     0.88388,     0.88488,     0.88589,     0.88689,     0.88789,\n",
       "           0.88889,     0.88989,     0.89089,     0.89189,     0.89289,     0.89389,     0.89489,      0.8959,      0.8969,      0.8979,      0.8989,      0.8999,      0.9009,      0.9019,      0.9029,      0.9039,      0.9049,     0.90591,     0.90691,     0.90791,     0.90891,     0.90991,     0.91091,     0.91191,\n",
       "           0.91291,     0.91391,     0.91491,     0.91592,     0.91692,     0.91792,     0.91892,     0.91992,     0.92092,     0.92192,     0.92292,     0.92392,     0.92492,     0.92593,     0.92693,     0.92793,     0.92893,     0.92993,     0.93093,     0.93193,     0.93293,     0.93393,     0.93493,     0.93594,\n",
       "           0.93694,     0.93794,     0.93894,     0.93994,     0.94094,     0.94194,     0.94294,     0.94394,     0.94494,     0.94595,     0.94695,     0.94795,     0.94895,     0.94995,     0.95095,     0.95195,     0.95295,     0.95395,     0.95495,     0.95596,     0.95696,     0.95796,     0.95896,     0.95996,\n",
       "           0.96096,     0.96196,     0.96296,     0.96396,     0.96496,     0.96597,     0.96697,     0.96797,     0.96897,     0.96997,     0.97097,     0.97197,     0.97297,     0.97397,     0.97497,     0.97598,     0.97698,     0.97798,     0.97898,     0.97998,     0.98098,     0.98198,     0.98298,     0.98398,\n",
       "           0.98498,     0.98599,     0.98699,     0.98799,     0.98899,     0.98999,     0.99099,     0.99199,     0.99299,     0.99399,     0.99499,       0.996,       0.997,       0.998,       0.999,           1]), array([[    0.63149,     0.63149,     0.69123,     0.72118,     0.73994,     0.75281,     0.76249,     0.76979,     0.77598,     0.78096,     0.78529,     0.78878,     0.79203,     0.79473,      0.7973,     0.79961,     0.80156,     0.80343,     0.80518,     0.80673,     0.80815,     0.80941,     0.81063,\n",
       "            0.81175,     0.81286,     0.81379,     0.81472,     0.81554,     0.81642,     0.81716,     0.81791,     0.81858,      0.8192,      0.8198,     0.82043,       0.821,     0.82144,     0.82191,     0.82249,     0.82291,     0.82346,     0.82392,     0.82427,     0.82472,     0.82516,     0.82553,\n",
       "            0.82593,     0.82624,     0.82668,     0.82704,     0.82736,     0.82771,     0.82803,     0.82833,     0.82858,     0.82882,      0.8291,     0.82934,     0.82963,     0.82987,     0.83008,      0.8303,     0.83053,     0.83077,     0.83097,     0.83122,     0.83142,      0.8316,     0.83182,\n",
       "            0.83204,     0.83223,     0.83241,     0.83253,      0.8327,     0.83287,     0.83302,     0.83315,     0.83332,     0.83349,     0.83364,     0.83382,     0.83398,      0.8341,     0.83426,     0.83437,     0.83452,     0.83464,     0.83475,     0.83486,     0.83496,     0.83511,     0.83524,\n",
       "            0.83539,     0.83553,     0.83564,     0.83578,     0.83588,     0.83603,     0.83612,     0.83619,     0.83629,     0.83638,      0.8365,      0.8366,     0.83668,     0.83678,     0.83689,     0.83697,     0.83703,     0.83712,     0.83724,      0.8373,     0.83746,     0.83751,      0.8376,\n",
       "            0.83767,     0.83781,     0.83787,     0.83797,       0.838,     0.83809,     0.83816,     0.83821,     0.83831,     0.83838,     0.83843,     0.83849,     0.83856,     0.83864,     0.83871,     0.83877,     0.83883,     0.83894,     0.83899,     0.83902,     0.83909,     0.83918,     0.83925,\n",
       "            0.83929,     0.83935,     0.83941,     0.83947,     0.83951,     0.83955,     0.83961,     0.83969,     0.83976,     0.83982,     0.83984,     0.83988,     0.83994,     0.83999,     0.84005,     0.84011,     0.84017,     0.84022,     0.84026,     0.84033,     0.84035,     0.84041,     0.84045,\n",
       "            0.84047,     0.84054,     0.84059,     0.84067,      0.8407,     0.84075,      0.8408,     0.84088,     0.84093,       0.841,     0.84106,     0.84111,     0.84114,     0.84119,     0.84123,     0.84127,     0.84129,     0.84132,      0.8414,     0.84144,     0.84145,     0.84149,     0.84156,\n",
       "            0.84157,     0.84158,     0.84164,     0.84168,     0.84172,     0.84177,     0.84182,     0.84186,     0.84191,     0.84193,     0.84194,       0.842,     0.84202,     0.84205,     0.84208,      0.8421,     0.84216,     0.84218,      0.8422,     0.84223,     0.84226,      0.8423,     0.84233,\n",
       "            0.84236,     0.84241,     0.84242,     0.84246,     0.84248,     0.84249,     0.84252,     0.84255,     0.84258,     0.84263,     0.84267,     0.84268,     0.84271,     0.84275,     0.84278,     0.84283,     0.84286,     0.84293,     0.84295,     0.84298,     0.84301,     0.84307,     0.84311,\n",
       "            0.84314,     0.84316,     0.84321,     0.84326,     0.84328,      0.8433,     0.84331,     0.84336,     0.84338,     0.84341,     0.84347,      0.8435,     0.84351,     0.84352,     0.84355,     0.84358,     0.84361,     0.84364,     0.84366,     0.84369,     0.84371,     0.84373,     0.84378,\n",
       "            0.84382,     0.84384,     0.84385,     0.84389,     0.84393,     0.84395,     0.84402,     0.84406,      0.8441,      0.8441,     0.84415,     0.84417,     0.84421,     0.84425,     0.84426,     0.84429,     0.84431,     0.84432,     0.84438,     0.84442,     0.84442,     0.84446,     0.84451,\n",
       "            0.84452,     0.84454,     0.84456,     0.84459,     0.84461,     0.84461,     0.84466,     0.84468,     0.84468,     0.84469,     0.84471,     0.84471,     0.84473,     0.84475,     0.84478,     0.84481,      0.8448,     0.84484,     0.84486,     0.84487,     0.84491,     0.84492,     0.84495,\n",
       "            0.84497,     0.84498,     0.84501,     0.84502,     0.84506,     0.84509,     0.84508,     0.84512,     0.84513,     0.84516,     0.84519,      0.8452,     0.84525,     0.84529,     0.84529,     0.84532,     0.84533,     0.84535,     0.84535,     0.84538,     0.84542,     0.84544,     0.84547,\n",
       "            0.84548,      0.8455,     0.84555,     0.84556,     0.84558,     0.84559,      0.8456,      0.8456,     0.84562,     0.84563,     0.84565,     0.84567,     0.84569,      0.8457,     0.84572,     0.84575,     0.84577,     0.84577,      0.8458,     0.84581,     0.84583,     0.84586,     0.84587,\n",
       "            0.84588,     0.84589,     0.84589,      0.8459,     0.84591,     0.84596,     0.84596,     0.84598,     0.84598,     0.84598,     0.84599,     0.84601,     0.84602,     0.84605,     0.84606,     0.84611,     0.84611,     0.84612,     0.84613,     0.84614,     0.84615,     0.84616,     0.84616,\n",
       "            0.84617,     0.84621,     0.84622,     0.84623,     0.84625,     0.84624,     0.84625,     0.84626,     0.84628,     0.84629,      0.8463,      0.8463,     0.84631,     0.84632,     0.84634,     0.84635,     0.84635,     0.84636,     0.84636,     0.84639,     0.84639,     0.84641,     0.84642,\n",
       "            0.84642,     0.84643,     0.84645,     0.84647,     0.84647,     0.84648,     0.84648,      0.8465,     0.84651,     0.84652,     0.84652,     0.84655,     0.84655,     0.84656,     0.84656,     0.84655,     0.84656,     0.84656,     0.84657,     0.84658,     0.84657,     0.84658,     0.84659,\n",
       "            0.84659,     0.84661,      0.8466,     0.84659,      0.8466,     0.84659,     0.84659,      0.8466,     0.84659,     0.84659,      0.8466,     0.84659,      0.8466,     0.84661,      0.8466,     0.84659,     0.84659,     0.84659,     0.84659,     0.84658,     0.84658,     0.84659,      0.8466,\n",
       "            0.84661,      0.8466,     0.84658,     0.84658,     0.84658,     0.84659,     0.84657,     0.84657,     0.84658,     0.84658,     0.84657,      0.8466,     0.84659,     0.84658,     0.84657,     0.84657,     0.84654,     0.84654,     0.84654,     0.84655,     0.84654,     0.84655,     0.84654,\n",
       "            0.84654,     0.84655,     0.84656,     0.84653,     0.84652,     0.84653,     0.84653,     0.84652,     0.84651,     0.84651,      0.8465,     0.84649,     0.84649,     0.84651,     0.84651,     0.84649,     0.84648,     0.84648,     0.84649,     0.84649,      0.8465,      0.8465,     0.84651,\n",
       "            0.84651,     0.84649,     0.84649,     0.84647,     0.84646,     0.84646,     0.84647,     0.84646,     0.84645,     0.84645,     0.84644,     0.84643,     0.84643,     0.84643,     0.84643,     0.84642,     0.84643,     0.84644,     0.84644,     0.84644,     0.84642,     0.84641,     0.84641,\n",
       "             0.8464,     0.84639,     0.84637,     0.84636,     0.84634,     0.84632,     0.84632,     0.84633,     0.84631,     0.84629,      0.8463,     0.84631,     0.84632,     0.84631,      0.8463,     0.84631,      0.8463,     0.84632,     0.84633,     0.84632,     0.84633,      0.8463,     0.84631,\n",
       "            0.84631,     0.84631,     0.84629,     0.84629,     0.84626,     0.84626,     0.84624,     0.84623,      0.8462,     0.84619,     0.84618,     0.84617,     0.84616,     0.84616,     0.84613,     0.84613,     0.84612,     0.84609,     0.84608,     0.84607,     0.84605,     0.84606,     0.84603,\n",
       "            0.84602,     0.84601,       0.846,     0.84599,     0.84597,     0.84595,     0.84595,     0.84594,     0.84592,     0.84591,      0.8459,      0.8459,     0.84587,     0.84586,     0.84585,     0.84584,     0.84583,     0.84582,     0.84582,      0.8458,     0.84578,     0.84577,     0.84576,\n",
       "            0.84574,     0.84572,     0.84571,     0.84571,     0.84571,     0.84568,     0.84569,     0.84569,     0.84567,     0.84567,     0.84564,     0.84562,     0.84562,     0.84562,     0.84561,     0.84556,     0.84552,      0.8455,      0.8455,     0.84548,     0.84544,      0.8454,     0.84539,\n",
       "            0.84536,     0.84535,     0.84533,      0.8453,     0.84529,     0.84526,     0.84525,     0.84524,     0.84522,     0.84519,     0.84518,     0.84514,     0.84514,     0.84512,     0.84512,      0.8451,     0.84507,     0.84505,     0.84503,     0.84501,     0.84498,     0.84494,     0.84493,\n",
       "            0.84489,     0.84488,     0.84489,     0.84488,     0.84485,     0.84483,     0.84481,      0.8448,     0.84476,     0.84473,     0.84471,     0.84467,     0.84465,     0.84464,     0.84459,     0.84455,     0.84452,     0.84449,     0.84446,      0.8444,     0.84438,     0.84437,     0.84434,\n",
       "            0.84431,     0.84428,     0.84425,     0.84421,     0.84416,      0.8441,     0.84407,     0.84405,     0.84403,     0.84401,     0.84399,     0.84395,     0.84389,     0.84387,     0.84383,      0.8438,     0.84376,     0.84373,     0.84367,     0.84363,     0.84361,     0.84355,     0.84353,\n",
       "             0.8435,     0.84351,     0.84349,     0.84342,      0.8434,     0.84336,     0.84332,     0.84328,     0.84321,     0.84319,     0.84314,     0.84311,     0.84308,       0.843,     0.84295,     0.84292,     0.84288,     0.84283,     0.84281,     0.84274,     0.84265,     0.84263,     0.84261,\n",
       "            0.84257,     0.84253,     0.84247,     0.84237,     0.84231,     0.84223,     0.84216,     0.84212,     0.84202,     0.84197,     0.84192,     0.84187,     0.84183,     0.84179,     0.84173,     0.84165,      0.8416,     0.84154,     0.84152,     0.84145,     0.84139,     0.84135,     0.84128,\n",
       "            0.84123,     0.84114,     0.84101,     0.84096,     0.84089,     0.84082,     0.84067,      0.8406,     0.84051,     0.84048,     0.84038,     0.84032,      0.8402,     0.84011,     0.84004,     0.83991,     0.83986,     0.83981,     0.83973,     0.83957,     0.83949,     0.83942,     0.83934,\n",
       "            0.83916,     0.83907,     0.83903,     0.83893,      0.8388,      0.8387,     0.83863,     0.83854,     0.83839,     0.83833,      0.8382,     0.83805,       0.838,     0.83791,     0.83773,     0.83768,     0.83759,     0.83741,     0.83735,     0.83726,     0.83705,     0.83696,     0.83675,\n",
       "            0.83663,     0.83644,     0.83637,     0.83616,     0.83603,     0.83576,      0.8357,     0.83558,      0.8353,     0.83523,     0.83501,      0.8348,     0.83473,     0.83445,     0.83426,     0.83394,     0.83385,     0.83365,     0.83337,      0.8333,     0.83297,     0.83266,     0.83246,\n",
       "            0.83212,     0.83204,     0.83172,     0.83144,      0.8311,     0.83101,     0.83072,     0.83044,     0.83007,        0.83,     0.82957,     0.82922,     0.82882,     0.82869,     0.82826,     0.82788,     0.82756,     0.82719,     0.82674,     0.82629,     0.82619,     0.82577,     0.82538,\n",
       "            0.82487,      0.8243,     0.82419,      0.8237,     0.82322,     0.82264,      0.8221,     0.82196,     0.82133,     0.82074,     0.82026,     0.81957,     0.81889,     0.81873,     0.81796,     0.81663,     0.81646,     0.81561,      0.8148,     0.81404,      0.8132,     0.81243,     0.81156,\n",
       "            0.81142,     0.81065,     0.80971,     0.80867,     0.80773,     0.80673,     0.80566,     0.80451,     0.80335,     0.80234,     0.80215,     0.80088,     0.79863,      0.7974,      0.7961,     0.79468,     0.79345,     0.79202,     0.79174,      0.7903,     0.78883,     0.78731,     0.78575,\n",
       "            0.78425,     0.78253,     0.78079,     0.77907,     0.77744,      0.7757,     0.77383,     0.77209,     0.77022,     0.76643,     0.76416,     0.76211,        0.76,     0.75794,     0.75572,     0.75351,     0.75115,      0.7467,     0.74415,     0.74172,     0.73885,     0.73574,     0.73305,\n",
       "            0.73031,     0.72724,     0.72096,     0.71706,     0.71328,     0.70893,     0.70153,      0.6969,     0.69223,     0.68724,     0.67665,     0.67078,     0.66369,     0.65723,     0.64431,     0.63703,     0.62878,     0.61331,     0.60462,     0.59516,     0.58653,     0.56898,     0.55918,\n",
       "            0.54122,     0.53195,     0.52189,     0.50302,     0.48607,     0.47623,     0.45912,     0.44999,     0.43383,      0.4256,     0.41649,     0.40069,     0.38433,     0.37504,     0.35974,     0.35099,     0.33658,     0.32794,     0.31367,     0.29788,     0.28979,     0.27606,     0.26218,\n",
       "            0.24771,     0.23413,     0.22058,     0.21279,     0.19991,     0.18913,     0.17651,     0.16515,     0.15355,     0.14671,     0.13545,     0.12574,     0.11597,     0.10675,    0.097946,    0.090247,    0.079778,    0.073236,    0.067204,     0.06098,    0.054531,    0.049815,    0.046574,\n",
       "           0.043047,    0.040186,     0.03784,    0.036062,    0.034122,    0.032863,    0.031404,    0.030211,    0.028927,      0.0279,    0.027192,    0.026074,    0.025434,    0.024604,    0.023633,    0.022892,    0.021969,    0.020403,    0.019498,      0.0182,     0.01685,    0.015034,    0.013093,\n",
       "           0.011472,    0.010377,    0.008569,   0.0070022,   0.0053309,   0.0035649,   0.0024403,   0.0015497,   0.0010476,  0.00075007,  0.00051395,    0.000329,  0.00025675,  0.00017425,  0.00010737,  6.6119e-05,  2.4862e-05,           0,           0,           0,           0,           0,           0,\n",
       "                  0,           0,           0,           0,           0,           0,           0,           0,           0,           0,           0]]), 'Confidence', 'F1'], [array([          0,    0.001001,    0.002002,    0.003003,    0.004004,    0.005005,    0.006006,    0.007007,    0.008008,    0.009009,     0.01001,    0.011011,    0.012012,    0.013013,    0.014014,    0.015015,    0.016016,    0.017017,    0.018018,    0.019019,     0.02002,    0.021021,    0.022022,    0.023023,\n",
       "          0.024024,    0.025025,    0.026026,    0.027027,    0.028028,    0.029029,     0.03003,    0.031031,    0.032032,    0.033033,    0.034034,    0.035035,    0.036036,    0.037037,    0.038038,    0.039039,     0.04004,    0.041041,    0.042042,    0.043043,    0.044044,    0.045045,    0.046046,    0.047047,\n",
       "          0.048048,    0.049049,     0.05005,    0.051051,    0.052052,    0.053053,    0.054054,    0.055055,    0.056056,    0.057057,    0.058058,    0.059059,     0.06006,    0.061061,    0.062062,    0.063063,    0.064064,    0.065065,    0.066066,    0.067067,    0.068068,    0.069069,     0.07007,    0.071071,\n",
       "          0.072072,    0.073073,    0.074074,    0.075075,    0.076076,    0.077077,    0.078078,    0.079079,     0.08008,    0.081081,    0.082082,    0.083083,    0.084084,    0.085085,    0.086086,    0.087087,    0.088088,    0.089089,     0.09009,    0.091091,    0.092092,    0.093093,    0.094094,    0.095095,\n",
       "          0.096096,    0.097097,    0.098098,    0.099099,      0.1001,      0.1011,      0.1021,      0.1031,      0.1041,     0.10511,     0.10611,     0.10711,     0.10811,     0.10911,     0.11011,     0.11111,     0.11211,     0.11311,     0.11411,     0.11512,     0.11612,     0.11712,     0.11812,     0.11912,\n",
       "           0.12012,     0.12112,     0.12212,     0.12312,     0.12412,     0.12513,     0.12613,     0.12713,     0.12813,     0.12913,     0.13013,     0.13113,     0.13213,     0.13313,     0.13413,     0.13514,     0.13614,     0.13714,     0.13814,     0.13914,     0.14014,     0.14114,     0.14214,     0.14314,\n",
       "           0.14414,     0.14515,     0.14615,     0.14715,     0.14815,     0.14915,     0.15015,     0.15115,     0.15215,     0.15315,     0.15415,     0.15516,     0.15616,     0.15716,     0.15816,     0.15916,     0.16016,     0.16116,     0.16216,     0.16316,     0.16416,     0.16517,     0.16617,     0.16717,\n",
       "           0.16817,     0.16917,     0.17017,     0.17117,     0.17217,     0.17317,     0.17417,     0.17518,     0.17618,     0.17718,     0.17818,     0.17918,     0.18018,     0.18118,     0.18218,     0.18318,     0.18418,     0.18519,     0.18619,     0.18719,     0.18819,     0.18919,     0.19019,     0.19119,\n",
       "           0.19219,     0.19319,     0.19419,      0.1952,      0.1962,      0.1972,      0.1982,      0.1992,      0.2002,      0.2012,      0.2022,      0.2032,      0.2042,     0.20521,     0.20621,     0.20721,     0.20821,     0.20921,     0.21021,     0.21121,     0.21221,     0.21321,     0.21421,     0.21522,\n",
       "           0.21622,     0.21722,     0.21822,     0.21922,     0.22022,     0.22122,     0.22222,     0.22322,     0.22422,     0.22523,     0.22623,     0.22723,     0.22823,     0.22923,     0.23023,     0.23123,     0.23223,     0.23323,     0.23423,     0.23524,     0.23624,     0.23724,     0.23824,     0.23924,\n",
       "           0.24024,     0.24124,     0.24224,     0.24324,     0.24424,     0.24525,     0.24625,     0.24725,     0.24825,     0.24925,     0.25025,     0.25125,     0.25225,     0.25325,     0.25425,     0.25526,     0.25626,     0.25726,     0.25826,     0.25926,     0.26026,     0.26126,     0.26226,     0.26326,\n",
       "           0.26426,     0.26527,     0.26627,     0.26727,     0.26827,     0.26927,     0.27027,     0.27127,     0.27227,     0.27327,     0.27427,     0.27528,     0.27628,     0.27728,     0.27828,     0.27928,     0.28028,     0.28128,     0.28228,     0.28328,     0.28428,     0.28529,     0.28629,     0.28729,\n",
       "           0.28829,     0.28929,     0.29029,     0.29129,     0.29229,     0.29329,     0.29429,      0.2953,      0.2963,      0.2973,      0.2983,      0.2993,      0.3003,      0.3013,      0.3023,      0.3033,      0.3043,     0.30531,     0.30631,     0.30731,     0.30831,     0.30931,     0.31031,     0.31131,\n",
       "           0.31231,     0.31331,     0.31431,     0.31532,     0.31632,     0.31732,     0.31832,     0.31932,     0.32032,     0.32132,     0.32232,     0.32332,     0.32432,     0.32533,     0.32633,     0.32733,     0.32833,     0.32933,     0.33033,     0.33133,     0.33233,     0.33333,     0.33433,     0.33534,\n",
       "           0.33634,     0.33734,     0.33834,     0.33934,     0.34034,     0.34134,     0.34234,     0.34334,     0.34434,     0.34535,     0.34635,     0.34735,     0.34835,     0.34935,     0.35035,     0.35135,     0.35235,     0.35335,     0.35435,     0.35536,     0.35636,     0.35736,     0.35836,     0.35936,\n",
       "           0.36036,     0.36136,     0.36236,     0.36336,     0.36436,     0.36537,     0.36637,     0.36737,     0.36837,     0.36937,     0.37037,     0.37137,     0.37237,     0.37337,     0.37437,     0.37538,     0.37638,     0.37738,     0.37838,     0.37938,     0.38038,     0.38138,     0.38238,     0.38338,\n",
       "           0.38438,     0.38539,     0.38639,     0.38739,     0.38839,     0.38939,     0.39039,     0.39139,     0.39239,     0.39339,     0.39439,      0.3954,      0.3964,      0.3974,      0.3984,      0.3994,      0.4004,      0.4014,      0.4024,      0.4034,      0.4044,     0.40541,     0.40641,     0.40741,\n",
       "           0.40841,     0.40941,     0.41041,     0.41141,     0.41241,     0.41341,     0.41441,     0.41542,     0.41642,     0.41742,     0.41842,     0.41942,     0.42042,     0.42142,     0.42242,     0.42342,     0.42442,     0.42543,     0.42643,     0.42743,     0.42843,     0.42943,     0.43043,     0.43143,\n",
       "           0.43243,     0.43343,     0.43443,     0.43544,     0.43644,     0.43744,     0.43844,     0.43944,     0.44044,     0.44144,     0.44244,     0.44344,     0.44444,     0.44545,     0.44645,     0.44745,     0.44845,     0.44945,     0.45045,     0.45145,     0.45245,     0.45345,     0.45445,     0.45546,\n",
       "           0.45646,     0.45746,     0.45846,     0.45946,     0.46046,     0.46146,     0.46246,     0.46346,     0.46446,     0.46547,     0.46647,     0.46747,     0.46847,     0.46947,     0.47047,     0.47147,     0.47247,     0.47347,     0.47447,     0.47548,     0.47648,     0.47748,     0.47848,     0.47948,\n",
       "           0.48048,     0.48148,     0.48248,     0.48348,     0.48448,     0.48549,     0.48649,     0.48749,     0.48849,     0.48949,     0.49049,     0.49149,     0.49249,     0.49349,     0.49449,      0.4955,      0.4965,      0.4975,      0.4985,      0.4995,      0.5005,      0.5015,      0.5025,      0.5035,\n",
       "            0.5045,     0.50551,     0.50651,     0.50751,     0.50851,     0.50951,     0.51051,     0.51151,     0.51251,     0.51351,     0.51451,     0.51552,     0.51652,     0.51752,     0.51852,     0.51952,     0.52052,     0.52152,     0.52252,     0.52352,     0.52452,     0.52553,     0.52653,     0.52753,\n",
       "           0.52853,     0.52953,     0.53053,     0.53153,     0.53253,     0.53353,     0.53453,     0.53554,     0.53654,     0.53754,     0.53854,     0.53954,     0.54054,     0.54154,     0.54254,     0.54354,     0.54454,     0.54555,     0.54655,     0.54755,     0.54855,     0.54955,     0.55055,     0.55155,\n",
       "           0.55255,     0.55355,     0.55455,     0.55556,     0.55656,     0.55756,     0.55856,     0.55956,     0.56056,     0.56156,     0.56256,     0.56356,     0.56456,     0.56557,     0.56657,     0.56757,     0.56857,     0.56957,     0.57057,     0.57157,     0.57257,     0.57357,     0.57457,     0.57558,\n",
       "           0.57658,     0.57758,     0.57858,     0.57958,     0.58058,     0.58158,     0.58258,     0.58358,     0.58458,     0.58559,     0.58659,     0.58759,     0.58859,     0.58959,     0.59059,     0.59159,     0.59259,     0.59359,     0.59459,      0.5956,      0.5966,      0.5976,      0.5986,      0.5996,\n",
       "            0.6006,      0.6016,      0.6026,      0.6036,      0.6046,     0.60561,     0.60661,     0.60761,     0.60861,     0.60961,     0.61061,     0.61161,     0.61261,     0.61361,     0.61461,     0.61562,     0.61662,     0.61762,     0.61862,     0.61962,     0.62062,     0.62162,     0.62262,     0.62362,\n",
       "           0.62462,     0.62563,     0.62663,     0.62763,     0.62863,     0.62963,     0.63063,     0.63163,     0.63263,     0.63363,     0.63463,     0.63564,     0.63664,     0.63764,     0.63864,     0.63964,     0.64064,     0.64164,     0.64264,     0.64364,     0.64464,     0.64565,     0.64665,     0.64765,\n",
       "           0.64865,     0.64965,     0.65065,     0.65165,     0.65265,     0.65365,     0.65465,     0.65566,     0.65666,     0.65766,     0.65866,     0.65966,     0.66066,     0.66166,     0.66266,     0.66366,     0.66466,     0.66567,     0.66667,     0.66767,     0.66867,     0.66967,     0.67067,     0.67167,\n",
       "           0.67267,     0.67367,     0.67467,     0.67568,     0.67668,     0.67768,     0.67868,     0.67968,     0.68068,     0.68168,     0.68268,     0.68368,     0.68468,     0.68569,     0.68669,     0.68769,     0.68869,     0.68969,     0.69069,     0.69169,     0.69269,     0.69369,     0.69469,      0.6957,\n",
       "            0.6967,      0.6977,      0.6987,      0.6997,      0.7007,      0.7017,      0.7027,      0.7037,      0.7047,     0.70571,     0.70671,     0.70771,     0.70871,     0.70971,     0.71071,     0.71171,     0.71271,     0.71371,     0.71471,     0.71572,     0.71672,     0.71772,     0.71872,     0.71972,\n",
       "           0.72072,     0.72172,     0.72272,     0.72372,     0.72472,     0.72573,     0.72673,     0.72773,     0.72873,     0.72973,     0.73073,     0.73173,     0.73273,     0.73373,     0.73473,     0.73574,     0.73674,     0.73774,     0.73874,     0.73974,     0.74074,     0.74174,     0.74274,     0.74374,\n",
       "           0.74474,     0.74575,     0.74675,     0.74775,     0.74875,     0.74975,     0.75075,     0.75175,     0.75275,     0.75375,     0.75475,     0.75576,     0.75676,     0.75776,     0.75876,     0.75976,     0.76076,     0.76176,     0.76276,     0.76376,     0.76476,     0.76577,     0.76677,     0.76777,\n",
       "           0.76877,     0.76977,     0.77077,     0.77177,     0.77277,     0.77377,     0.77477,     0.77578,     0.77678,     0.77778,     0.77878,     0.77978,     0.78078,     0.78178,     0.78278,     0.78378,     0.78478,     0.78579,     0.78679,     0.78779,     0.78879,     0.78979,     0.79079,     0.79179,\n",
       "           0.79279,     0.79379,     0.79479,      0.7958,      0.7968,      0.7978,      0.7988,      0.7998,      0.8008,      0.8018,      0.8028,      0.8038,      0.8048,     0.80581,     0.80681,     0.80781,     0.80881,     0.80981,     0.81081,     0.81181,     0.81281,     0.81381,     0.81481,     0.81582,\n",
       "           0.81682,     0.81782,     0.81882,     0.81982,     0.82082,     0.82182,     0.82282,     0.82382,     0.82482,     0.82583,     0.82683,     0.82783,     0.82883,     0.82983,     0.83083,     0.83183,     0.83283,     0.83383,     0.83483,     0.83584,     0.83684,     0.83784,     0.83884,     0.83984,\n",
       "           0.84084,     0.84184,     0.84284,     0.84384,     0.84484,     0.84585,     0.84685,     0.84785,     0.84885,     0.84985,     0.85085,     0.85185,     0.85285,     0.85385,     0.85485,     0.85586,     0.85686,     0.85786,     0.85886,     0.85986,     0.86086,     0.86186,     0.86286,     0.86386,\n",
       "           0.86486,     0.86587,     0.86687,     0.86787,     0.86887,     0.86987,     0.87087,     0.87187,     0.87287,     0.87387,     0.87487,     0.87588,     0.87688,     0.87788,     0.87888,     0.87988,     0.88088,     0.88188,     0.88288,     0.88388,     0.88488,     0.88589,     0.88689,     0.88789,\n",
       "           0.88889,     0.88989,     0.89089,     0.89189,     0.89289,     0.89389,     0.89489,      0.8959,      0.8969,      0.8979,      0.8989,      0.8999,      0.9009,      0.9019,      0.9029,      0.9039,      0.9049,     0.90591,     0.90691,     0.90791,     0.90891,     0.90991,     0.91091,     0.91191,\n",
       "           0.91291,     0.91391,     0.91491,     0.91592,     0.91692,     0.91792,     0.91892,     0.91992,     0.92092,     0.92192,     0.92292,     0.92392,     0.92492,     0.92593,     0.92693,     0.92793,     0.92893,     0.92993,     0.93093,     0.93193,     0.93293,     0.93393,     0.93493,     0.93594,\n",
       "           0.93694,     0.93794,     0.93894,     0.93994,     0.94094,     0.94194,     0.94294,     0.94394,     0.94494,     0.94595,     0.94695,     0.94795,     0.94895,     0.94995,     0.95095,     0.95195,     0.95295,     0.95395,     0.95495,     0.95596,     0.95696,     0.95796,     0.95896,     0.95996,\n",
       "           0.96096,     0.96196,     0.96296,     0.96396,     0.96496,     0.96597,     0.96697,     0.96797,     0.96897,     0.96997,     0.97097,     0.97197,     0.97297,     0.97397,     0.97497,     0.97598,     0.97698,     0.97798,     0.97898,     0.97998,     0.98098,     0.98198,     0.98298,     0.98398,\n",
       "           0.98498,     0.98599,     0.98699,     0.98799,     0.98899,     0.98999,     0.99099,     0.99199,     0.99299,     0.99399,     0.99499,       0.996,       0.997,       0.998,       0.999,           1]), array([[    0.54138,     0.54138,     0.63582,     0.68868,     0.72395,     0.74919,     0.76877,     0.78386,     0.79693,     0.80765,     0.81709,     0.82475,     0.83196,     0.83799,     0.84377,     0.84903,     0.85351,      0.8578,     0.86187,     0.86548,     0.86881,     0.87176,     0.87464,\n",
       "             0.8773,     0.87995,     0.88218,     0.88443,     0.88644,     0.88854,     0.89038,     0.89219,     0.89385,     0.89536,     0.89684,     0.89841,     0.89983,     0.90094,     0.90208,     0.90354,     0.90458,     0.90594,     0.90712,     0.90799,     0.90912,     0.91021,     0.91113,\n",
       "            0.91211,     0.91291,       0.914,      0.9149,     0.91575,     0.91664,     0.91745,     0.91823,     0.91888,     0.91951,     0.92022,     0.92083,     0.92155,     0.92219,     0.92274,     0.92332,     0.92393,     0.92455,     0.92506,     0.92572,     0.92625,     0.92673,     0.92732,\n",
       "            0.92785,     0.92835,     0.92882,     0.92914,     0.92959,     0.93004,     0.93045,     0.93079,     0.93123,     0.93172,     0.93211,     0.93259,     0.93303,     0.93335,     0.93378,     0.93411,     0.93452,     0.93484,     0.93516,     0.93545,     0.93576,     0.93616,     0.93651,\n",
       "            0.93689,     0.93726,     0.93759,     0.93795,     0.93823,     0.93864,     0.93893,     0.93914,     0.93942,      0.9397,     0.94003,     0.94032,     0.94054,     0.94086,     0.94116,     0.94138,     0.94156,     0.94188,     0.94221,     0.94238,     0.94282,     0.94298,     0.94323,\n",
       "            0.94343,     0.94379,     0.94396,     0.94423,     0.94435,     0.94459,     0.94477,     0.94493,     0.94525,     0.94542,     0.94561,     0.94576,     0.94595,     0.94623,     0.94639,      0.9466,     0.94675,     0.94705,     0.94719,     0.94731,     0.94752,     0.94779,     0.94798,\n",
       "            0.94809,     0.94827,     0.94843,     0.94862,     0.94875,     0.94887,     0.94903,     0.94927,     0.94946,     0.94967,     0.94975,     0.94987,     0.95004,      0.9502,     0.95036,     0.95054,     0.95072,     0.95088,     0.95101,     0.95121,     0.95127,     0.95143,     0.95155,\n",
       "            0.95164,     0.95186,     0.95203,     0.95225,     0.95237,     0.95256,     0.95267,      0.9529,     0.95305,     0.95323,     0.95342,     0.95358,     0.95368,     0.95385,     0.95398,     0.95413,     0.95421,     0.95434,     0.95454,     0.95466,     0.95472,     0.95485,     0.95505,\n",
       "            0.95512,      0.9552,     0.95536,      0.9555,      0.9556,     0.95573,     0.95585,     0.95597,     0.95614,     0.95628,     0.95631,     0.95652,     0.95661,      0.9567,     0.95685,     0.95693,     0.95709,     0.95717,     0.95722,     0.95733,     0.95743,     0.95758,     0.95765,\n",
       "            0.95775,     0.95789,     0.95793,     0.95804,     0.95808,     0.95817,     0.95825,     0.95837,     0.95844,     0.95861,     0.95871,     0.95884,     0.95894,     0.95907,     0.95915,     0.95933,     0.95942,      0.9596,     0.95969,      0.9598,     0.95988,     0.96004,     0.96017,\n",
       "            0.96028,     0.96036,     0.96048,     0.96063,     0.96071,      0.9608,     0.96085,     0.96098,     0.96104,     0.96112,     0.96129,     0.96137,     0.96145,     0.96151,     0.96159,     0.96172,     0.96181,     0.96187,     0.96197,     0.96206,     0.96217,     0.96225,     0.96237,\n",
       "            0.96251,     0.96259,     0.96262,     0.96277,     0.96289,     0.96292,     0.96316,     0.96329,     0.96341,     0.96345,     0.96359,     0.96366,     0.96381,     0.96396,     0.96399,     0.96411,     0.96421,     0.96425,     0.96442,     0.96453,     0.96455,     0.96468,     0.96486,\n",
       "            0.96489,       0.965,     0.96505,     0.96515,     0.96524,     0.96526,     0.96541,      0.9655,     0.96552,     0.96558,     0.96567,     0.96569,      0.9658,     0.96585,     0.96597,     0.96608,     0.96609,     0.96622,     0.96634,     0.96637,     0.96651,     0.96654,     0.96664,\n",
       "            0.96674,     0.96678,     0.96688,     0.96693,     0.96705,     0.96712,     0.96713,     0.96726,     0.96729,      0.9674,     0.96751,     0.96756,     0.96767,     0.96782,     0.96785,     0.96796,       0.968,     0.96811,     0.96814,     0.96827,     0.96841,     0.96845,     0.96858,\n",
       "            0.96862,     0.96868,     0.96884,     0.96889,     0.96897,     0.96902,     0.96911,     0.96913,     0.96923,     0.96934,     0.96939,     0.96947,     0.96952,     0.96961,     0.96965,     0.96974,     0.96986,     0.96988,     0.96998,     0.97001,     0.97012,     0.97025,     0.97028,\n",
       "            0.97035,     0.97038,     0.97044,     0.97048,     0.97056,     0.97076,     0.97079,     0.97086,     0.97087,     0.97094,     0.97097,     0.97105,     0.97108,     0.97118,     0.97123,     0.97137,     0.97143,     0.97148,     0.97155,      0.9716,     0.97166,     0.97171,      0.9718,\n",
       "            0.97182,     0.97192,     0.97201,     0.97204,     0.97211,     0.97214,     0.97222,     0.97226,     0.97236,      0.9724,     0.97249,     0.97251,     0.97261,      0.9727,     0.97275,     0.97287,     0.97288,     0.97295,     0.97296,     0.97307,     0.97308,     0.97318,     0.97325,\n",
       "            0.97329,     0.97337,     0.97342,      0.9735,     0.97353,     0.97362,     0.97364,     0.97375,     0.97379,     0.97387,     0.97389,     0.97399,     0.97402,     0.97411,     0.97412,     0.97422,     0.97432,     0.97435,     0.97441,     0.97444,     0.97448,      0.9745,     0.97457,\n",
       "             0.9746,      0.9747,     0.97473,     0.97477,     0.97482,     0.97489,     0.97493,     0.97502,     0.97505,     0.97515,     0.97521,     0.97523,     0.97531,     0.97534,     0.97539,     0.97541,     0.97544,     0.97548,     0.97557,     0.97559,     0.97564,     0.97567,     0.97573,\n",
       "            0.97576,      0.9758,     0.97581,     0.97585,     0.97586,     0.97589,      0.9759,     0.97596,     0.97598,     0.97604,     0.97604,     0.97616,     0.97619,     0.97625,     0.97629,     0.97633,     0.97637,     0.97639,     0.97648,      0.9765,     0.97655,     0.97657,     0.97664,\n",
       "            0.97666,     0.97676,     0.97678,     0.97683,     0.97683,     0.97692,     0.97693,     0.97701,     0.97702,     0.97708,     0.97708,     0.97715,     0.97717,     0.97725,     0.97727,     0.97732,     0.97733,      0.9774,     0.97744,     0.97753,      0.9776,     0.97764,     0.97771,\n",
       "            0.97773,     0.97779,     0.97781,     0.97786,     0.97788,     0.97794,     0.97799,     0.97802,     0.97804,      0.9781,      0.9781,     0.97816,     0.97819,     0.97823,     0.97825,     0.97831,     0.97836,     0.97841,     0.97845,     0.97853,     0.97854,     0.97861,     0.97865,\n",
       "            0.97871,     0.97873,     0.97878,     0.97882,     0.97888,      0.9789,     0.97899,     0.97903,     0.97908,     0.97911,     0.97919,     0.97922,     0.97929,     0.97931,     0.97938,     0.97946,     0.97947,     0.97955,     0.97959,     0.97965,     0.97969,     0.97977,     0.97982,\n",
       "             0.9799,     0.97994,     0.97998,        0.98,     0.98004,     0.98007,     0.98011,     0.98013,     0.98018,      0.9802,     0.98026,     0.98028,     0.98034,     0.98039,     0.98042,     0.98043,     0.98047,     0.98049,     0.98053,     0.98055,     0.98061,     0.98063,     0.98067,\n",
       "            0.98068,     0.98076,     0.98078,     0.98086,     0.98086,     0.98095,     0.98104,     0.98104,     0.98109,      0.9811,     0.98117,     0.98119,     0.98122,     0.98123,     0.98125,     0.98126,     0.98135,     0.98139,     0.98146,     0.98147,     0.98148,     0.98151,     0.98155,\n",
       "            0.98158,     0.98163,     0.98165,     0.98172,     0.98176,     0.98183,     0.98188,     0.98192,     0.98196,       0.982,     0.98202,     0.98205,      0.9821,     0.98215,     0.98218,     0.98219,     0.98222,     0.98227,     0.98234,     0.98235,     0.98238,     0.98243,     0.98245,\n",
       "            0.98246,     0.98251,     0.98253,     0.98258,      0.9826,     0.98266,     0.98268,      0.9827,     0.98271,      0.9828,     0.98282,     0.98287,     0.98291,     0.98295,     0.98298,     0.98302,     0.98306,     0.98308,     0.98312,     0.98315,      0.9832,     0.98322,     0.98332,\n",
       "            0.98333,     0.98337,     0.98345,     0.98348,     0.98352,     0.98355,     0.98358,     0.98362,     0.98364,     0.98365,     0.98367,     0.98373,     0.98379,     0.98382,     0.98386,      0.9839,     0.98392,     0.98394,     0.98401,     0.98406,     0.98409,     0.98413,     0.98418,\n",
       "            0.98421,     0.98425,     0.98425,     0.98427,      0.9843,     0.98436,     0.98439,     0.98443,     0.98447,     0.98451,     0.98455,     0.98457,     0.98459,     0.98464,     0.98471,     0.98474,     0.98479,     0.98481,     0.98485,     0.98487,     0.98493,     0.98494,     0.98499,\n",
       "            0.98504,     0.98509,     0.98514,     0.98521,     0.98524,     0.98533,     0.98536,     0.98541,     0.98542,     0.98549,     0.98557,     0.98559,     0.98564,      0.9857,     0.98573,     0.98577,      0.9858,     0.98583,     0.98586,     0.98588,     0.98591,     0.98595,     0.98601,\n",
       "            0.98605,      0.9861,     0.98611,     0.98613,      0.9862,      0.9862,     0.98624,     0.98625,     0.98631,     0.98634,     0.98639,      0.9864,     0.98643,     0.98644,     0.98649,     0.98652,     0.98654,     0.98656,     0.98657,     0.98662,     0.98668,     0.98671,     0.98674,\n",
       "            0.98675,     0.98677,     0.98684,     0.98684,     0.98685,     0.98687,      0.9869,     0.98693,     0.98697,     0.98699,       0.987,     0.98702,     0.98707,     0.98709,     0.98711,     0.98713,     0.98717,      0.9872,     0.98723,     0.98727,      0.9873,     0.98731,     0.98733,\n",
       "            0.98736,     0.98737,     0.98741,     0.98745,      0.9875,     0.98756,     0.98757,     0.98759,     0.98764,     0.98765,     0.98765,     0.98772,     0.98773,     0.98775,      0.9878,     0.98781,     0.98783,     0.98788,     0.98789,     0.98791,     0.98797,     0.98798,     0.98805,\n",
       "            0.98812,     0.98817,     0.98818,     0.98824,     0.98827,     0.98831,     0.98834,     0.98836,     0.98839,     0.98842,     0.98845,     0.98846,     0.98848,     0.98854,     0.98856,     0.98861,     0.98861,     0.98864,     0.98867,     0.98869,     0.98876,     0.98882,     0.98885,\n",
       "            0.98886,     0.98886,      0.9889,     0.98889,      0.9889,     0.98894,     0.98898,     0.98899,     0.98902,     0.98903,     0.98903,     0.98907,     0.98911,     0.98913,     0.98918,     0.98924,     0.98928,     0.98931,     0.98935,     0.98937,     0.98938,     0.98944,     0.98946,\n",
       "            0.98948,     0.98953,     0.98955,     0.98959,      0.9896,     0.98964,      0.9897,      0.9897,     0.98974,     0.98978,     0.98983,      0.9899,     0.98993,     0.98994,     0.98997,     0.99004,     0.99005,     0.99006,     0.99012,     0.99014,     0.99018,     0.99019,     0.99022,\n",
       "            0.99025,      0.9903,     0.99036,      0.9904,     0.99044,      0.9905,     0.99055,     0.99061,     0.99068,     0.99078,      0.9908,     0.99086,     0.99095,     0.99098,     0.99106,     0.99109,     0.99114,     0.99115,     0.99116,     0.99119,     0.99124,     0.99129,     0.99135,\n",
       "            0.99142,     0.99149,     0.99159,     0.99166,      0.9917,     0.99176,      0.9918,     0.99186,     0.99191,     0.99204,      0.9921,     0.99212,     0.99218,     0.99226,     0.99231,     0.99236,     0.99249,     0.99253,     0.99258,     0.99257,     0.99258,     0.99261,     0.99262,\n",
       "            0.99266,     0.99269,     0.99272,      0.9927,     0.99269,     0.99266,     0.99266,     0.99273,     0.99272,     0.99272,      0.9926,     0.99254,     0.99254,     0.99247,     0.99233,     0.99229,     0.99232,     0.99265,     0.99287,     0.99316,     0.99348,     0.99408,     0.99426,\n",
       "            0.99471,      0.9949,     0.99517,     0.99547,     0.99579,     0.99589,     0.99623,      0.9963,     0.99643,     0.99651,     0.99662,     0.99682,     0.99699,     0.99719,      0.9976,     0.99774,     0.99793,      0.9981,     0.99816,      0.9983,     0.99843,     0.99843,     0.99851,\n",
       "            0.99859,     0.99865,     0.99864,     0.99862,     0.99866,     0.99887,     0.99905,     0.99898,     0.99914,     0.99922,     0.99937,     0.99947,     0.99958,     0.99991,      0.9999,     0.99989,           1,           1,           1,           1,           1,           1,           1,\n",
       "                  1,           1,           1,           1,           1,           1,           1,           1,           1,           1,           1,           1,           1,           1,           1,           1,           1,           1,           1,           1,           1,           1,           1,\n",
       "                  1,           1,           1,           1,           1,           1,           1,           1,           1,           1,           1,           1,           1,           1,           1,           1,           1,           1,           1,           1,           1,           1,           1,\n",
       "                  1,           1,           1,           1,           1,           1,           1,           1,           1,           1,           1]]), 'Confidence', 'Precision'], [array([          0,    0.001001,    0.002002,    0.003003,    0.004004,    0.005005,    0.006006,    0.007007,    0.008008,    0.009009,     0.01001,    0.011011,    0.012012,    0.013013,    0.014014,    0.015015,    0.016016,    0.017017,    0.018018,    0.019019,     0.02002,    0.021021,    0.022022,    0.023023,\n",
       "          0.024024,    0.025025,    0.026026,    0.027027,    0.028028,    0.029029,     0.03003,    0.031031,    0.032032,    0.033033,    0.034034,    0.035035,    0.036036,    0.037037,    0.038038,    0.039039,     0.04004,    0.041041,    0.042042,    0.043043,    0.044044,    0.045045,    0.046046,    0.047047,\n",
       "          0.048048,    0.049049,     0.05005,    0.051051,    0.052052,    0.053053,    0.054054,    0.055055,    0.056056,    0.057057,    0.058058,    0.059059,     0.06006,    0.061061,    0.062062,    0.063063,    0.064064,    0.065065,    0.066066,    0.067067,    0.068068,    0.069069,     0.07007,    0.071071,\n",
       "          0.072072,    0.073073,    0.074074,    0.075075,    0.076076,    0.077077,    0.078078,    0.079079,     0.08008,    0.081081,    0.082082,    0.083083,    0.084084,    0.085085,    0.086086,    0.087087,    0.088088,    0.089089,     0.09009,    0.091091,    0.092092,    0.093093,    0.094094,    0.095095,\n",
       "          0.096096,    0.097097,    0.098098,    0.099099,      0.1001,      0.1011,      0.1021,      0.1031,      0.1041,     0.10511,     0.10611,     0.10711,     0.10811,     0.10911,     0.11011,     0.11111,     0.11211,     0.11311,     0.11411,     0.11512,     0.11612,     0.11712,     0.11812,     0.11912,\n",
       "           0.12012,     0.12112,     0.12212,     0.12312,     0.12412,     0.12513,     0.12613,     0.12713,     0.12813,     0.12913,     0.13013,     0.13113,     0.13213,     0.13313,     0.13413,     0.13514,     0.13614,     0.13714,     0.13814,     0.13914,     0.14014,     0.14114,     0.14214,     0.14314,\n",
       "           0.14414,     0.14515,     0.14615,     0.14715,     0.14815,     0.14915,     0.15015,     0.15115,     0.15215,     0.15315,     0.15415,     0.15516,     0.15616,     0.15716,     0.15816,     0.15916,     0.16016,     0.16116,     0.16216,     0.16316,     0.16416,     0.16517,     0.16617,     0.16717,\n",
       "           0.16817,     0.16917,     0.17017,     0.17117,     0.17217,     0.17317,     0.17417,     0.17518,     0.17618,     0.17718,     0.17818,     0.17918,     0.18018,     0.18118,     0.18218,     0.18318,     0.18418,     0.18519,     0.18619,     0.18719,     0.18819,     0.18919,     0.19019,     0.19119,\n",
       "           0.19219,     0.19319,     0.19419,      0.1952,      0.1962,      0.1972,      0.1982,      0.1992,      0.2002,      0.2012,      0.2022,      0.2032,      0.2042,     0.20521,     0.20621,     0.20721,     0.20821,     0.20921,     0.21021,     0.21121,     0.21221,     0.21321,     0.21421,     0.21522,\n",
       "           0.21622,     0.21722,     0.21822,     0.21922,     0.22022,     0.22122,     0.22222,     0.22322,     0.22422,     0.22523,     0.22623,     0.22723,     0.22823,     0.22923,     0.23023,     0.23123,     0.23223,     0.23323,     0.23423,     0.23524,     0.23624,     0.23724,     0.23824,     0.23924,\n",
       "           0.24024,     0.24124,     0.24224,     0.24324,     0.24424,     0.24525,     0.24625,     0.24725,     0.24825,     0.24925,     0.25025,     0.25125,     0.25225,     0.25325,     0.25425,     0.25526,     0.25626,     0.25726,     0.25826,     0.25926,     0.26026,     0.26126,     0.26226,     0.26326,\n",
       "           0.26426,     0.26527,     0.26627,     0.26727,     0.26827,     0.26927,     0.27027,     0.27127,     0.27227,     0.27327,     0.27427,     0.27528,     0.27628,     0.27728,     0.27828,     0.27928,     0.28028,     0.28128,     0.28228,     0.28328,     0.28428,     0.28529,     0.28629,     0.28729,\n",
       "           0.28829,     0.28929,     0.29029,     0.29129,     0.29229,     0.29329,     0.29429,      0.2953,      0.2963,      0.2973,      0.2983,      0.2993,      0.3003,      0.3013,      0.3023,      0.3033,      0.3043,     0.30531,     0.30631,     0.30731,     0.30831,     0.30931,     0.31031,     0.31131,\n",
       "           0.31231,     0.31331,     0.31431,     0.31532,     0.31632,     0.31732,     0.31832,     0.31932,     0.32032,     0.32132,     0.32232,     0.32332,     0.32432,     0.32533,     0.32633,     0.32733,     0.32833,     0.32933,     0.33033,     0.33133,     0.33233,     0.33333,     0.33433,     0.33534,\n",
       "           0.33634,     0.33734,     0.33834,     0.33934,     0.34034,     0.34134,     0.34234,     0.34334,     0.34434,     0.34535,     0.34635,     0.34735,     0.34835,     0.34935,     0.35035,     0.35135,     0.35235,     0.35335,     0.35435,     0.35536,     0.35636,     0.35736,     0.35836,     0.35936,\n",
       "           0.36036,     0.36136,     0.36236,     0.36336,     0.36436,     0.36537,     0.36637,     0.36737,     0.36837,     0.36937,     0.37037,     0.37137,     0.37237,     0.37337,     0.37437,     0.37538,     0.37638,     0.37738,     0.37838,     0.37938,     0.38038,     0.38138,     0.38238,     0.38338,\n",
       "           0.38438,     0.38539,     0.38639,     0.38739,     0.38839,     0.38939,     0.39039,     0.39139,     0.39239,     0.39339,     0.39439,      0.3954,      0.3964,      0.3974,      0.3984,      0.3994,      0.4004,      0.4014,      0.4024,      0.4034,      0.4044,     0.40541,     0.40641,     0.40741,\n",
       "           0.40841,     0.40941,     0.41041,     0.41141,     0.41241,     0.41341,     0.41441,     0.41542,     0.41642,     0.41742,     0.41842,     0.41942,     0.42042,     0.42142,     0.42242,     0.42342,     0.42442,     0.42543,     0.42643,     0.42743,     0.42843,     0.42943,     0.43043,     0.43143,\n",
       "           0.43243,     0.43343,     0.43443,     0.43544,     0.43644,     0.43744,     0.43844,     0.43944,     0.44044,     0.44144,     0.44244,     0.44344,     0.44444,     0.44545,     0.44645,     0.44745,     0.44845,     0.44945,     0.45045,     0.45145,     0.45245,     0.45345,     0.45445,     0.45546,\n",
       "           0.45646,     0.45746,     0.45846,     0.45946,     0.46046,     0.46146,     0.46246,     0.46346,     0.46446,     0.46547,     0.46647,     0.46747,     0.46847,     0.46947,     0.47047,     0.47147,     0.47247,     0.47347,     0.47447,     0.47548,     0.47648,     0.47748,     0.47848,     0.47948,\n",
       "           0.48048,     0.48148,     0.48248,     0.48348,     0.48448,     0.48549,     0.48649,     0.48749,     0.48849,     0.48949,     0.49049,     0.49149,     0.49249,     0.49349,     0.49449,      0.4955,      0.4965,      0.4975,      0.4985,      0.4995,      0.5005,      0.5015,      0.5025,      0.5035,\n",
       "            0.5045,     0.50551,     0.50651,     0.50751,     0.50851,     0.50951,     0.51051,     0.51151,     0.51251,     0.51351,     0.51451,     0.51552,     0.51652,     0.51752,     0.51852,     0.51952,     0.52052,     0.52152,     0.52252,     0.52352,     0.52452,     0.52553,     0.52653,     0.52753,\n",
       "           0.52853,     0.52953,     0.53053,     0.53153,     0.53253,     0.53353,     0.53453,     0.53554,     0.53654,     0.53754,     0.53854,     0.53954,     0.54054,     0.54154,     0.54254,     0.54354,     0.54454,     0.54555,     0.54655,     0.54755,     0.54855,     0.54955,     0.55055,     0.55155,\n",
       "           0.55255,     0.55355,     0.55455,     0.55556,     0.55656,     0.55756,     0.55856,     0.55956,     0.56056,     0.56156,     0.56256,     0.56356,     0.56456,     0.56557,     0.56657,     0.56757,     0.56857,     0.56957,     0.57057,     0.57157,     0.57257,     0.57357,     0.57457,     0.57558,\n",
       "           0.57658,     0.57758,     0.57858,     0.57958,     0.58058,     0.58158,     0.58258,     0.58358,     0.58458,     0.58559,     0.58659,     0.58759,     0.58859,     0.58959,     0.59059,     0.59159,     0.59259,     0.59359,     0.59459,      0.5956,      0.5966,      0.5976,      0.5986,      0.5996,\n",
       "            0.6006,      0.6016,      0.6026,      0.6036,      0.6046,     0.60561,     0.60661,     0.60761,     0.60861,     0.60961,     0.61061,     0.61161,     0.61261,     0.61361,     0.61461,     0.61562,     0.61662,     0.61762,     0.61862,     0.61962,     0.62062,     0.62162,     0.62262,     0.62362,\n",
       "           0.62462,     0.62563,     0.62663,     0.62763,     0.62863,     0.62963,     0.63063,     0.63163,     0.63263,     0.63363,     0.63463,     0.63564,     0.63664,     0.63764,     0.63864,     0.63964,     0.64064,     0.64164,     0.64264,     0.64364,     0.64464,     0.64565,     0.64665,     0.64765,\n",
       "           0.64865,     0.64965,     0.65065,     0.65165,     0.65265,     0.65365,     0.65465,     0.65566,     0.65666,     0.65766,     0.65866,     0.65966,     0.66066,     0.66166,     0.66266,     0.66366,     0.66466,     0.66567,     0.66667,     0.66767,     0.66867,     0.66967,     0.67067,     0.67167,\n",
       "           0.67267,     0.67367,     0.67467,     0.67568,     0.67668,     0.67768,     0.67868,     0.67968,     0.68068,     0.68168,     0.68268,     0.68368,     0.68468,     0.68569,     0.68669,     0.68769,     0.68869,     0.68969,     0.69069,     0.69169,     0.69269,     0.69369,     0.69469,      0.6957,\n",
       "            0.6967,      0.6977,      0.6987,      0.6997,      0.7007,      0.7017,      0.7027,      0.7037,      0.7047,     0.70571,     0.70671,     0.70771,     0.70871,     0.70971,     0.71071,     0.71171,     0.71271,     0.71371,     0.71471,     0.71572,     0.71672,     0.71772,     0.71872,     0.71972,\n",
       "           0.72072,     0.72172,     0.72272,     0.72372,     0.72472,     0.72573,     0.72673,     0.72773,     0.72873,     0.72973,     0.73073,     0.73173,     0.73273,     0.73373,     0.73473,     0.73574,     0.73674,     0.73774,     0.73874,     0.73974,     0.74074,     0.74174,     0.74274,     0.74374,\n",
       "           0.74474,     0.74575,     0.74675,     0.74775,     0.74875,     0.74975,     0.75075,     0.75175,     0.75275,     0.75375,     0.75475,     0.75576,     0.75676,     0.75776,     0.75876,     0.75976,     0.76076,     0.76176,     0.76276,     0.76376,     0.76476,     0.76577,     0.76677,     0.76777,\n",
       "           0.76877,     0.76977,     0.77077,     0.77177,     0.77277,     0.77377,     0.77477,     0.77578,     0.77678,     0.77778,     0.77878,     0.77978,     0.78078,     0.78178,     0.78278,     0.78378,     0.78478,     0.78579,     0.78679,     0.78779,     0.78879,     0.78979,     0.79079,     0.79179,\n",
       "           0.79279,     0.79379,     0.79479,      0.7958,      0.7968,      0.7978,      0.7988,      0.7998,      0.8008,      0.8018,      0.8028,      0.8038,      0.8048,     0.80581,     0.80681,     0.80781,     0.80881,     0.80981,     0.81081,     0.81181,     0.81281,     0.81381,     0.81481,     0.81582,\n",
       "           0.81682,     0.81782,     0.81882,     0.81982,     0.82082,     0.82182,     0.82282,     0.82382,     0.82482,     0.82583,     0.82683,     0.82783,     0.82883,     0.82983,     0.83083,     0.83183,     0.83283,     0.83383,     0.83483,     0.83584,     0.83684,     0.83784,     0.83884,     0.83984,\n",
       "           0.84084,     0.84184,     0.84284,     0.84384,     0.84484,     0.84585,     0.84685,     0.84785,     0.84885,     0.84985,     0.85085,     0.85185,     0.85285,     0.85385,     0.85485,     0.85586,     0.85686,     0.85786,     0.85886,     0.85986,     0.86086,     0.86186,     0.86286,     0.86386,\n",
       "           0.86486,     0.86587,     0.86687,     0.86787,     0.86887,     0.86987,     0.87087,     0.87187,     0.87287,     0.87387,     0.87487,     0.87588,     0.87688,     0.87788,     0.87888,     0.87988,     0.88088,     0.88188,     0.88288,     0.88388,     0.88488,     0.88589,     0.88689,     0.88789,\n",
       "           0.88889,     0.88989,     0.89089,     0.89189,     0.89289,     0.89389,     0.89489,      0.8959,      0.8969,      0.8979,      0.8989,      0.8999,      0.9009,      0.9019,      0.9029,      0.9039,      0.9049,     0.90591,     0.90691,     0.90791,     0.90891,     0.90991,     0.91091,     0.91191,\n",
       "           0.91291,     0.91391,     0.91491,     0.91592,     0.91692,     0.91792,     0.91892,     0.91992,     0.92092,     0.92192,     0.92292,     0.92392,     0.92492,     0.92593,     0.92693,     0.92793,     0.92893,     0.92993,     0.93093,     0.93193,     0.93293,     0.93393,     0.93493,     0.93594,\n",
       "           0.93694,     0.93794,     0.93894,     0.93994,     0.94094,     0.94194,     0.94294,     0.94394,     0.94494,     0.94595,     0.94695,     0.94795,     0.94895,     0.94995,     0.95095,     0.95195,     0.95295,     0.95395,     0.95495,     0.95596,     0.95696,     0.95796,     0.95896,     0.95996,\n",
       "           0.96096,     0.96196,     0.96296,     0.96396,     0.96496,     0.96597,     0.96697,     0.96797,     0.96897,     0.96997,     0.97097,     0.97197,     0.97297,     0.97397,     0.97497,     0.97598,     0.97698,     0.97798,     0.97898,     0.97998,     0.98098,     0.98198,     0.98298,     0.98398,\n",
       "           0.98498,     0.98599,     0.98699,     0.98799,     0.98899,     0.98999,     0.99099,     0.99199,     0.99299,     0.99399,     0.99499,       0.996,       0.997,       0.998,       0.999,           1]), array([[    0.75759,     0.75759,     0.75723,     0.75691,     0.75666,     0.75646,      0.7563,     0.75622,     0.75611,     0.75597,     0.75587,     0.75583,     0.75575,     0.75572,     0.75568,     0.75564,     0.75558,     0.75554,     0.75548,     0.75545,     0.75541,     0.75539,     0.75534,\n",
       "            0.75531,     0.75527,     0.75524,     0.75519,     0.75514,     0.75512,     0.75507,     0.75504,       0.755,     0.75499,     0.75495,      0.7549,     0.75487,     0.75484,     0.75482,     0.75479,     0.75477,     0.75474,      0.7547,     0.75468,     0.75466,     0.75465,     0.75463,\n",
       "            0.75462,     0.75461,      0.7546,     0.75457,     0.75454,     0.75451,     0.75449,     0.75446,     0.75444,     0.75442,      0.7544,     0.75439,     0.75438,     0.75436,     0.75433,      0.7543,     0.75428,     0.75426,     0.75425,     0.75423,      0.7542,     0.75419,     0.75416,\n",
       "            0.75416,     0.75414,     0.75413,     0.75412,      0.7541,     0.75408,     0.75406,     0.75405,     0.75404,     0.75399,     0.75399,     0.75397,     0.75395,     0.75392,      0.7539,     0.75388,     0.75386,     0.75385,     0.75381,      0.7538,     0.75377,     0.75376,     0.75374,\n",
       "            0.75374,     0.75372,     0.75369,     0.75368,     0.75366,     0.75364,      0.7536,     0.75359,     0.75357,     0.75352,      0.7535,     0.75348,     0.75347,     0.75343,     0.75342,     0.75341,     0.75339,     0.75334,     0.75332,      0.7533,     0.75328,     0.75325,     0.75324,\n",
       "            0.75323,     0.75323,     0.75322,      0.7532,     0.75319,     0.75318,     0.75317,     0.75315,     0.75311,     0.75311,     0.75308,     0.75307,     0.75307,     0.75303,     0.75303,       0.753,     0.75299,     0.75299,     0.75298,     0.75295,     0.75293,      0.7529,     0.75289,\n",
       "            0.75288,     0.75288,     0.75287,     0.75285,     0.75283,     0.75282,     0.75281,     0.75279,     0.75279,     0.75275,     0.75273,     0.75272,      0.7527,     0.75269,     0.75268,     0.75266,     0.75265,     0.75264,     0.75261,      0.7526,      0.7526,     0.75259,     0.75258,\n",
       "            0.75256,     0.75254,      0.7525,     0.75249,     0.75247,     0.75244,     0.75244,     0.75243,     0.75241,     0.75241,     0.75239,     0.75237,     0.75236,     0.75233,     0.75231,     0.75228,     0.75226,     0.75224,     0.75224,     0.75222,      0.7522,     0.75219,     0.75217,\n",
       "            0.75215,     0.75213,     0.75212,     0.75209,     0.75209,     0.75209,     0.75209,     0.75209,     0.75206,     0.75201,       0.752,     0.75198,     0.75194,     0.75193,      0.7519,     0.75188,     0.75187,     0.75185,     0.75185,     0.75184,     0.75182,      0.7518,     0.75179,\n",
       "            0.75179,     0.75178,     0.75177,     0.75177,     0.75176,     0.75174,     0.75173,     0.75171,     0.75171,     0.75169,     0.75168,     0.75162,     0.75161,      0.7516,     0.75159,     0.75157,     0.75156,     0.75155,     0.75153,     0.75152,     0.75152,      0.7515,     0.75149,\n",
       "            0.75147,     0.75146,     0.75146,     0.75144,     0.75144,     0.75141,      0.7514,     0.75139,     0.75139,     0.75138,     0.75138,     0.75138,     0.75135,     0.75133,     0.75133,     0.75129,     0.75129,     0.75129,     0.75127,     0.75125,     0.75122,      0.7512,      0.7512,\n",
       "            0.75119,     0.75118,     0.75117,     0.75114,     0.75114,     0.75114,     0.75111,     0.75109,     0.75108,     0.75107,     0.75105,     0.75104,     0.75101,     0.75099,     0.75098,     0.75096,     0.75094,     0.75093,     0.75092,     0.75091,      0.7509,     0.75088,     0.75086,\n",
       "            0.75086,     0.75082,     0.75082,      0.7508,     0.75079,     0.75077,     0.75075,     0.75073,     0.75072,     0.75071,     0.75069,     0.75067,     0.75064,     0.75063,     0.75061,     0.75059,     0.75057,     0.75056,     0.75051,     0.75051,     0.75049,     0.75049,     0.75047,\n",
       "            0.75045,     0.75044,     0.75043,     0.75041,      0.7504,      0.7504,     0.75039,     0.75036,     0.75036,     0.75034,     0.75032,     0.75032,     0.75032,      0.7503,     0.75028,     0.75027,     0.75025,     0.75022,     0.75021,     0.75017,     0.75016,     0.75016,     0.75013,\n",
       "            0.75013,     0.75011,     0.75009,     0.75008,     0.75007,     0.75006,     0.75001,     0.74999,     0.74997,     0.74993,     0.74992,     0.74991,      0.7499,     0.74988,     0.74988,     0.74987,     0.74983,     0.74983,     0.74981,     0.74981,     0.74977,     0.74975,     0.74974,\n",
       "            0.74972,     0.74971,     0.74968,     0.74967,     0.74963,     0.74959,     0.74958,     0.74956,     0.74956,     0.74953,     0.74951,      0.7495,     0.74949,     0.74948,     0.74947,     0.74946,     0.74943,     0.74941,     0.74939,     0.74938,     0.74935,     0.74934,      0.7493,\n",
       "             0.7493,      0.7493,     0.74926,     0.74925,     0.74924,     0.74922,     0.74918,     0.74917,     0.74915,     0.74914,     0.74909,     0.74909,     0.74905,     0.74901,       0.749,     0.74895,     0.74894,     0.74892,     0.74891,      0.7489,     0.74889,     0.74886,     0.74883,\n",
       "            0.74882,     0.74878,     0.74878,     0.74876,     0.74874,     0.74871,     0.74869,     0.74866,     0.74865,     0.74863,     0.74861,     0.74859,     0.74858,     0.74855,     0.74853,     0.74847,     0.74842,     0.74841,     0.74838,     0.74838,     0.74835,     0.74834,     0.74832,\n",
       "             0.7483,     0.74828,     0.74825,     0.74821,     0.74819,     0.74813,     0.74811,     0.74807,     0.74804,     0.74798,     0.74795,     0.74792,     0.74791,      0.7479,     0.74786,     0.74783,      0.7478,     0.74778,     0.74774,     0.74771,     0.74768,     0.74768,     0.74766,\n",
       "            0.74765,     0.74761,     0.74758,     0.74756,     0.74755,     0.74754,     0.74751,     0.74748,     0.74747,     0.74744,     0.74743,      0.7474,     0.74737,     0.74732,     0.74727,     0.74725,     0.74719,     0.74717,     0.74712,     0.74712,     0.74709,     0.74708,     0.74703,\n",
       "            0.74701,     0.74697,     0.74697,      0.7469,     0.74688,     0.74686,     0.74685,     0.74679,     0.74676,     0.74672,      0.7467,     0.74665,     0.74664,     0.74662,     0.74661,     0.74656,     0.74653,     0.74649,     0.74649,     0.74644,     0.74641,     0.74639,     0.74636,\n",
       "            0.74634,     0.74629,     0.74627,     0.74621,     0.74618,     0.74614,     0.74613,     0.74609,     0.74608,     0.74604,     0.74602,     0.74597,     0.74595,     0.74593,     0.74592,     0.74587,     0.74586,     0.74583,     0.74582,     0.74576,     0.74572,     0.74568,     0.74565,\n",
       "             0.7456,     0.74557,     0.74551,     0.74548,     0.74541,     0.74538,     0.74531,      0.7453,     0.74524,      0.7452,     0.74517,     0.74517,     0.74514,     0.74511,     0.74506,     0.74503,     0.74501,       0.745,     0.74498,     0.74494,     0.74492,     0.74484,     0.74483,\n",
       "            0.74477,     0.74475,      0.7447,     0.74468,     0.74462,     0.74461,     0.74454,     0.74452,     0.74445,     0.74442,     0.74437,     0.74434,      0.7443,     0.74427,      0.7442,     0.74419,     0.74416,      0.7441,     0.74405,     0.74402,     0.74397,     0.74396,      0.7439,\n",
       "            0.74388,     0.74382,     0.74379,     0.74374,      0.7437,     0.74362,     0.74356,     0.74354,     0.74349,     0.74347,      0.7434,     0.74339,     0.74334,     0.74332,     0.74328,     0.74327,     0.74319,     0.74317,     0.74312,     0.74308,     0.74304,     0.74302,     0.74297,\n",
       "            0.74292,     0.74287,     0.74285,      0.7428,     0.74278,      0.7427,     0.74268,     0.74266,      0.7426,     0.74258,     0.74252,     0.74247,     0.74244,     0.74241,     0.74238,     0.74231,     0.74222,     0.74216,     0.74212,     0.74208,     0.74201,     0.74192,     0.74189,\n",
       "            0.74184,      0.7418,     0.74176,     0.74168,     0.74164,     0.74157,     0.74154,     0.74152,     0.74148,     0.74138,     0.74135,     0.74127,     0.74124,     0.74119,     0.74117,     0.74112,     0.74105,     0.74101,     0.74096,      0.7409,     0.74083,     0.74077,      0.7407,\n",
       "            0.74062,     0.74057,     0.74055,     0.74052,     0.74045,      0.7404,     0.74035,     0.74031,     0.74025,      0.7402,     0.74016,     0.74005,     0.73999,     0.73996,     0.73987,     0.73978,     0.73971,     0.73967,     0.73957,     0.73946,     0.73941,     0.73936,      0.7393,\n",
       "            0.73924,     0.73917,     0.73911,     0.73904,     0.73895,     0.73882,     0.73876,     0.73871,     0.73867,     0.73861,     0.73855,     0.73848,     0.73837,     0.73832,     0.73821,     0.73815,     0.73806,     0.73801,     0.73789,     0.73782,     0.73775,     0.73766,     0.73759,\n",
       "            0.73753,     0.73751,     0.73745,     0.73731,     0.73726,     0.73715,     0.73707,     0.73699,     0.73687,     0.73681,     0.73668,     0.73662,     0.73654,      0.7364,      0.7363,     0.73622,     0.73615,     0.73606,     0.73601,      0.7359,     0.73574,     0.73569,     0.73562,\n",
       "            0.73554,     0.73545,     0.73536,     0.73519,     0.73506,     0.73493,     0.73481,     0.73475,     0.73455,     0.73447,     0.73436,     0.73428,      0.7342,     0.73414,     0.73402,     0.73388,      0.7338,     0.73369,     0.73365,     0.73353,      0.7334,     0.73332,     0.73319,\n",
       "            0.73311,     0.73297,     0.73273,     0.73266,     0.73254,     0.73242,     0.73219,     0.73206,      0.7319,     0.73185,     0.73169,     0.73158,     0.73137,     0.73123,     0.73112,     0.73091,      0.7308,     0.73071,     0.73057,     0.73031,     0.73017,     0.73007,     0.72993,\n",
       "            0.72964,      0.7295,     0.72942,     0.72925,     0.72903,     0.72884,     0.72873,     0.72857,     0.72833,     0.72824,     0.72803,     0.72777,      0.7277,     0.72754,     0.72725,     0.72716,     0.72701,     0.72672,     0.72663,     0.72648,     0.72613,     0.72599,     0.72564,\n",
       "            0.72542,      0.7251,       0.725,     0.72465,     0.72444,       0.724,     0.72391,      0.7237,     0.72328,     0.72316,      0.7228,     0.72249,     0.72238,     0.72193,     0.72162,     0.72112,     0.72098,     0.72067,     0.72023,     0.72011,     0.71959,     0.71909,     0.71879,\n",
       "            0.71827,     0.71814,     0.71766,     0.71724,     0.71673,     0.71658,     0.71613,      0.7157,     0.71514,     0.71503,      0.7144,     0.71386,     0.71323,     0.71304,     0.71237,     0.71178,     0.71128,     0.71072,     0.71005,     0.70937,     0.70921,     0.70855,     0.70797,\n",
       "            0.70721,     0.70636,     0.70618,     0.70544,     0.70474,     0.70386,     0.70304,     0.70284,      0.7019,     0.70101,     0.70029,     0.69925,     0.69825,       0.698,     0.69688,     0.69492,     0.69466,     0.69342,     0.69223,     0.69112,      0.6899,     0.68878,     0.68751,\n",
       "             0.6873,     0.68617,      0.6848,      0.6833,     0.68193,     0.68048,     0.67894,     0.67728,      0.6756,     0.67412,     0.67385,     0.67203,     0.66883,     0.66709,     0.66524,     0.66325,     0.66151,     0.65951,     0.65913,     0.65711,     0.65506,     0.65295,     0.65078,\n",
       "            0.64869,     0.64632,     0.64391,     0.64154,     0.63932,     0.63694,      0.6344,     0.63205,     0.62952,     0.62442,     0.62139,     0.61868,     0.61587,     0.61315,     0.61022,     0.60733,     0.60423,     0.59848,     0.59518,     0.59209,     0.58844,     0.58448,      0.5811,\n",
       "            0.57764,      0.5738,     0.56601,     0.56122,     0.55662,     0.55134,     0.54244,     0.53691,     0.53138,     0.52552,     0.51328,     0.50657,     0.49851,     0.49128,     0.47702,     0.46908,     0.46019,     0.44373,     0.43466,     0.42489,     0.41609,     0.39854,     0.38897,\n",
       "            0.37174,     0.36302,     0.35369,     0.33654,      0.3215,     0.31293,      0.2983,     0.29062,     0.27728,     0.27058,     0.26325,     0.25074,     0.23805,     0.23095,     0.21943,     0.21295,     0.20242,      0.1962,     0.18607,     0.17506,     0.16949,     0.16018,      0.1509,\n",
       "            0.14139,     0.13261,     0.12398,     0.11909,     0.11107,     0.10445,    0.096805,    0.090019,    0.083166,    0.079168,    0.072648,    0.067092,    0.061557,    0.056385,    0.051495,    0.047256,    0.041546,     0.03801,     0.03477,    0.031449,     0.02803,    0.025544,    0.023842,\n",
       "           0.021997,    0.020505,    0.019285,    0.018362,    0.017357,    0.016706,    0.015952,    0.015337,    0.014676,    0.014148,    0.013783,    0.013209,    0.012881,    0.012455,    0.011958,    0.011578,    0.011107,    0.010307,   0.0098452,   0.0091838,   0.0084967,   0.0075739,   0.0065896,\n",
       "          0.0057693,   0.0052155,   0.0043029,   0.0035134,   0.0026726,   0.0017857,   0.0012216,  0.00077546,  0.00052407,  0.00037518,  0.00025704,  0.00016453,  0.00012839,  8.7135e-05,   5.369e-05,   3.306e-05,  1.2431e-05,           0,           0,           0,           0,           0,           0,\n",
       "                  0,           0,           0,           0,           0,           0,           0,           0,           0,           0,           0]]), 'Confidence', 'Recall']]\n",
       "fitness: 0.748986809745972\n",
       "keys: ['metrics/precision(B)', 'metrics/recall(B)', 'metrics/mAP50(B)', 'metrics/mAP50-95(B)']\n",
       "maps: array([    0.74133,     0.74133,     0.74133,     0.74133,     0.74133,     0.74133,     0.74133])\n",
       "names: {0: 'inclined_tables', 1: 'curved_tables', 2: 'occluded_tables', 3: 'extreme_aspect_ratio_tables', 4: 'overlaid_tables', 5: 'multi_color_tables', 6: 'irregular_tables'}\n",
       "plot: True\n",
       "results_dict: {'metrics/precision(B)': 0.9758983201778426, 'metrics/recall(B)': 0.7475137942705122, 'metrics/mAP50(B)': 0.8178664405978491, 'metrics/mAP50-95(B)': 0.7413335174290967, 'fitness': 0.748986809745972}\n",
       "save_dir: PosixPath('runs/detect/train')\n",
       "speed: {'preprocess': 0.16777200331673042, 'inference': 17.573772930577938, 'loss': 0.0009433784048217392, 'postprocess': 1.360000730429182}\n",
       "task: 'detect'"
      ]
     },
     "execution_count": 5,
     "metadata": {},
     "output_type": "execute_result"
    }
   ],
   "source": [
    "model = YOLO(\"yolov8l.pt\")\n",
    "model.train(data=\"/kaggle/working/yolov8.yaml\", epochs=25, batch=8)"
   ]
  }
 ],
 "metadata": {
  "kaggle": {
   "accelerator": "gpu",
   "dataSources": [
    {
     "datasetId": 4464021,
     "sourceId": 7656506,
     "sourceType": "datasetVersion"
    }
   ],
   "dockerImageVersionId": 30648,
   "isGpuEnabled": true,
   "isInternetEnabled": true,
   "language": "python",
   "sourceType": "notebook"
  },
  "kernelspec": {
   "display_name": "Python 3",
   "language": "python",
   "name": "python3"
  },
  "language_info": {
   "codemirror_mode": {
    "name": "ipython",
    "version": 3
   },
   "file_extension": ".py",
   "mimetype": "text/x-python",
   "name": "python",
   "nbconvert_exporter": "python",
   "pygments_lexer": "ipython3",
   "version": "3.10.13"
  },
  "papermill": {
   "default_parameters": {},
   "duration": 13189.873702,
   "end_time": "2024-02-19T19:34:37.077019",
   "environment_variables": {},
   "exception": null,
   "input_path": "__notebook__.ipynb",
   "output_path": "__notebook__.ipynb",
   "parameters": {},
   "start_time": "2024-02-19T15:54:47.203317",
   "version": "2.5.0"
  }
 },
 "nbformat": 4,
 "nbformat_minor": 5
}
